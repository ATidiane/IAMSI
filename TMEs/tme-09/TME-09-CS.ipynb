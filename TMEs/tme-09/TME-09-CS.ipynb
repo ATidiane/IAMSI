{
 "cells": [
  {
   "cell_type": "markdown",
   "metadata": {},
   "source": [
    "IAMSI -- 2017-2018\n",
    "--------\n",
    "*&copy;Equipe pédagogique IAMSI'2018*\n",
    "\n",
    "\n",
    "# TME 09 : Règles d'association"
   ]
  },
  {
   "cell_type": "markdown",
   "metadata": {},
   "source": [
    "<font size=\"+1\">**[Q]**</font> **Indiquer dans la boîte ci-dessous vos noms et prénoms :**"
   ]
  },
  {
   "cell_type": "markdown",
   "metadata": {},
   "source": [
    "Chitora SHINDO"
   ]
  },
  {
   "cell_type": "markdown",
   "metadata": {},
   "source": [
    "## Présentation"
   ]
  },
  {
   "cell_type": "markdown",
   "metadata": {},
   "source": [
    "### But de ce TME\n",
    "\n",
    "Ce TME a pour but de réaliser une implémentation *intuitive* de l'algorithme **apriori** afin de la comparer à une version efficace de cet algorithme, puis à une implémentation de l'algorithme **fp-growth**.\n"
   ]
  },
  {
   "cell_type": "markdown",
   "metadata": {},
   "source": [
    "#### Compte-rendu de la séance\n",
    "\n",
    "Le compte-rendu de ce TME se compose de ce fichier ipython complété par les réponses aux questions posées.\n",
    "\n",
    "Ce compte-rendu est à poster : \n",
    "- à l'issue de la séance, un premier envoi doit être **obligatoirement** fait avec ce que vous avez réalisé\n",
    "- si nécessaire, un second envoi peut être fait **au plus tard avant le début de la prochaine séance**.\n"
   ]
  },
  {
   "cell_type": "markdown",
   "metadata": {},
   "source": [
    "<font color=\"RED\">IMPORTANT: soumission de votre fichier final</font>\n",
    "\n",
    "**Nom à donner au fichier à poster** : *Nom1_Nom2.ipynb* \n",
    "- *Nom1* et *Nom2* : noms des membres du binôme\n",
    "- ne pas compresser ou faire une archive: envoyez le fichier ipython tel quel, éventuellement, si vous avez d'autres fichiers à envoyer, les  joindre au message."
   ]
  },
  {
   "cell_type": "markdown",
   "metadata": {},
   "source": [
    "#### A télécharger\n",
    "\n",
    "Avant de commencer, télécharger l'archive **tme-09.tgz** à l'adresse indiquée.\n",
    "\n",
    "Une fois détarée, cette archive crée un répertoire contenant :\n",
    "- deux fichiers exécutables (Linux): *apriori32* et *fpgrowth32* (ces 2 programmes ont été développés par Christian Borgelt, chercheur au ``European Center of Soft Computing\" , plus d'infos sur sa page web  http://www.borgelt.net/software.html). Ces programmes seront utilisés en fin de séance.\n",
    "- un répertoire *datasets* contenant des bases d'exemples pour tester les algorithmes\n",
    "- ce fichier ipython notebook que vous lisez en ce moment et que vous allez compléter.\n",
    "\n"
   ]
  },
  {
   "cell_type": "markdown",
   "metadata": {},
   "source": [
    "## Traitement d'une base d'apprentissage\n",
    "\n",
    "### Chargement de la base\n",
    "\n",
    "On commence par travailler sur la base exemple du fichier \"*exemple-1.txt*\" (fourni dans le répertoire datasets). \n",
    "\n",
    "Ce fichier contient une transaction par ligne. Chaque transaction est composée d'un groupe d'items séparés par un espace.\n",
    "\n",
    "On peut charger en Python ce fichier par la commande suivante (le répertoire datasets doit se trouver dans le répertoire courant) :"
   ]
  },
  {
   "cell_type": "code",
   "execution_count": 1,
   "metadata": {},
   "outputs": [
    {
     "name": "stdout",
     "output_type": "stream",
     "text": [
      "ligne 1 : ['a', 'b', 'c']\n",
      "ligne 2 : ['a', 'd', 'e']\n",
      "ligne 3 : ['b', 'c', 'd']\n",
      "ligne 4 : ['a', 'b', 'c', 'd']\n",
      "ligne 5 : ['b', 'c']\n",
      "ligne 6 : ['a', 'b', 'd']\n",
      "ligne 7 : ['d', 'e']\n",
      "ligne 8 : ['a', 'b', 'c', 'd']\n",
      "ligne 9 : ['c', 'd', 'e']\n",
      "ligne 10 : ['a', 'b', 'c']\n"
     ]
    }
   ],
   "source": [
    "import csv\n",
    "with open('datasets/exemple-1.txt', 'r') as fichier:\n",
    "    lecteur = csv.reader(fichier, delimiter=' ')\n",
    "    i = 0\n",
    "    for ligne in lecteur:\n",
    "        i += 1\n",
    "        print('ligne',i,':',ligne)"
   ]
  },
  {
   "cell_type": "markdown",
   "metadata": {},
   "source": [
    "<font size=\"+1\">**[Q]**</font> Ecrire la fonction <code>chargeBase</code> qui prend en argument un nom de fichier, respectant le format énoncé plus haut, le lit et rend un dictionnaire dont les clés sont les numéros de ligne (une transaction) et les valeurs associées les itemsets correspondants représentés sous forme d'ensembles Python (des <code>set()</code> donc).\n",
    "\n",
    "Ici, il est plus intéressant de représenter un itemset comme un ensemble d'items plutôt que comme une liste. Il sera ainsi plus facile de réaliser des comparaisons d'ensembles ou des ajouts d'éléments.\n",
    "\n",
    "Dans le reste de ce document, on appelle **BASE** un dictionnaire de ce type."
   ]
  },
  {
   "cell_type": "code",
   "execution_count": 2,
   "metadata": {
    "collapsed": true
   },
   "outputs": [],
   "source": [
    "def chargeBase(fname):\n",
    "    res=dict()\n",
    "    with open(fname, 'r') as fichier:\n",
    "        lecteur = csv.reader(fichier, delimiter=' ')\n",
    "        i = 0\n",
    "        for ligne in lecteur:\n",
    "            i += 1\n",
    "            E={l for l in ligne}\n",
    "            res[i]=E\n",
    "            \n",
    "    return res    "
   ]
  },
  {
   "cell_type": "code",
   "execution_count": 3,
   "metadata": {},
   "outputs": [
    {
     "name": "stdout",
     "output_type": "stream",
     "text": [
      "Résultat du chargement de 'exemple-1.txt', on obtient : \n"
     ]
    },
    {
     "data": {
      "text/plain": [
       "{1: {'a', 'b', 'c'},\n",
       " 2: {'a', 'd', 'e'},\n",
       " 3: {'b', 'c', 'd'},\n",
       " 4: {'a', 'b', 'c', 'd'},\n",
       " 5: {'b', 'c'},\n",
       " 6: {'a', 'b', 'd'},\n",
       " 7: {'d', 'e'},\n",
       " 8: {'a', 'b', 'c', 'd'},\n",
       " 9: {'c', 'd', 'e'},\n",
       " 10: {'a', 'b', 'c'}}"
      ]
     },
     "execution_count": 3,
     "metadata": {},
     "output_type": "execute_result"
    }
   ],
   "source": [
    "print(\"Résultat du chargement de 'exemple-1.txt', on obtient : \")\n",
    "Base1 = chargeBase('datasets/exemple-1.txt')\n",
    "Base1"
   ]
  },
  {
   "cell_type": "code",
   "execution_count": 4,
   "metadata": {},
   "outputs": [
    {
     "data": {
      "text/plain": [
       "{1: {'a', 'b', 'c'},\n",
       " 2: {'a', 'd', 'e'},\n",
       " 3: {'b', 'c', 'd'},\n",
       " 4: {'a', 'b', 'c', 'd'},\n",
       " 5: {'b', 'c'},\n",
       " 6: {'a', 'b', 'd'},\n",
       " 7: {'d', 'e'},\n",
       " 8: {'a', 'b', 'c', 'd'},\n",
       " 9: {'c', 'd', 'e'},\n",
       " 10: {'a', 'b', 'c'}}"
      ]
     },
     "execution_count": 4,
     "metadata": {},
     "output_type": "execute_result"
    }
   ],
   "source": [
    "Base1= chargeBase('datasets/exemple-1.txt')\n",
    "Base1"
   ]
  },
  {
   "cell_type": "markdown",
   "metadata": {},
   "source": [
    "On utilise la variable **Base1** dans la suite pour faire référence à cette base."
   ]
  },
  {
   "cell_type": "markdown",
   "metadata": {},
   "source": [
    "## Itemsets et support"
   ]
  },
  {
   "cell_type": "markdown",
   "metadata": {},
   "source": [
    "<font size=\"+1\">**[Q]**</font> Ecrire la fonction <code>noms_items</code> qui prend en argument une BASE et rend l'ensemble des items qui composent cette base."
   ]
  },
  {
   "cell_type": "code",
   "execution_count": 5,
   "metadata": {
    "collapsed": true
   },
   "outputs": [],
   "source": [
    "def noms_items(base):\n",
    "    E=set()\n",
    "    for i in base:\n",
    "        E|=base[i]\n",
    "        \n",
    "    return E\n"
   ]
  },
  {
   "cell_type": "code",
   "execution_count": 6,
   "metadata": {},
   "outputs": [
    {
     "name": "stdout",
     "output_type": "stream",
     "text": [
      "Pour la BASE précédente :\n"
     ]
    },
    {
     "data": {
      "text/plain": [
       "{'a', 'b', 'c', 'd', 'e'}"
      ]
     },
     "execution_count": 6,
     "metadata": {},
     "output_type": "execute_result"
    }
   ],
   "source": [
    "print(\"Pour la BASE précédente :\")\n",
    "noms_items(Base1)"
   ]
  },
  {
   "cell_type": "code",
   "execution_count": 7,
   "metadata": {},
   "outputs": [
    {
     "data": {
      "text/plain": [
       "{'a', 'b', 'c', 'd', 'e'}"
      ]
     },
     "execution_count": 7,
     "metadata": {},
     "output_type": "execute_result"
    }
   ],
   "source": [
    "noms_items(Base1)"
   ]
  },
  {
   "cell_type": "markdown",
   "metadata": {},
   "source": [
    "<font size=\"+1\">**[Q]**</font> Ecrire la fonction <code>singletons</code> qui prend en argument une BASE et rend la liste des itemsets de taille 1 obtenus à partir de cette base.\n",
    "\n",
    "Remarque: attention, ici on utilise une **liste** pour stocker les itemsets (un itemset est un ensemble Python) car il n'est pas possible en Python de créer des ensembles d'ensembles.\n"
   ]
  },
  {
   "cell_type": "code",
   "execution_count": 8,
   "metadata": {
    "collapsed": true
   },
   "outputs": [],
   "source": [
    "def singletons(base):\n",
    "    res=[]\n",
    "    E=noms_items(base)\n",
    "    for i in E:\n",
    "        res.append({i})\n",
    "    return res\n",
    "\n"
   ]
  },
  {
   "cell_type": "code",
   "execution_count": 9,
   "metadata": {},
   "outputs": [
    {
     "data": {
      "text/plain": [
       "[{'a'}, {'b'}, {'d'}, {'c'}, {'e'}]"
      ]
     },
     "execution_count": 9,
     "metadata": {},
     "output_type": "execute_result"
    }
   ],
   "source": [
    "singletons(Base1)"
   ]
  },
  {
   "cell_type": "code",
   "execution_count": 10,
   "metadata": {},
   "outputs": [
    {
     "name": "stdout",
     "output_type": "stream",
     "text": [
      "Exemple: singletons(Base1) rend :\n"
     ]
    },
    {
     "data": {
      "text/plain": [
       "[{'a'}, {'b'}, {'d'}, {'c'}, {'e'}]"
      ]
     },
     "execution_count": 10,
     "metadata": {},
     "output_type": "execute_result"
    }
   ],
   "source": [
    "print(\"Exemple: singletons(Base1) rend :\")\n",
    "singletons(Base1)"
   ]
  },
  {
   "cell_type": "markdown",
   "metadata": {},
   "source": [
    "<font size=\"+1\">**[Q]**</font> Ecrire la fonction <code>comptage</code> qui, pour une BASE et un itemset donnés, rend le nombre de transactions de BASE qui contiennent cet itemset."
   ]
  },
  {
   "cell_type": "code",
   "execution_count": null,
   "metadata": {},
   "outputs": [],
   "source": []
  },
  {
   "cell_type": "code",
   "execution_count": 11,
   "metadata": {
    "collapsed": true
   },
   "outputs": [],
   "source": [
    "def comptage(base,itemset):\n",
    "    res=0\n",
    "    for i in base:\n",
    "        if itemset<=base[i]:\n",
    "            res+=1\n",
    "    return res\n"
   ]
  },
  {
   "cell_type": "code",
   "execution_count": 12,
   "metadata": {},
   "outputs": [
    {
     "data": {
      "text/plain": [
       "4"
      ]
     },
     "execution_count": 12,
     "metadata": {},
     "output_type": "execute_result"
    }
   ],
   "source": [
    "comptage(Base1,{'a','b','c'})"
   ]
  },
  {
   "cell_type": "markdown",
   "metadata": {},
   "source": [
    "<font size=\"+1\">**[Q]**</font> Ecrire la fonction <code>support</code> qui, pour une BASE et un itemset donnés, rend le support de cet itemset dans la BASE."
   ]
  },
  {
   "cell_type": "code",
   "execution_count": null,
   "metadata": {},
   "outputs": [],
   "source": []
  },
  {
   "cell_type": "code",
   "execution_count": 13,
   "metadata": {
    "collapsed": true
   },
   "outputs": [],
   "source": [
    "def support(base,itemset):\n",
    "    n=comptage(base,itemset)\n",
    "    return float(n)/float(len(base))"
   ]
  },
  {
   "cell_type": "code",
   "execution_count": 14,
   "metadata": {},
   "outputs": [
    {
     "data": {
      "text/plain": [
       "0.4"
      ]
     },
     "execution_count": 14,
     "metadata": {},
     "output_type": "execute_result"
    }
   ],
   "source": [
    "support(Base1,{'a','b','c'})"
   ]
  },
  {
   "cell_type": "markdown",
   "metadata": {},
   "source": [
    "## Implémentation de l'algorithme a-priori\n",
    "\n",
    "Dans cette partie, une implémentation de la partie de construction des itemsets fréquents de l'algorithme a-priori est réalisée. On ne s'intéresse pas dans cette question à la génération des règles d'association (mais cela peut être fait en complément).\n",
    "\n",
    "Votre programme doit pouvoir s'appliquer aux bases fournies dans le répertoire *datasets* (éventuellement, sur au moins les 10 premiers exemples de la base mushrooms)."
   ]
  },
  {
   "cell_type": "markdown",
   "metadata": {},
   "source": [
    "<font size=\"+1\">**[Q]**</font> Ecrire la fonction <code>apriori_gen</code> qui prend en argument une liste d'itemsets de même longueur $k$, applique l'algorithme apriori-gen pour rendre la liste des itemsets candidats de longueurs $k+1$.\n"
   ]
  },
  {
   "cell_type": "code",
   "execution_count": null,
   "metadata": {},
   "outputs": [],
   "source": []
  },
  {
   "cell_type": "code",
   "execution_count": 30,
   "metadata": {
    "collapsed": true
   },
   "outputs": [],
   "source": [
    "def apriori_gen(F):\n",
    "    res=[]\n",
    "    liste=F[:]\n",
    "    while (liste):\n",
    "        E=liste.pop(0)\n",
    "        print(\"liste\",liste)\n",
    "        print(\"E\", E)\n",
    "        print([E|l for l in liste])\n",
    "        for i in [E|l for l in liste]:\n",
    "            if len(i)==len(E)+1 and i not in res and inF(i,F):\n",
    "                res.append(i)\n",
    "    return res\n",
    "\n",
    "def inF(c,F):\n",
    "    for i in c:\n",
    "        print(\"What inF does\", c, {i}, c-{i})\n",
    "        if c-{i} not in F:\n",
    "            return False\n",
    "    return True"
   ]
  },
  {
   "cell_type": "code",
   "execution_count": 31,
   "metadata": {},
   "outputs": [
    {
     "name": "stdout",
     "output_type": "stream",
     "text": [
      "liste [{'a', 'd'}, {'b', 'd'}, {'b', 'c'}, {'c', 'd'}]\n",
      "E {'b', 'a'}\n",
      "[{'b', 'a', 'd'}, {'b', 'a', 'd'}, {'b', 'a', 'c'}, {'b', 'a', 'c', 'd'}]\n",
      "What inF does {'b', 'a', 'd'} {'b'} {'a', 'd'}\n",
      "What inF does {'b', 'a', 'd'} {'a'} {'b', 'd'}\n",
      "What inF does {'b', 'a', 'd'} {'d'} {'b', 'a'}\n",
      "What inF does {'b', 'a', 'c'} {'b'} {'a', 'c'}\n",
      "liste [{'b', 'd'}, {'b', 'c'}, {'c', 'd'}]\n",
      "E {'a', 'd'}\n",
      "[{'b', 'a', 'd'}, {'b', 'a', 'c', 'd'}, {'a', 'c', 'd'}]\n",
      "What inF does {'a', 'c', 'd'} {'a'} {'c', 'd'}\n",
      "What inF does {'a', 'c', 'd'} {'c'} {'a', 'd'}\n",
      "What inF does {'a', 'c', 'd'} {'d'} {'a', 'c'}\n",
      "liste [{'b', 'c'}, {'c', 'd'}]\n",
      "E {'b', 'd'}\n",
      "[{'b', 'c', 'd'}, {'b', 'c', 'd'}]\n",
      "What inF does {'b', 'c', 'd'} {'b'} {'c', 'd'}\n",
      "What inF does {'b', 'c', 'd'} {'c'} {'b', 'd'}\n",
      "What inF does {'b', 'c', 'd'} {'d'} {'b', 'c'}\n",
      "liste [{'c', 'd'}]\n",
      "E {'b', 'c'}\n",
      "[{'b', 'c', 'd'}]\n",
      "liste []\n",
      "E {'c', 'd'}\n",
      "[]\n"
     ]
    },
    {
     "data": {
      "text/plain": [
       "[{'a', 'b', 'd'}, {'b', 'c', 'd'}]"
      ]
     },
     "execution_count": 31,
     "metadata": {},
     "output_type": "execute_result"
    }
   ],
   "source": [
    "apriori_gen([{'a', 'b'}, {'a', 'd'}, {'b', 'd'}, {'b', 'c'}, {'c', 'd'}])"
   ]
  },
  {
   "cell_type": "markdown",
   "metadata": {},
   "source": [
    "<font size=\"+1\">**[Q]**</font> Ecrire la fonction <code>apriori</code> qui prend en argument une BASE et une valeur réelle comprise entre 0 et 1, et qui rend une liste de tuples dont le premier élément et un itemset trouvé et le deuxième élément est la valeur de support correspondante."
   ]
  },
  {
   "cell_type": "code",
   "execution_count": null,
   "metadata": {},
   "outputs": [],
   "source": []
  },
  {
   "cell_type": "code",
   "execution_count": 17,
   "metadata": {},
   "outputs": [
    {
     "ename": "SyntaxError",
     "evalue": "Missing parentheses in call to 'print' (<ipython-input-17-7cad2e1687b6>, line 9)",
     "output_type": "error",
     "traceback": [
      "\u001b[0;36m  File \u001b[0;32m\"<ipython-input-17-7cad2e1687b6>\"\u001b[0;36m, line \u001b[0;32m9\u001b[0m\n\u001b[0;31m    print \"yolo\"\u001b[0m\n\u001b[0m               ^\u001b[0m\n\u001b[0;31mSyntaxError\u001b[0m\u001b[0;31m:\u001b[0m Missing parentheses in call to 'print'\n"
     ]
    }
   ],
   "source": [
    "def apriori(base, minsup):\n",
    "    res=[]\n",
    "    C=singletons(base)\n",
    "    F=[]\n",
    "    k=0\n",
    "    while(C):\n",
    "        k+=1\n",
    "        if k==20:\n",
    "            print \"yolo\"\n",
    "            return 0\n",
    "        Fk=[]\n",
    "        for c in C:\n",
    "            supp=support(base,c)\n",
    "            if supp>=minsup:\n",
    "                \n",
    "                Fk.append((c,supp))\n",
    "        C=apriori_gen([i[0] for i in Fk])\n",
    "        F.extend(Fk)\n",
    "    return F\n",
    "apriori(Base1, 0.3) "
   ]
  },
  {
   "cell_type": "code",
   "execution_count": null,
   "metadata": {},
   "outputs": [],
   "source": [
    "tmp2=[]\n",
    "for i in tmp:\n",
    "    if i not in tmp2:\n",
    "        tmp2.append(i)\n",
    "        \n",
    "print tmp2\n",
    "print apriori(Base1, 0.3) "
   ]
  },
  {
   "cell_type": "markdown",
   "metadata": {},
   "source": [
    "## Expérimentations"
   ]
  },
  {
   "cell_type": "markdown",
   "metadata": {},
   "source": [
    "### Vérification avec la base du TD\n",
    "\n",
    "Utilisez votre fonction <code>apriori</code> avec la base de transactions du TD afin de vérifier que vous obtenez les bons itemsets fréquents."
   ]
  },
  {
   "cell_type": "code",
   "execution_count": null,
   "metadata": {},
   "outputs": [],
   "source": [
    "Base1\n",
    "BaseTD=dict()\n",
    "BaseTD[1]={'a','b','d','e'}\n",
    "BaseTD[2]={'b','c','d'}\n",
    "BaseTD[3]={'a','b','d','e'}\n",
    "BaseTD[4]={'a','c','d','e'}"
   ]
  },
  {
   "cell_type": "code",
   "execution_count": null,
   "metadata": {},
   "outputs": [],
   "source": [
    "print(\"Exemple: apriori(BaseTD, 0.3) rend \")\n",
    "print(apriori(BaseTD,0.3))"
   ]
  },
  {
   "cell_type": "markdown",
   "metadata": {},
   "source": [
    "### Comparaisons avec les implémentations apriori32 et fpgrowth"
   ]
  },
  {
   "cell_type": "markdown",
   "metadata": {},
   "source": [
    "<font size=\"+1\">**[Q]**</font> Tester votre programme sur les 3 bases données dans datasets et confronter vos résultats avec le programme *apriori32*."
   ]
  },
  {
   "cell_type": "code",
   "execution_count": null,
   "metadata": {},
   "outputs": [],
   "source": [
    "print apriori(chargeBase(\"datasets/titanic-red.txt\"),0.30)\n"
   ]
  },
  {
   "cell_type": "markdown",
   "metadata": {},
   "source": [
    "<font size=\"+1\">**[Q]**</font> Utiliser le programme *apriori32* pour générer des règles d'association (voir les différentes options en annexe) sur les différentes bases de données fournies. Tester différents seuils (support et confiance). "
   ]
  },
  {
   "cell_type": "code",
   "execution_count": null,
   "metadata": {
    "collapsed": true
   },
   "outputs": [],
   "source": []
  },
  {
   "cell_type": "markdown",
   "metadata": {},
   "source": [
    "<font size=\"+1\">**[Q]**</font>  Ajouter les deux mesures d'intérêt vues en TD (lift et RR) et afficher leurs valeurs pour chaque règle trouvée. Ajouter un argument au programme afin de pouvoir sélectionner une de ces mesures pour éliminer les règles inintéressantes.\n"
   ]
  },
  {
   "cell_type": "code",
   "execution_count": null,
   "metadata": {
    "collapsed": true
   },
   "outputs": [],
   "source": []
  },
  {
   "cell_type": "markdown",
   "metadata": {},
   "source": [
    "<font size=\"+1\">**[Q] (facultative)**</font>  Ajouter les deux mesures d'intérêt suivantes et afficher leurs valeurs\n",
    "  pour chaque règle trouvée. Ajouter un argument au programme afin de pouvoir sélectionner une de ces mesures pour éliminer les règles inintéressantes.\n",
    "  \n",
    "Par exemple:\n",
    "\n",
    "\\begin{align}\n",
    "  \\mbox{Interest}(X \\longrightarrow Y) & =  \\frac{P(X,Y)}{P(X)}P(Y) \\nonumber\\\\\n",
    " \\mbox{IS}(X \\longrightarrow Y) & =  \\frac{P(X,Y)}{\\sqrt{P(X)P(Y)}} \\nonumber\n",
    "\\end{align}"
   ]
  },
  {
   "cell_type": "markdown",
   "metadata": {},
   "source": [
    "### Utilisation de fp-growth"
   ]
  },
  {
   "cell_type": "markdown",
   "metadata": {},
   "source": [
    "<font size=\"+1\">**[Q]**</font>  Utiliser *fpgrowth32* pour générer des règles d'association sur les différentes\n",
    "  bases de données. Comparer avec les résultats obtenus dans la section précédente. En  particulier, comparer les temps d'éxecution."
   ]
  },
  {
   "cell_type": "code",
   "execution_count": null,
   "metadata": {
    "collapsed": true
   },
   "outputs": [],
   "source": []
  },
  {
   "cell_type": "markdown",
   "metadata": {},
   "source": [
    "<font size=\"+1\">**[Q]**</font> En essayant différentes valeurs de seuil, tester la génération de règles d'association intéressantes sur les bases de données fournies."
   ]
  },
  {
   "cell_type": "code",
   "execution_count": null,
   "metadata": {
    "collapsed": true
   },
   "outputs": [],
   "source": []
  },
  {
   "cell_type": "markdown",
   "metadata": {},
   "source": [
    "## Annexes: utilisation des programmes *apriori32* et *fpgrowth32*\n",
    "\n",
    "La documentation complète de ces programmes est disponible aux URL suivantes:\n",
    "- pour *apriori*: http://www.borgelt.net/doc/apriori/apriori.html\n",
    "- pour *fp-growth*: http://www.borgelt.net/doc/fpgrowth/fpgrowth.html\n",
    "\n",
    "\n",
    "Leur format d'utilisation général est:\n",
    "\n",
    "        ./<programme> [options] infile [outfile]\n",
    "\n",
    "(où <<code>programme</code>> est soit *apriori32*, soit *fpgrowth32*).\n",
    "\n",
    "Les options de base de ces 2 programmes sont:\n",
    "- sans argument: génération des itemsets fréquents (argument {<code>-ts</code> activé par défaut)\n",
    "- *tr*: pour obtenir les règles d'associations\n",
    "- *s*: pour fournir une valeur minimale de support. Le support est ici donné en valeur absolue ($n_{AB}$) et non pas en valeur relative ($\\frac{n_{AB}}{n}$).\n",
    "- *m*: pour fournir un nombre minimum d'items dans un itemset\n",
    "- *n*: pour fournir un nombre maximum d'items dans un itemset\n",
    "\n",
    "\n",
    "Par exemple (commandes lancées dans le répertoire père du répertoire *datasets/*):\n",
    "\n",
    "        ./apriori32 -trs50m2n5 datasets/exemple-1.txt fichier-resultat.out  \n",
    "        ./fpgrowth32 -trs50m2n5 datasets/mushrooms.txt fichier-resultat.out  \n"
   ]
  },
  {
   "cell_type": "code",
   "execution_count": null,
   "metadata": {
    "collapsed": true
   },
   "outputs": [],
   "source": []
  }
 ],
 "metadata": {
  "kernelspec": {
   "display_name": "Python 2",
   "language": "python",
   "name": "python2"
  },
  "language_info": {
   "codemirror_mode": {
    "name": "ipython",
    "version": 3
   },
   "file_extension": ".py",
   "mimetype": "text/x-python",
   "name": "python",
   "nbconvert_exporter": "python",
   "pygments_lexer": "ipython3",
   "version": "3.6.1"
  }
 },
 "nbformat": 4,
 "nbformat_minor": 1
}
