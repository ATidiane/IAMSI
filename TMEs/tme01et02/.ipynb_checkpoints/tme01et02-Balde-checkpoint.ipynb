{
 "cells": [
  {
   "cell_type": "markdown",
   "metadata": {},
   "source": [
    "IAMSI -- 2017-2018\n",
    "--------\n",
    "*&copy; Equipe pédagogique : Marie-Jeanne Lesot, Christophe Marsala, Gauvain Bourgne, Jean-Gabriel Ganascia, Colette Faucher.*"
   ]
  },
  {
   "cell_type": "markdown",
   "metadata": {},
   "source": [
    "# TME 1 et 2 : Jeu à 2 joueurs -  Programmation d'un joueur d'Awélé"
   ]
  },
  {
   "cell_type": "markdown",
   "metadata": {},
   "source": [
    "<font color=\"RED\" size=\"+1\">**[Q]**</font> **Indiquer dans la boîte ci-dessous vos noms et prénoms**"
   ]
  },
  {
   "cell_type": "markdown",
   "metadata": {},
   "source": [
    "*Ahmed Tidiane BALDE*"
   ]
  },
  {
   "cell_type": "markdown",
   "metadata": {},
   "source": [
    "<font color=\"RED\" size=\"+1\">**[Q]**</font> **Renommer ce fichier ipython**\n",
    "\n",
    "Tout en haut de cette page, cliquer sur <tt>tme01et02</tt> et rajouter à la suite de <tt>tme01et02</tt> les noms des membres du binômes séparés par un tiret.\n",
    "\n",
    "Par exemple, pour le binôme Luke Skywalker et Han Solo, le nom de fichier devient : <pre>tme01et02-Skywalker-Solo</pre>\n",
    "\n",
    "Penser à sauvegarder fréquemment le fichier en cours de travail :\n",
    "- soit en cliquant sur l'icône \"disquette\"\n",
    "- soit par la combinaison de touches [Ctrl]-S"
   ]
  },
  {
   "cell_type": "markdown",
   "metadata": {},
   "source": [
    "## Présentation"
   ]
  },
  {
   "cell_type": "markdown",
   "metadata": {},
   "source": [
    "### Objectifs des TME 1 et 2\n",
    "\n",
    "Le travail à réaliser est le suivant :\n",
    "- apprendre à utiliser ipython notebook\n",
    "- programmer en Python un joueur artificiel d'Awélé. Il peut être utile de commencer par prendre connaissance des règles du jeu\n",
    "  fournies en annexe à la fin de cette page (ne pas hésiter pas à faire quelques parties sur le site dont l'adresse est donnée).\n",
    "  \n",
    "*A noter* :  Il est autorisé d'écrire des fonctions auxiliaires permettant de simplifier l'écriture\n",
    "  de la fonction répondant à une question. Dans ce cas, ces fonctions doivent être dûment commentées et spécifiées.\n",
    "  "
   ]
  },
  {
   "cell_type": "markdown",
   "metadata": {},
   "source": [
    "#### Compte-rendu des séances de TME 1 et 2\n",
    "\n",
    "Le fichier ipython que vous remplissez ici fait office de compte-rendu pour ces 2 séances de TME.\n",
    "\n",
    "Il y a 2 envois à faire, par email, à votre enseignant de TD :\n",
    "- 1er compte-rendu : à l'issue de la première séance, envoyer ce qui a été réalisé lors de la séance.\n",
    "- 2e compte-rendu : à l'issue des deux séances, envoyer la version finale du travail réalisé durant les 2 séances.\n",
    "\n",
    "(optionnel) Un troisième envoi peut être fait, **au plus tard avant le début de la troisième séance de TD**, avec des compléments que vous aurez rajoutés après la deuxième séance de TME.\n",
    "\n"
   ]
  },
  {
   "cell_type": "markdown",
   "metadata": {},
   "source": [
    "### Grille de notation\n",
    "\n",
    "Le barème (indicatif) pour ces 2 séances de TME est le suivant :\n",
    "- implémentation correcte et effective du minimax : 10 sur 20\n",
    "- implémentation correcte et effective de l'alpha-bêta : 15 sur 20\n",
    "- implémentation d'améliorations ou d'extensions (``pour aller plus loin...'') : +0 à +3 points\n",
    "- programme commenté : -1 à +1 points\n",
    "- efficacité des fonctions :  -1 à +2 points\n",
    "\n",
    "La note finale ne dépassera pas 20."
   ]
  },
  {
   "cell_type": "markdown",
   "metadata": {},
   "source": [
    "## Apprendre à utiliser ipython notebook\n",
    "\n",
    "Ce document est dynamique: il est composé de \"boîtes\" qui peuvent être \"compilées\" par la commande \"Run Cells\" du menu \"Cell\" (ou bien en cliquant sur l'icône >| ou par la combinaison des touches [SHIFT][ENTREE]).\n",
    "\n",
    "Il y a **2 types principaux** de boîtes :\n",
    "- les boîtes \"Markdown\": tout ce qui est tapé dans ces boîtes est du texte qui sera rendu \"joliment\" après avoir été compilé. On peut y écrire des commandes en Latex pour définir des équations, et il reconnaît certaines balises HTML. En cliquant 2 fois dans une boîte Markdown compilée, on a accès à son contenu et on peut alors le modifier.\n",
    "- les boîtes \"Code\": dans ces boîtes, on écrit du code Python. La compilation de la boîte produit l'exécution de ce code Python et produit une boîte \"Out\" dans laquelle le résultat de la dernière commande est affiché. On peut y écrire tout code Python valide. Ce type de boîtes se reconnaît par \"In [n]\" inscrit à côté de leur coin haut gauche (\"n\" est un entier).\n",
    "\n",
    "Le type d'une boîte peut être modifié à l'aide du menu en haut de la page (juste au dessus du texte).\n",
    "\n",
    "L'icône \"+\" permet de créer une nouvelle boîte juste en dessous de la boîte active.\n",
    "\n",
    "L'icône avec les ciseaux permet d'effacer la boîte active (attention ! c'est **irréversible !**).\n",
    "\n",
    "Pour en savoir plus :\n",
    "- http://ipython.org/\n",
    "\n",
    "Vous pouvez aussi vous référer à la documentation Python:\n",
    "- https://www.python.org/\n",
    "\n",
    "\n",
    "Dans ce qui suit, les boîtes Markdown commençant par <font color=\"RED\" size=\"+1\">**[Q]**</font> posent des questions auxquelles il faut répondre dans la boîte qui suit directement (éventuellement, en créant des plusieurs nouvelles boîtes).\n",
    "Certaines des boîtes \"Code\" à remplir sont suivies d'une sortie \"Out[.]:\" qui montre un exemple de résultat attendu."
   ]
  },
  {
   "cell_type": "code",
   "execution_count": 2,
   "metadata": {},
   "outputs": [
    {
     "name": "stdout",
     "output_type": "stream",
     "text": [
      "Un essai quelconque :\n"
     ]
    },
    {
     "data": {
      "text/plain": [
       "5"
      ]
     },
     "execution_count": 2,
     "metadata": {},
     "output_type": "execute_result"
    }
   ],
   "source": [
    "# exemple de boîte de code :\n",
    "#    --> sélectionner cette boîte (en cliquant à l'intérieur)\n",
    "#    --> effectuer \"Run Cells\" du Menu \"Cell\" (ou bien cliquer sur l'icône >|)\n",
    "# \n",
    "\n",
    "print(\"Un essai quelconque :\")\n",
    "2+3\n"
   ]
  },
  {
   "cell_type": "markdown",
   "metadata": {},
   "source": [
    "#### Imports utilisés"
   ]
  },
  {
   "cell_type": "code",
   "execution_count": 3,
   "metadata": {
    "collapsed": true
   },
   "outputs": [],
   "source": [
    "import numpy as np\n",
    "import random \n",
    "import math\n",
    "import sys"
   ]
  },
  {
   "cell_type": "markdown",
   "metadata": {},
   "source": [
    "#### Variables globales"
   ]
  },
  {
   "cell_type": "code",
   "execution_count": 4,
   "metadata": {
    "collapsed": true
   },
   "outputs": [],
   "source": [
    "SUD, NORD = 'SUD', 'NORD'"
   ]
  },
  {
   "cell_type": "markdown",
   "metadata": {},
   "source": [
    "<font color=\"RED\" size=\"+1\">**[Q]**</font> Dans la boîte \"Code\" suivante, donner les instructions Python pour effectuer le calcul : \n",
    "$$-\\frac{1}{3}\\log_2(\\frac{1}{3})-\\frac{2}{3}\\log_2(\\frac{2}{3})$$\n",
    "\n",
    "Dont la valeur à trouver est :\n",
    "    0.9182958340544896"
   ]
  },
  {
   "cell_type": "code",
   "execution_count": 5,
   "metadata": {},
   "outputs": [
    {
     "data": {
      "text/plain": [
       "0.91829583405448956"
      ]
     },
     "execution_count": 5,
     "metadata": {},
     "output_type": "execute_result"
    }
   ],
   "source": [
    "-1/3*np.log2(1/3)-2/3*np.log2(2/3)"
   ]
  },
  {
   "cell_type": "markdown",
   "metadata": {},
   "source": [
    "**<font style=\"BACKGROUND-COLOR: lightgray\" color='red'> Important</font>** :\n",
    "en lisant ce texte sur votre ordinateur, pensez bien à exécuter les boîtes \"Code\" dans l'ordre de leur apparition. Toute la page se comporte comme une session Python unique et il pour exécuter certaines boîtes il est nécessaire que les précédentes aient été exécutées au préalable."
   ]
  },
  {
   "cell_type": "markdown",
   "metadata": {},
   "source": [
    "## Programmer un joueur d'Awélé"
   ]
  },
  {
   "cell_type": "markdown",
   "metadata": {},
   "source": [
    "### Structure de données"
   ]
  },
  {
   "cell_type": "markdown",
   "metadata": {},
   "source": [
    "Pour représenter une position d'Awélé en Python. Une *position* est définie par les éléments suivants :\n",
    "- une *taille*, en nombre de colonnes (dans l'Awélé original, il y a 6 colonnes). On note $n$ ce nombre de colonnes dans la suite de ce texte ;\n",
    "- un *tablier* qui correspond au plateau de jeu et donne le nombre de graines dans chaque case ;\n",
    "- le *trait* qui correspond au camp devant jouer dans la position donnée. Il y a\n",
    "  deux camps: \"NORD et \"SUD\" ;\n",
    "- les nombres de *graines* déjà ramassées par chacun des joueurs.\n",
    "\n",
    "\n",
    "En Python, une telle position est représentée en tant que dictionnaire qui associe à chaque nom de champ sa valeur.\n",
    "\n",
    "Dans ce qui suit, on distingue :\n",
    "- un coup *jouable* qui est un numéro de colonne correct (valeur comprise entre 1\n",
    "  et $n$), et pour lequel la case correspondante contient au moins une graine ;\n",
    "- un coup *autorisé* qui est un coup à la fois jouable et permettant d'atteindre\n",
    "  une position légale du jeu, c'est-à-dire une position qui respecte la règle obligeant à\n",
    "  laisser au moins une graine dans le camp de son adversaire."
   ]
  },
  {
   "cell_type": "markdown",
   "metadata": {},
   "source": [
    "** Représentation du tablier en Python**\n",
    "\n",
    "Pour représenter le tablier en Python, on utilise une liste d'entiers, chaque entier correspondant au nombre de graines dans une case. \n",
    "\n",
    "Soit un tablier de $n$ colonnes.\n",
    "\n",
    "Pour le camp SUD :\n",
    "- le nombre de graines de la case de la colonne 1 est stocké en position $0$ dans la liste Python ;\n",
    "- le nombre de graines de la case de la colonne  2 est stocké en position $1$ dans la liste Python ;\n",
    "- ...\n",
    "- le nombre de graines de la case de la colonne  $n$ est stocké en position $n-1$ dans la liste Python.\n",
    "\n",
    "Pour le camp NORD :\n",
    "- le nombre de graines de la case de la colonne  1 est stocké en position $2n-1$ dans la liste Python ;\n",
    "- le nombre de graines de la case de la colonne  2 est stocké en position $2n-2$ dans la liste Python ;\n",
    "- ...\n",
    "- le nombre de graines de la case de la colonne  $n$ est stocké en position $n$ dans la liste Python.\n",
    "\n",
    "(il est conseillé de faire un schéma pour bien comprendre).\n",
    "\n",
    "Cette représentation à l'avantage de favoriser le parcours des cases du tablier : en parcourant la liste par positions croissantes, on retrouve le parcours en sens inverse des aiguilles d'une montre. Ce parcours peut alors se faire en Python en incrémentant de 1 la position pour passer à la case suivante, et en réalisant un calcul modulo $2n$."
   ]
  },
  {
   "cell_type": "markdown",
   "metadata": {},
   "source": [
    "### Fonctions fournies"
   ]
  },
  {
   "cell_type": "markdown",
   "metadata": {},
   "source": [
    "Plusieurs fonctions sont fournies dans ce qui suit :\n",
    "- <tt>initialise(n)</tt> : pour définir la position initiale de l'Awélé. L'argument est un entier <tt>n</tt> qui donne le nombre de colonnes du tablier du jeu ;\n",
    "- <tt>affichePosition(position)</tt> : affichage de façon textuelle d'une position d'Awélé ;\n",
    "- <tt>clonePosition(position)</tt> : recopie d'une position (clonage) pour pouvoir y\n",
    "  apporter des modifications sans altérer la position originale ;\n",
    "- <tt>joueCoup(position,coup)</tt> : renvoie la position obtenue une fois le coup joué\n",
    "  dans la position donné. Cette fonction fait l'hypothèse que le coup donné est un coup\n",
    "  jouable et elle ne vérifie pas que la position résultante est bien une position légale\n",
    "  du jeu.\n"
   ]
  },
  {
   "cell_type": "code",
   "execution_count": 6,
   "metadata": {
    "collapsed": true
   },
   "outputs": [],
   "source": [
    "# - - - - - - - - - - - - - - - TYPES UTILISES\n",
    "# POSITION : dictionnaire non vide qui contient différentes informations sur\n",
    "#            une position d'Awélé, associées au nom de leur champ.\n",
    "# COUP : valeur entière comprise entre 1 et le nombre de colonnes du tablier\n",
    "#\n",
    "#\n",
    "# - - - - - - - - - - - - - - - INITIALISATION\n",
    "def initialise(n):\n",
    "    \"\"\" int -> POSITION\n",
    "        Hypothèse : n > 0\n",
    "        initialise la position de départ de l'awélé avec n colonnes avec 4 graines dans chaque case.\n",
    "    \"\"\"\n",
    "    position = dict()                                 # initialisation\n",
    "    position['tablier'] = [4 for k in range(0, 2*n)]  # on met 4 graines dans chaque case\n",
    "    position['taille'] = n                            # le nombre de colonnes du tablier\n",
    "    position['trait'] = 'SUD'                         # le joueur qui doit jouer: 'SUD' ou 'NORD'\n",
    "    position['graines'] = {'SUD':0, 'NORD':0}         # graines prises par chaque joueur\n",
    "    return position\n",
    "\n",
    "# - - - - - - - - - - - - - - - AFFICHAGE (TEXTE)\n",
    "def affichePosition(position):\n",
    "    \"\"\" POSITION ->\n",
    "        affiche la position de façon textuelle\n",
    "    \"\"\"\n",
    "    print('* * * * * * * * * * * * * * * * * * * *')\n",
    "    n = position['taille']\n",
    "    buffer = 'col:'\n",
    "    for i in range(0,n):\n",
    "        buffer += ' ' + str(i+1) + ' \\t'\n",
    "    print(buffer)\n",
    "    print('\\t\\tNORD (prises: '+str(position['graines']['NORD'])+')')\n",
    "    print('< - - - - - - - - - - - - - - -')\n",
    "    buffer = ''\n",
    "    for i in range(2*n-1,n-1,-1):   # indices n..(2n-1) pour les cases NORD\n",
    "        buffer += '\\t[' + str(position['tablier'][i]) + ']'\n",
    "    print(buffer)\n",
    "    buffer = ''\n",
    "    for i in range(0,n):            # indices 0..(n-1) pour les cases SUD\n",
    "        buffer += '\\t[' + str(position['tablier'][i]) + ']'\n",
    "    print(buffer)\n",
    "    print('- - - - - - - - - - - - - - - >')\n",
    "    print('\\t\\tSUD (prises: '+str(position['graines']['SUD'])+')')\n",
    "    print('-> camp au trait: '+position['trait']);\n",
    "\n",
    "# - - - - - - - - - - - - - - - CLONAGE\n",
    "import copy\n",
    "def clonePosition(position):\n",
    "    \"\"\" POSITION -> POSITION\n",
    "        retourne un clone de la position\n",
    "        (qui peut être alors modifié sans altérer l'original donc).\n",
    "    \"\"\"\n",
    "    leclone = dict()\n",
    "    leclone['tablier'] = copy.deepcopy(position['tablier'])\n",
    "    leclone['taille']  = position['taille']\n",
    "    leclone['trait']   = position['trait']\n",
    "    leclone['graines'] =  copy.deepcopy(position['graines'])\n",
    "    return leclone\n",
    "\n",
    "# - - - - - - - - - - - - - - - JOUE UN COUP\n",
    "def joueCoup(position,coup):\n",
    "    \"\"\" POSITION * COUP -> POSITION\n",
    "        Hypothèse: coup est jouable.\n",
    "\n",
    "        Cette fonction retourne la position obtenue une fois le coup joué.\n",
    "    \"\"\"\n",
    "    nouvelle_pos = clonePosition(position)   # on duplique pour ne pas modifier l'original\n",
    "    n = nouvelle_pos['taille']\n",
    "    trait = nouvelle_pos['trait']\n",
    "    # on transforme coup en indice\n",
    "    if trait == 'SUD':\n",
    "        indice_depart = coup-1\n",
    "    else:\n",
    "        indice_depart = 2*n-coup\n",
    "    # retrait des graines de la case de départ\n",
    "    nbGraines = nouvelle_pos['tablier'][indice_depart]\n",
    "    nouvelle_pos['tablier'][indice_depart] = 0\n",
    "    # on sème les graines dans les cases à partir de celle de départ\n",
    "    indice_courant = indice_depart\n",
    "    while nbGraines > 0:\n",
    "        indice_courant = (indice_courant + 1) % (2*n)\n",
    "        if (indice_courant != indice_depart):              # si ce n'est pas la case de départ\n",
    "            nouvelle_pos['tablier'][indice_courant] += 1   # on sème une graine\n",
    "            nbGraines -= 1\n",
    "    # la case d'arrivée est dans le camp ennemi ?\n",
    "    if (trait == 'NORD'):\n",
    "        estChezEnnemi = (indice_courant < n)\n",
    "    else:\n",
    "        estChezEnnemi = (indice_courant >= n)\n",
    "    # réalisation des prises éventuelles\n",
    "    while estChezEnnemi and (nouvelle_pos['tablier'][indice_courant] in range(2,4)):\n",
    "        nouvelle_pos['graines'][trait] += nouvelle_pos['tablier'][indice_courant]\n",
    "        nouvelle_pos['tablier'][indice_courant] = 0\n",
    "        indice_courant = (indice_courant - 1) % (2*n)\n",
    "        if (trait == 'NORD'):\n",
    "            estChezEnnemi = (indice_courant < n)\n",
    "        else:\n",
    "            estChezEnnemi = (indice_courant >= n)\n",
    "    # mise à jour du camp au trait\n",
    "    if trait == 'SUD':\n",
    "        nouvelle_pos['trait'] = 'NORD'\n",
    "    else:\n",
    "        nouvelle_pos['trait'] = 'SUD'\n",
    "    return nouvelle_pos\n",
    "# - - - - - - - - - -"
   ]
  },
  {
   "cell_type": "markdown",
   "metadata": {},
   "source": [
    "Les instructions qui suivent permettent de voir comment utiliser les fonctions précédentes."
   ]
  },
  {
   "cell_type": "code",
   "execution_count": 7,
   "metadata": {
    "scrolled": true
   },
   "outputs": [
    {
     "name": "stdout",
     "output_type": "stream",
     "text": [
      "* * * * * * * * * * * * * * * * * * * *\n",
      "col: 1 \t 2 \t 3 \t 4 \t 5 \t 6 \t\n",
      "\t\tNORD (prises: 0)\n",
      "< - - - - - - - - - - - - - - -\n",
      "\t[4]\t[4]\t[4]\t[4]\t[4]\t[4]\n",
      "\t[4]\t[4]\t[4]\t[4]\t[4]\t[4]\n",
      "- - - - - - - - - - - - - - - >\n",
      "\t\tSUD (prises: 0)\n",
      "-> camp au trait: SUD\n",
      "* * * * * * * * * * * * * * * * * * * *\n",
      "col: 1 \t 2 \t 3 \t 4 \t 5 \t 6 \t\n",
      "\t\tNORD (prises: 2)\n",
      "< - - - - - - - - - - - - - - -\n",
      "\t[0]\t[1]\t[7]\t[2]\t[7]\t[7]\n",
      "\t[1]\t[1]\t[1]\t[9]\t[0]\t[7]\n",
      "- - - - - - - - - - - - - - - >\n",
      "\t\tSUD (prises: 3)\n",
      "-> camp au trait: NORD\n",
      "#######################################\n",
      "Partie sur un tablier réduit pour tester:\n",
      "* * * * * * * * * * * * * * * * * * * *\n",
      "col: 1 \t 2 \t 3 \t 4 \t 5 \t 6 \t\n",
      "\t\tNORD (prises: 0)\n",
      "< - - - - - - - - - - - - - - -\n",
      "\t[4]\t[4]\t[4]\t[4]\t[4]\t[4]\n",
      "\t[4]\t[4]\t[4]\t[4]\t[4]\t[4]\n",
      "- - - - - - - - - - - - - - - >\n",
      "\t\tSUD (prises: 0)\n",
      "-> camp au trait: SUD\n",
      "* * * * * * * * * * * * * * * * * * * *\n",
      "col: 1 \t 2 \t 3 \t 4 \t 5 \t 6 \t\n",
      "\t\tNORD (prises: 0)\n",
      "< - - - - - - - - - - - - - - -\n",
      "\t[0]\t[5]\t[0]\t[5]\t[5]\t[5]\n",
      "\t[1]\t[8]\t[1]\t[7]\t[6]\t[5]\n",
      "- - - - - - - - - - - - - - - >\n",
      "\t\tSUD (prises: 0)\n",
      "-> camp au trait: SUD\n",
      "#######################################\n",
      "Essai de prises:\n",
      "* * * * * * * * * * * * * * * * * * * *\n",
      "col: 1 \t 2 \t 3 \t 4 \t 5 \t 6 \t\n",
      "\t\tNORD (prises: 0)\n",
      "< - - - - - - - - - - - - - - -\n",
      "\t[2]\t[2]\t[2]\t[2]\t[2]\t[2]\n",
      "\t[1]\t[2]\t[3]\t[4]\t[5]\t[1]\n",
      "- - - - - - - - - - - - - - - >\n",
      "\t\tSUD (prises: 0)\n",
      "-> camp au trait: SUD\n",
      "* * * * * * * * * * * * * * * * * * * *\n",
      "col: 1 \t 2 \t 3 \t 4 \t 5 \t 6 \t\n",
      "\t\tNORD (prises: 0)\n",
      "< - - - - - - - - - - - - - - -\n",
      "\t[2]\t[2]\t[0]\t[0]\t[0]\t[0]\n",
      "\t[1]\t[2]\t[3]\t[4]\t[0]\t[2]\n",
      "- - - - - - - - - - - - - - - >\n",
      "\t\tSUD (prises: 12)\n",
      "-> camp au trait: NORD\n"
     ]
    }
   ],
   "source": [
    "# ------------------------- POUR VOIR COMMENT CA MARCHE:\n",
    "maPosition = initialise(6)\n",
    "affichePosition(maPosition)\n",
    "maPosition2 = joueCoup(maPosition,1) # SUD joue\n",
    "maPosition2 = joueCoup(maPosition2,1) # NORD joue\n",
    "maPosition2 = joueCoup(maPosition2,2) # SUD joue\n",
    "maPosition2 = joueCoup(maPosition2,4) # NORD joue\n",
    "maPosition2 = joueCoup(maPosition2,3) # SUD joue\n",
    "maPosition2 = joueCoup(maPosition2,2) # NORD joue\n",
    "maPosition2 = joueCoup(maPosition2,5) # SUD joue\n",
    "affichePosition(maPosition2)\n",
    "print(\"#######################################\\nPartie sur un tablier réduit pour tester:\")\n",
    "#maPosition = initialise(3)\n",
    "affichePosition(maPosition)\n",
    "maPosition2 = joueCoup(maPosition,1) # SUD joue\n",
    "maPosition2 = joueCoup(maPosition2,1) # NORD joue\n",
    "maPosition2 = joueCoup(maPosition2,3) # SUD joue\n",
    "maPosition2 = joueCoup(maPosition2,3) # NORD joue\n",
    "maPosition2 = joueCoup(maPosition2,1) # SUD joue\n",
    "maPosition2 = joueCoup(maPosition2,1) # NORD joue\n",
    "affichePosition(maPosition2)\n",
    "print(\"#######################################\\nEssai de prises:\")\n",
    "maPosition = initialise(6)\n",
    "maPosition['tablier'] = [1, 2, 3, 4, 5, 1, 2, 2, 2, 2, 2, 2]\n",
    "affichePosition(maPosition)\n",
    "maPosition2 = joueCoup(maPosition,5) # SUD joue\n",
    "affichePosition(maPosition2)\n",
    "# ------------------------- FIN TEST\n"
   ]
  },
  {
   "cell_type": "markdown",
   "metadata": {},
   "source": [
    "### Fonctions simples"
   ]
  },
  {
   "cell_type": "markdown",
   "metadata": {},
   "source": [
    "<font color=\"RED\" size=\"+1\">**[Q]**</font> Ecrire les fonctions suivantes :\n",
    "- <tt>coupJouable(position,nombre)</tt>: rend le booléen <tt>True</tt> si le nombre donné est\n",
    "  jouable dans la position donnée, c'est-à-dire si ce nombre est un entier compris entre 1\n",
    "  et <tt>n</tt> et si de plus la case correspondante du tablier (pour le camp qui doit donc jouer\n",
    "  dans la position) contient au moins une graine.\n",
    "- <tt>coupAutorise(position,coup)</tt>: rend la position obtenue en jouant <tt>coup</tt>\n",
    "  dans la position donnée. Cette fonction retourne le booléen <tt>False</tt> si le coup\n",
    "  n'est pas jouable ou si la position résultante n'est pas une position légale du jeu.\n",
    "- <tt>positionTerminale(position)</tt>: rend le booléen <tt>True</tt> si la position est\n",
    "  terminale, c'est-à-dire si aucun coup n'est jouable, ou si tout coup jouable ne permet\n",
    "  pas d'atteindre une position légale ou bien si l'un des deux joueurs a gagné au moins 25\n",
    "  graines."
   ]
  },
  {
   "cell_type": "code",
   "execution_count": 8,
   "metadata": {
    "collapsed": true
   },
   "outputs": [],
   "source": [
    "def getTablier(position, joueur):\n",
    "    \"\"\"Retourne une liste d'un côté du tablier, soit du SUD ou du NORD\"\"\"\n",
    "    \n",
    "    n = position['taille']\n",
    "    if joueur == NORD: return position['tablier'][n:2*n]\n",
    "    elif joueur == SUD: return position['tablier'][0:n]\n",
    "    else: print(\"joueur ne peut prendre que SUD ou NORD\")\n",
    "\n",
    "\n",
    "def campAdverse(joueur):\n",
    "    \"\"\"Retourne le camp adverse du joueur passé en paramètre\"\"\"\n",
    "    \n",
    "    return SUD if joueur == NORD else NORD\n",
    "\n",
    "\n",
    "def posTerminaleByGain(position):\n",
    "    \"\"\"Retourne True si un des joueurs a atteint au moins 25 pts, False sinon\"\"\"\n",
    "    \n",
    "    for graines_prise in position['graines'].values():\n",
    "        if graines_prise >= 25: return True\n",
    "        \n",
    "    return False\n",
    "\n",
    "\n",
    "def posTerminaleByAffamation(position):\n",
    "    \"\"\"Retourne True si on est en position d'affamation, False sinon\"\"\"\n",
    "    \n",
    "    for coup in range(1,7):\n",
    "        if coupAutorise(position, coup): return False\n",
    "\n",
    "    return True; "
   ]
  },
  {
   "cell_type": "code",
   "execution_count": 9,
   "metadata": {
    "collapsed": true
   },
   "outputs": [],
   "source": [
    "def coupJouable(position, nombre):\n",
    "    \"\"\"Si le nombre est compris entre 1 et n=6 et que la position \n",
    "    correspondante dans le tablier contient au moins une graine\"\"\"\n",
    "    \n",
    "    if position['trait'] == SUD:\n",
    "        return (nombre in range(1,position['taille']+1) and \n",
    "                position['tablier'][nombre-1] > 0)\n",
    "    else:\n",
    "        return (nombre in range(1,position['taille']+1) and \n",
    "                position['tablier'][-nombre] > 0)\n",
    "\n",
    "\n",
    "def coupAutorise(position, coup):\n",
    "    \"\"\"Return un booléen de valeur True si le coup est autorisé \n",
    "    sinon False\"\"\"\n",
    "    \n",
    "    # Clone la position afin de ne pas modifier l'originale\n",
    "    clonePos, n = clonePosition(position), position['taille']\n",
    "    \n",
    "    # Tester déja que le coup est jouable\n",
    "    if coupJouable(clonePos, coup):\n",
    "        maPosition = joueCoup(clonePos,coup)\n",
    "        \n",
    "        if position['trait'] == SUD:\n",
    "            # Nombre de graines restantes dans le camp adverse (nord)\n",
    "            res = sum(getTablier(maPosition, campAdverse(SUD))) \n",
    "        else:\n",
    "            # Nombre de graines restantes dans le camp adverse (sud)\n",
    "            res = sum(getTablier(maPosition, campAdverse(NORD)))\n",
    "    else:\n",
    "        return False\n",
    "    \n",
    "    return res > 0\n",
    "    \n",
    "    \n",
    "def positionTerminale(position):\n",
    "    \"\"\"Return True si aucun coup n'est autorisé ou si un des deux joueurs\n",
    "    a saisi au moins 25 graines de son adversaire, False sinon\"\"\"\n",
    "    \n",
    "    return posTerminaleByAffamation(position) or posTerminaleByGain(position)"
   ]
  },
  {
   "cell_type": "markdown",
   "metadata": {},
   "source": [
    "### Moteur de jeu simple"
   ]
  },
  {
   "cell_type": "markdown",
   "metadata": {},
   "source": [
    "<font color=\"RED\" size=\"+1\">**[Q]**</font> Ecrire la fonction <tt>moteurHumains()</tt> permettant à deux joueurs humains de\n",
    "  s'affronter dans une partie d'Awélé.  Les coups pourront être entrés en utilisant la\n",
    "  fonction <tt>input()</tt> de Python.\n"
   ]
  },
  {
   "cell_type": "code",
   "execution_count": 10,
   "metadata": {},
   "outputs": [
    {
     "name": "stdout",
     "output_type": "stream",
     "text": [
      "Entrer l'année de naissance : 2\n",
      "Cela fait donc 2015  ans\n"
     ]
    }
   ],
   "source": [
    "# Exemple d'utilisation de input():\n",
    "annee_naiss = input(\"Entrer l\\'année de naissance : \")\n",
    "print(\"Cela fait donc\",2017-int(annee_naiss),\" ans\")"
   ]
  },
  {
   "cell_type": "markdown",
   "metadata": {},
   "source": [
    "#### Fonctions ajoutées\n",
    "- <tt>getEarnedSeeds(position, camp)</tt> : renvoie le nombre de graines gagnées par un camp donnée\n",
    "- <tt>printRes(position)</tt> : pour l'affichage du résulat du jeu\n",
    "- <tt>captureGrainesRestantes</tt> : permettant de capturer les graines restantes du tablier lorsqu'un joueur ne peut plus jouer.\n",
    "- <tt>playCoupHumain(position, joueur, prise=True)</tt> :\n",
    "- <tt>exitOrDont(coup)</tt> : "
   ]
  },
  {
   "cell_type": "code",
   "execution_count": 69,
   "metadata": {
    "collapsed": true
   },
   "outputs": [],
   "source": [
    "def getEarnedSeeds(position, camp):\n",
    "    \"\"\"Retourne le nombre de graines gagnées par un camp donnée\"\"\"\n",
    "    \n",
    "    return position['graines'][camp]\n",
    "\n",
    "def printRes(position):\n",
    "    \"\"\"Afficher le résulat du jeu\"\"\"\n",
    "    \n",
    "    if getEarnedSeeds(position, SUD) > getEarnedSeeds(position, NORD):\n",
    "        print(\"\\nLe vainqueur est le joueur **SUD**, bravoooo !\")\n",
    "    elif getEarnedSeeds(position, SUD) < getEarnedSeeds(position, NORD):\n",
    "        print(\"\\nLe vainqueur est le joueur **NORD**, bravoooo !\")\n",
    "    else:\n",
    "        print(\"**Aucun** vainqueur, égalité !\")\n",
    "    \n",
    "    print(\"\\nNombre de Graines capturees par chacun:\", position['graines'])\n",
    "    \n",
    "\n",
    "def captureGrainesRestantes(position):\n",
    "    \"\"\"Capturer les graines restantes du tablier\"\"\"\n",
    "    \n",
    "    if position['trait'] == SUD:\n",
    "        position['graines'][NORD] += sum(position['tablier'][:])\n",
    "    else:\n",
    "        position['graines'][SUD] += sum(position['tablier'][:])\n",
    "    \n",
    "    position['tablier'][:] = [0] * (2*position['taille'])\n",
    "    affichePosition(position)\n",
    "\n",
    "\n",
    "def playCoupHumain(position, joueur, prise=True):\n",
    "    \"\"\"Joue un coup saisit par l'utilisateur, cette fonction\n",
    "    retourne la position résultante\"\"\"\n",
    "    \n",
    "    while True:\n",
    "        try:\n",
    "            # Si un problème surgit dans la conversion, alors l'utilisateur est\n",
    "            # invité à rentrer un coup valide entre 1 et 6 (inclus)\n",
    "            coup = input (\"Joueur \"+joueur+\", Entrer le coup à jouer : \")\n",
    "            exitOrDont(coup)\n",
    "            coup = int(coup)\n",
    "        \n",
    "            # Si le coup n'est pas autorisé, demander à en rentrer un autre\n",
    "            while not(coupAutorise(position, coup)):\n",
    "                coup = input (\"Joueur \"+joueur+\", Coup non autorisé, essayez-en un autre : \")\n",
    "                exitOrDont(coup)\n",
    "                coup = int(coup)\n",
    "                    \n",
    "            break;\n",
    "            \n",
    "        except ValueError:\n",
    "            print(\"\\nOoops, essayer une valeur entre 1 et 6 (inclus)\")\n",
    "    \n",
    "    if prise: return joueCoup(position, coup)\n",
    "    else : return joueCoupSansPrise(position, coup)\n",
    "\n",
    "    \n",
    "def exitOrDont(coup):\n",
    "    if coup == 'exit': sys.exit(0)"
   ]
  },
  {
   "cell_type": "code",
   "execution_count": 70,
   "metadata": {
    "collapsed": true
   },
   "outputs": [],
   "source": [
    "def moteurHumains(prise=True):\n",
    "    \"\"\"Affrontement entre deux joueurs humains\"\"\"\n",
    "    \n",
    "    # Initialisation\n",
    "    maPosition = initialise(6)\n",
    "    \n",
    "    print(\"Bienvenue dans cette partie: \\n\")\n",
    "    affichePosition(maPosition)\n",
    "    \n",
    "    while not(positionTerminale(maPosition)):\n",
    "        maPosition = playCoupHumain(maPosition, SUD, prise)\n",
    "        affichePosition(maPosition)\n",
    "        \n",
    "        if positionTerminale(maPosition):\n",
    "            break;\n",
    "            \n",
    "        maPosition = playCoupHumain(maPosition, NORD, prise)\n",
    "        affichePosition(maPosition)\n",
    "        \n",
    "    # Si on est en position terminale parce qu'aucun coup jouable n'est\n",
    "    # autorisé, alors capturer!\n",
    "    if posTerminaleByAffamation(maPosition):\n",
    "        captureGrainesRestantes(maPosition)\n",
    "        \n",
    "    # Affichage du résultat\n",
    "    printRes(maPosition)"
   ]
  },
  {
   "cell_type": "code",
   "execution_count": 71,
   "metadata": {
    "scrolled": true
   },
   "outputs": [
    {
     "name": "stdout",
     "output_type": "stream",
     "text": [
      "Bienvenue dans cette partie: \n",
      "\n",
      "* * * * * * * * * * * * * * * * * * * *\n",
      "col: 1 \t 2 \t 3 \t 4 \t 5 \t 6 \t\n",
      "\t\tNORD (prises: 0)\n",
      "< - - - - - - - - - - - - - - -\n",
      "\t[4]\t[4]\t[4]\t[4]\t[4]\t[4]\n",
      "\t[4]\t[4]\t[4]\t[4]\t[4]\t[4]\n",
      "- - - - - - - - - - - - - - - >\n",
      "\t\tSUD (prises: 0)\n",
      "-> camp au trait: SUD\n",
      "Joueur SUD, Entrer le coup à jouer : 1\n",
      "* * * * * * * * * * * * * * * * * * * *\n",
      "col: 1 \t 2 \t 3 \t 4 \t 5 \t 6 \t\n",
      "\t\tNORD (prises: 0)\n",
      "< - - - - - - - - - - - - - - -\n",
      "\t[4]\t[4]\t[4]\t[4]\t[4]\t[4]\n",
      "\t[0]\t[5]\t[5]\t[5]\t[5]\t[4]\n",
      "- - - - - - - - - - - - - - - >\n",
      "\t\tSUD (prises: 0)\n",
      "-> camp au trait: NORD\n",
      "Joueur NORD, Entrer le coup à jouer : 2\n",
      "* * * * * * * * * * * * * * * * * * * *\n",
      "col: 1 \t 2 \t 3 \t 4 \t 5 \t 6 \t\n",
      "\t\tNORD (prises: 0)\n",
      "< - - - - - - - - - - - - - - -\n",
      "\t[5]\t[0]\t[4]\t[4]\t[4]\t[4]\n",
      "\t[1]\t[6]\t[6]\t[5]\t[5]\t[4]\n",
      "- - - - - - - - - - - - - - - >\n",
      "\t\tSUD (prises: 0)\n",
      "-> camp au trait: SUD\n",
      "Joueur SUD, Entrer le coup à jouer : exit\n"
     ]
    },
    {
     "ename": "SystemExit",
     "evalue": "0",
     "output_type": "error",
     "traceback": [
      "An exception has occurred, use %tb to see the full traceback.\n",
      "\u001b[0;31mSystemExit\u001b[0m\u001b[0;31m:\u001b[0m 0\n"
     ]
    },
    {
     "name": "stderr",
     "output_type": "stream",
     "text": [
      "/Users/ahmedtidianebalde/anaconda3/lib/python3.6/site-packages/IPython/core/interactiveshell.py:2870: UserWarning: To exit: use 'exit', 'quit', or Ctrl-D.\n",
      "  warn(\"To exit: use 'exit', 'quit', or Ctrl-D.\", stacklevel=1)\n"
     ]
    }
   ],
   "source": [
    "# Saisir exit pour arrêter le jeu, concerne tous les moteurs de jeu.\n",
    "moteurHumains()"
   ]
  },
  {
   "cell_type": "markdown",
   "metadata": {},
   "source": [
    "<font color=\"RED\" size=\"+1\">**[Q]**</font> Ecrire la fonction <tt>choixAleatoire(position)</tt> qui retourne un coup autorisé\n",
    "  pour la position donnée. Le coup est choisi de façon aléatoire parmi les coups autorisés\n",
    "  possibles dans la position donnée. Cette fonction rend la valeur 0 si aucun coup\n",
    "  autorisé n'est possible."
   ]
  },
  {
   "cell_type": "markdown",
   "metadata": {},
   "source": [
    "#### Fonctions ajoutées\n",
    "- <tt>tousCoupsAutorises(position)</tt> : retourne tous les coups autorisés d'une position donnée"
   ]
  },
  {
   "cell_type": "code",
   "execution_count": 18,
   "metadata": {
    "collapsed": true
   },
   "outputs": [],
   "source": [
    "def tousCoupsAutorises(position):\n",
    "    \"\"\"Retourne une liste de tous les coups autorisés pour la position donnée\"\"\"\n",
    "    \n",
    "    coupsAutorises = []\n",
    "    for coup in range(1,position['taille']+1):\n",
    "        if coupAutorise(position, coup): coupsAutorises.append(coup)\n",
    "            \n",
    "    return coupsAutorises"
   ]
  },
  {
   "cell_type": "code",
   "execution_count": 19,
   "metadata": {
    "collapsed": true
   },
   "outputs": [],
   "source": [
    "def choixAleatoire(position):\n",
    "    \"\"\"Retourne un coup autorisé choisit aléatoirement pour la position donnée\"\"\"\n",
    "    \n",
    "    coupsAutorises = tousCoupsAutorises(position)\n",
    "    return 0 if len(coupsAutorises) == 0 else random.choice(coupsAutorises)"
   ]
  },
  {
   "cell_type": "markdown",
   "metadata": {},
   "source": [
    "<font color=\"RED\" size=\"+1\">**[Q]**</font> Ecrire la fonction <tt>moteurAleatoire(campCPU)</tt> permettant à un joueur humain\n",
    "  de jouer contre un ordinateur choisissant aléatoirement ses coups. L'argument\n",
    "  \\code{campCPU} donne le camp que doit gérer l'ordinateur (<tt>'SUD'</tt> ou <tt>'NORD'</tt>). "
   ]
  },
  {
   "cell_type": "markdown",
   "metadata": {},
   "source": [
    "#### Fonctions ajoutées\n",
    "- playCoupOrdinateur(position, joueur, prise=True) : Joue un coup choisit par l'ordinateur selon l'algorithme utilisé, soit: 'aleatoire', 'minimax' ou 'alphabeta'"
   ]
  },
  {
   "cell_type": "code",
   "execution_count": 74,
   "metadata": {
    "collapsed": true
   },
   "outputs": [],
   "source": [
    "def playCoupOrdinateur(position, joueur, prise=True):\n",
    "    \"\"\" Joue un coup choisit par l'ordinateur selon l'algorithme utilisé, soit:\n",
    "        'aleatoire', 'minimax' ou 'alphabeta'\"\"\"\n",
    "    \n",
    "    def algorithme(name='aleatoire', prof=0):\n",
    "        \"\"\" Permet de choisir l'algo et la profondeur si besoin a utilisé pour \n",
    "            les différents algorithmes \"\"\"\n",
    "        \n",
    "        if name == 'aleatoire': coup = choixAleatoire(position)\n",
    "        elif name == 'minimax': coup = choixMinimax(position, prof)\n",
    "        elif name == 'alphabeta': coup = choixAlphaBeta(position, prof)\n",
    "        else:\n",
    "            print(\"\\nle nom de l'algo doit être : \\naleatoire\\nminimax\\nalphabeta\")\n",
    "            coup = 0\n",
    "            \n",
    "        print(\"Joueur \"+joueur+\", Entrer le coup à jouer : \", coup)\n",
    "        if prise: return joueCoup(position, coup)    \n",
    "        else: return joueCoupSansPrise(position, coup)\n",
    "    \n",
    "    return algorithme"
   ]
  },
  {
   "cell_type": "code",
   "execution_count": 75,
   "metadata": {
    "collapsed": true
   },
   "outputs": [],
   "source": [
    "def moteurAleatoire(campCPU, prise=True):\n",
    "    \"\"\" Affrontement entre un joueur humain et un ordinateur \n",
    "        qui choisi aléatoirement ses coups, avec :\n",
    "        campCPU = camp que doit gérer l'ordinateur (SUD ou NORD)\n",
    "    \"\"\"\n",
    "    \n",
    "    # Initialisation\n",
    "    maPosition = initialise(6)\n",
    "    \n",
    "    print(\"Bienvenue dans cette partie: \\n\")\n",
    "    affichePosition(maPosition)\n",
    "    \n",
    "    while not(positionTerminale(maPosition)):\n",
    "        algo = playCoupOrdinateur(maPosition, SUD, prise)\n",
    "        maPosition = algo() if campCPU == SUD else playCoupHumain(maPosition, SUD, prise)\n",
    "        affichePosition(maPosition)\n",
    "        \n",
    "        if positionTerminale(maPosition): break\n",
    "        \n",
    "        algo = playCoupOrdinateur(maPosition, NORD, prise)\n",
    "        maPosition = playCoupHumain(maPosition, NORD, prise) if campCPU == SUD else algo()\n",
    "        affichePosition(maPosition)\n",
    "        \n",
    "    # Si un des joueurs ne peut plus joueur\n",
    "    if posTerminaleByAffamation(maPosition):\n",
    "        captureGrainesRestantes(maPosition)          \n",
    "        \n",
    "    # Affichage du résultat\n",
    "    printRes(maPosition)"
   ]
  },
  {
   "cell_type": "code",
   "execution_count": 76,
   "metadata": {},
   "outputs": [
    {
     "name": "stdout",
     "output_type": "stream",
     "text": [
      "Bienvenue dans cette partie: \n",
      "\n",
      "* * * * * * * * * * * * * * * * * * * *\n",
      "col: 1 \t 2 \t 3 \t 4 \t 5 \t 6 \t\n",
      "\t\tNORD (prises: 0)\n",
      "< - - - - - - - - - - - - - - -\n",
      "\t[4]\t[4]\t[4]\t[4]\t[4]\t[4]\n",
      "\t[4]\t[4]\t[4]\t[4]\t[4]\t[4]\n",
      "- - - - - - - - - - - - - - - >\n",
      "\t\tSUD (prises: 0)\n",
      "-> camp au trait: SUD\n",
      "Joueur SUD, Entrer le coup à jouer : 2\n",
      "* * * * * * * * * * * * * * * * * * * *\n",
      "col: 1 \t 2 \t 3 \t 4 \t 5 \t 6 \t\n",
      "\t\tNORD (prises: 0)\n",
      "< - - - - - - - - - - - - - - -\n",
      "\t[4]\t[4]\t[4]\t[4]\t[4]\t[4]\n",
      "\t[4]\t[0]\t[5]\t[5]\t[5]\t[5]\n",
      "- - - - - - - - - - - - - - - >\n",
      "\t\tSUD (prises: 0)\n",
      "-> camp au trait: NORD\n",
      "Joueur NORD, Entrer le coup à jouer :  6\n",
      "* * * * * * * * * * * * * * * * * * * *\n",
      "col: 1 \t 2 \t 3 \t 4 \t 5 \t 6 \t\n",
      "\t\tNORD (prises: 0)\n",
      "< - - - - - - - - - - - - - - -\n",
      "\t[4]\t[5]\t[5]\t[5]\t[5]\t[0]\n",
      "\t[4]\t[0]\t[5]\t[5]\t[5]\t[5]\n",
      "- - - - - - - - - - - - - - - >\n",
      "\t\tSUD (prises: 0)\n",
      "-> camp au trait: SUD\n",
      "Joueur SUD, Entrer le coup à jouer : 1\n",
      "* * * * * * * * * * * * * * * * * * * *\n",
      "col: 1 \t 2 \t 3 \t 4 \t 5 \t 6 \t\n",
      "\t\tNORD (prises: 0)\n",
      "< - - - - - - - - - - - - - - -\n",
      "\t[4]\t[5]\t[5]\t[5]\t[5]\t[0]\n",
      "\t[0]\t[1]\t[6]\t[6]\t[6]\t[5]\n",
      "- - - - - - - - - - - - - - - >\n",
      "\t\tSUD (prises: 0)\n",
      "-> camp au trait: NORD\n",
      "Joueur NORD, Entrer le coup à jouer :  5\n",
      "* * * * * * * * * * * * * * * * * * * *\n",
      "col: 1 \t 2 \t 3 \t 4 \t 5 \t 6 \t\n",
      "\t\tNORD (prises: 0)\n",
      "< - - - - - - - - - - - - - - -\n",
      "\t[5]\t[6]\t[6]\t[6]\t[0]\t[0]\n",
      "\t[1]\t[1]\t[6]\t[6]\t[6]\t[5]\n",
      "- - - - - - - - - - - - - - - >\n",
      "\t\tSUD (prises: 0)\n",
      "-> camp au trait: SUD\n",
      "Joueur SUD, Entrer le coup à jouer : exit\n"
     ]
    },
    {
     "ename": "SystemExit",
     "evalue": "0",
     "output_type": "error",
     "traceback": [
      "An exception has occurred, use %tb to see the full traceback.\n",
      "\u001b[0;31mSystemExit\u001b[0m\u001b[0;31m:\u001b[0m 0\n"
     ]
    },
    {
     "name": "stderr",
     "output_type": "stream",
     "text": [
      "/Users/ahmedtidianebalde/anaconda3/lib/python3.6/site-packages/IPython/core/interactiveshell.py:2870: UserWarning: To exit: use 'exit', 'quit', or Ctrl-D.\n",
      "  warn(\"To exit: use 'exit', 'quit', or Ctrl-D.\", stacklevel=1)\n"
     ]
    }
   ],
   "source": [
    "moteurAleatoire(NORD)"
   ]
  },
  {
   "cell_type": "markdown",
   "metadata": {},
   "source": [
    "## Joueur artificiel simple"
   ]
  },
  {
   "cell_type": "markdown",
   "metadata": {},
   "source": [
    "On considère la fonction d'évaluation suivante de la position $P$ :\n",
    "$$f(P) = \\left.\n",
    "  \\begin{array}{ll}\n",
    "        +1000      & \\mbox{si } P \\mbox{ est gagnée par sud} \\\\\n",
    "        -1000      & \\mbox{si } P \\mbox{ est gagnée par nord} \\\\\n",
    "        (2f_g(P,sud) + f_{12}(P,nord)) - (2f_g(P,nord) + f_{12}(P,sud))& \\mbox{sinon }\n",
    "   \\end{array} \\right.$$\n",
    "\n",
    "avec\n",
    "- $f_g(P,c)$ : nombre de graines déjà gagnées par le camp $c$ dans la position $P$\n",
    "- $f_{12}(P,c)$ : nombre de cases du camp $c$ contenant 1 ou 2 graines, dans la position $P$.\n",
    "\n"
   ]
  },
  {
   "cell_type": "markdown",
   "metadata": {},
   "source": [
    "<font color=\"RED\" size=\"+1\">**[Q]**</font> Ecrire la fonction <tt>evaluation(position)</tt> qui rend la valeur de l'évaluation de la position obtenue en utilisant la fonction $f$."
   ]
  },
  {
   "cell_type": "markdown",
   "metadata": {},
   "source": [
    "#### Fonctions ajoutées\n",
    "- <tt>getNbCasesWith12(position, camp)</tt> : retourne le nombre de cases d'un camp contenant 1 ou 2 graines à une position donnée."
   ]
  },
  {
   "cell_type": "code",
   "execution_count": 23,
   "metadata": {
    "collapsed": true
   },
   "outputs": [],
   "source": [
    "def getNbCasesWith12(position, camp):\n",
    "    \"\"\"Renvoie le nombre de cases d'un camp contenant 1 ou 2 graines à une position donnée\"\"\"\n",
    "    \n",
    "    return len(list(filter(lambda x: x in (1,2), getTablier(position, camp))))"
   ]
  },
  {
   "cell_type": "code",
   "execution_count": 24,
   "metadata": {
    "collapsed": true
   },
   "outputs": [],
   "source": [
    "def evaluation(position):\n",
    "    \"\"\"Rend la valeur de l'évaluation obtenue en utilisant la fonction f\"\"\"\n",
    "    \n",
    "    if getEarnedSeeds(position, SUD) > getEarnedSeeds(position, NORD) : return 1000\n",
    "    elif getEarnedSeeds(position, SUD) < getEarnedSeeds(position, NORD): return -1000\n",
    "    else: return ((2*getEarnedSeeds(position, SUD)) + getNbCasesWith12(position, NORD)\n",
    "                  -(2*getEarnedSeeds(position, NORD)) + getNbCasesWith12(position, SUD))"
   ]
  },
  {
   "cell_type": "markdown",
   "metadata": {},
   "source": [
    "<font color=\"RED\" size=\"+1\">**[Q]**</font> Ecrire la fonction <tt>evalueMinimax(position,prof)</tt> qui, pour la position donnée, retourne à la fois le meilleur coup à jouer trouvé par l'application de l'algorithme du minimax à une profondeur <tt>prof</tt>, ainsi que l'évaluation de la position obtenue pour ce coup.\n",
    "\n",
    "*Remarque* : cette fonction peut retourner un dictionnaire Python contenant deux champs: le\n",
    "champ <tt>\"coup\"</tt> et le champ <tt>\"valeur\"</tt>.\n"
   ]
  },
  {
   "cell_type": "code",
   "execution_count": 25,
   "metadata": {
    "collapsed": true
   },
   "outputs": [],
   "source": [
    "def evalueMinMax(position, prof):\n",
    "    \"\"\" Retourne un dictionnaire avec deux champs : 'coup' et 'valeur', avec : \n",
    "        coup : le meilleur coup à jouer par l'application de l'algorithme \n",
    "                Minimax à une profondeur 'prof' à la position 'position',\n",
    "        valeur : l'évaluation de la position obtenue pour ce coup.\n",
    "    \"\"\"\n",
    "    \n",
    "    if prof == 0 or positionTerminale(position):\n",
    "        return evaluation(position)\n",
    "    else:\n",
    "        evalMinMax = dict()\n",
    "        j = len(tousCoupsAutorises(position))\n",
    "        for coup in tousCoupsAutorises(position):\n",
    "            clonePos = clonePosition(position)\n",
    "            clonePos = joueCoup(position, coup)\n",
    "            bestCoup = coup\n",
    "            if position['trait'] == NORD:\n",
    "                i = 1\n",
    "                meilleur = -1000000\n",
    "                while i <= j:\n",
    "                    val = evalueMinMax(clonePos, prof-1)\n",
    "                    if type(val) is int: bestCoup, meilleur = coup, max(meilleur, val)\n",
    "                    else: bestCoup, meilleur = coup, max(meilleur, val['valeur'])\n",
    "                    i += 1\n",
    "                evalMinMax['coup'], evalMinMax['valeur'] = bestCoup, meilleur\n",
    "            else:\n",
    "                i = 1\n",
    "                meilleur = 1000000\n",
    "                while i <= j:\n",
    "                    val = evalueMinMax(clonePos, prof-1)\n",
    "                    if type(val) is int: bestCoup, meilleur = coup, min(meilleur, val)\n",
    "                    else: bestCoup, meilleur = coup, min(meilleur, val['valeur'])\n",
    "                    i += 1\n",
    "                \n",
    "                evalMinMax['coup'], evalMinMax['valeur'] = bestCoup, meilleur\n",
    "            return evalMinMax             "
   ]
  },
  {
   "cell_type": "markdown",
   "metadata": {},
   "source": [
    "#### Implémentation d'un algo de minimax trouvé sur internet\n",
    "\n",
    "- <font color=\"RED\">Ce code n'est utilisé en aucun endroit.</font>\n",
    "\n",
    "#### Fonctions ajoutées\n",
    "- <tt>evalueMinMaxInternet(position, prof)</tt> :\n",
    "- <tt>evalueMin(position, prof)</tt> :\n",
    "- <tt>evalueMax(position, prof)</tt> :"
   ]
  },
  {
   "cell_type": "code",
   "execution_count": 26,
   "metadata": {
    "collapsed": true
   },
   "outputs": [],
   "source": [
    "def evalueMinMaxInternet(position, prof):\n",
    "    \"\"\" Retourne un dictionnaire avec deux champs : 'coup' et 'valeur', avec : \n",
    "        coup : le meilleur coup à jouer par l'application de l'algorithme \n",
    "                Minimax à une profondeur 'prof' à la position 'position',\n",
    "        valeur : l'évaluation de la position obtenue pour ce coup.\n",
    "    \"\"\"\n",
    "    \n",
    "    evalMinMax = dict()\n",
    "    maxValeur = -1000000\n",
    "    for coup in tousCoupsAutorises(position):\n",
    "        clonePos = clonePosition(position)                          # Cloner la position pour\n",
    "        clonePos = joueCoup(clonePos, coup)                         # simuler le coup\n",
    "        valeur = evalueMax(clonePos, prof)                          # Evalue la position récursivement et\n",
    "        if valeur > maxValeur:                                      # Si la valeur est supérieur au max,\n",
    "            maxValeur = valeur                                      # elle devient donc la valeur max et\n",
    "            bestCoup = coup                                         # le meilleur coup est donc le coup actuel\n",
    "    \n",
    "    evalMinMax['coup'], evalMinMax['valeur'] = bestCoup, maxValeur\n",
    "    \n",
    "    return evalMinMax\n",
    "\n",
    "\n",
    "def evalueMin(position, prof):\n",
    "    \"\"\" Evaluation utilisée par le joueur adverse, qui essaye de jouer de \n",
    "        manière optimale, donc maximiser les pertes du joueur \"\"\"\n",
    "    \n",
    "    if prof == 0 or positionTerminale(position):\n",
    "        return evaluation(position)\n",
    "    \n",
    "    minValeur = 1000000\n",
    "    for coup in tousCoupsAutorises(position):\n",
    "        clonePos = clonePosition(position)                          # Cloner la position pour\n",
    "        clonePos = joueCoup(clonePos, coup)                         # simuler le coup\n",
    "        valeur = evalueMin(clonePos, prof-1)                        # Evalue la position récursivement et\n",
    "        if valeur < minValeur:                                      # Si la valeur est inférieur au min,\n",
    "            minValeur = valeur                                      # elle devient donc la valeur min et\n",
    "            bestCoup = coup                                         # le meilleur coup est donc le coup actuel\n",
    "    \n",
    "    return minValeur\n",
    "\n",
    "\n",
    "def evalueMax(position, prof):\n",
    "    \"\"\" Evaluation utilisée par le joueur qui essaye donc de minimiser ses\n",
    "        pertes \"\"\"\n",
    "    \n",
    "    if prof == 0 or positionTerminale(position):\n",
    "        return evaluation(position)\n",
    "    \n",
    "    maxValeur = -1000000\n",
    "    for coup in tousCoupsAutorises(position):\n",
    "        clonePos = clonePosition(position)                          # Cloner la position pour\n",
    "        clonePos = joueCoup(clonePos, coup)                         # simuler le coup\n",
    "        valeur = evalueMax(clonePos, prof-1)                        # Evalue la position récursivement et\n",
    "        if valeur > maxValeur:                                      # Si la valeur est supérieur au max,\n",
    "            maxValeur = valeur                                      # elle devient donc la valeur max et\n",
    "            bestCoup = coup                                         # le meilleur coup est donc le coup actuel\n",
    "    \n",
    "    return maxValeur"
   ]
  },
  {
   "cell_type": "markdown",
   "metadata": {},
   "source": [
    "<font color=\"RED\" size=\"+1\">**[Q]**</font> Ecrire la fonction <tt>choixMinimax(position,prof)</tt> qui retourne un coup autorisé pour la position donnée. Le coup est choisi en appliquant l'algorithme minimax à une profondeur <tt>prof</tt>. Cette fonction rend la valeur 0 si aucun coup autorisé n'est possible.\n"
   ]
  },
  {
   "cell_type": "code",
   "execution_count": 27,
   "metadata": {
    "collapsed": true
   },
   "outputs": [],
   "source": [
    "def choixMinimax(position, prof):\n",
    "    \"\"\"Retourne un coup autorisé choisit en appliquant Minimax pour la position donnée\"\"\"\n",
    "    \n",
    "    coup = evalueMinMax(position, prof)['coup']\n",
    "    return coup if coup in tousCoupsAutorises(position) else 0"
   ]
  },
  {
   "cell_type": "markdown",
   "metadata": {},
   "source": [
    "<font color=\"RED\" size=\"+1\">**[Q]**</font> Ecrire la fonction <tt>moteurMinimax(camCPU,prof)</tt> permettant à un joueur humain de jouer contre l'ordinateur, celui-ci trouvant ses coups à l'aide de l'algorithme minimax, utilisé à une profondeur <tt>prof</tt>. L'argument <tt>campCPU</tt> donne le camp que doit gérer l'ordinateur (<tt>'SUD'</tt> ou <tt>'NORD'</tt>).\n"
   ]
  },
  {
   "cell_type": "code",
   "execution_count": 78,
   "metadata": {
    "collapsed": true
   },
   "outputs": [],
   "source": [
    "def moteurMinimax(campCPU, prof, prise=True):\n",
    "    \"\"\" Affrontement entre un joueur humain et un ordinateur qui choisi \n",
    "        ses coups par l'application de l'algorithme Minimax, avec :\n",
    "        campCPU = camp que doit gérer l'ordinateur (SUD ou NORD),\n",
    "        prof: profondeur à appliquer à l'algorithme.\n",
    "    \"\"\"\n",
    "    \n",
    "    # Initialisation\n",
    "    maPosition = initialise(6)\n",
    "    \n",
    "    print(\"Bienvenue dans cette partie: \\n\")\n",
    "    affichePosition(maPosition)\n",
    "    \n",
    "    while not(positionTerminale(maPosition)):\n",
    "        algo = playCoupOrdinateur(maPosition, SUD, prise)\n",
    "        maPosition = algo('minimax', prof) if campCPU == SUD else playCoupHumain(maPosition, SUD, prise)\n",
    "        affichePosition(maPosition)\n",
    "        \n",
    "        if positionTerminale(maPosition): break\n",
    "        \n",
    "        algo = playCoupOrdinateur(maPosition, NORD, prise)\n",
    "        maPosition = playCoupHumain(maPosition, NORD, prise) if campCPU == SUD else algo('minimax', prof)\n",
    "        affichePosition(maPosition)\n",
    "        \n",
    "    # Si un des joueurs ne peut plus joueur\n",
    "    if posTerminaleByAffamation(maPosition):\n",
    "        captureGrainesRestantes(maPosition)          \n",
    "        \n",
    "    # Affichage du résultat\n",
    "    printRes(maPosition)"
   ]
  },
  {
   "cell_type": "code",
   "execution_count": 79,
   "metadata": {},
   "outputs": [
    {
     "name": "stdout",
     "output_type": "stream",
     "text": [
      "* * * * * * * * * * * * * * * * * * * *\n",
      "col: 1 \t 2 \t 3 \t 4 \t 5 \t 6 \t\n",
      "\t\tNORD (prises: 0)\n",
      "< - - - - - - - - - - - - - - -\n",
      "\t[4]\t[4]\t[4]\t[4]\t[4]\t[4]\n",
      "\t[4]\t[4]\t[4]\t[4]\t[4]\t[4]\n",
      "- - - - - - - - - - - - - - - >\n",
      "\t\tSUD (prises: 0)\n",
      "-> camp au trait: SUD\n",
      "* * * * * * * * * * * * * * * * * * * *\n",
      "col: 1 \t 2 \t 3 \t 4 \t 5 \t 6 \t\n",
      "\t\tNORD (prises: 2)\n",
      "< - - - - - - - - - - - - - - -\n",
      "\t[0]\t[1]\t[7]\t[2]\t[7]\t[7]\n",
      "\t[1]\t[1]\t[1]\t[9]\t[0]\t[7]\n",
      "- - - - - - - - - - - - - - - >\n",
      "\t\tSUD (prises: 3)\n",
      "-> camp au trait: NORD\n",
      "* * * * * * * * * * * * * * * * * * * *\n",
      "col: 1 \t 2 \t 3 \t\n",
      "\t\tNORD (prises: 0)\n",
      "< - - - - - - - - - - - - - - -\n",
      "\t[4]\t[4]\t[4]\n",
      "\t[4]\t[4]\t[4]\n",
      "- - - - - - - - - - - - - - - >\n",
      "\t\tSUD (prises: 0)\n",
      "-> camp au trait: SUD\n",
      "* * * * * * * * * * * * * * * * * * * *\n",
      "col: 1 \t 2 \t 3 \t\n",
      "\t\tNORD (prises: 0)\n",
      "< - - - - - - - - - - - - - - -\n",
      "\t[3]\t[9]\t[1]\n",
      "\t[0]\t[9]\t[2]\n",
      "- - - - - - - - - - - - - - - >\n",
      "\t\tSUD (prises: 0)\n",
      "-> camp au trait: NORD\n",
      "* * * * * * * * * * * * * * * * * * * *\n",
      "col: 1 \t 2 \t 3 \t\n",
      "\t\tNORD (prises: 3)\n",
      "< - - - - - - - - - - - - - - -\n",
      "\t[0]\t[9]\t[1]\n",
      "\t[1]\t[10]\t[0]\n",
      "- - - - - - - - - - - - - - - >\n",
      "\t\tSUD (prises: 0)\n",
      "-> camp au trait: SUD\n",
      "*************************\n",
      "********* Partie minimax: \n",
      "Bienvenue dans cette partie: \n",
      "\n",
      "* * * * * * * * * * * * * * * * * * * *\n",
      "col: 1 \t 2 \t 3 \t 4 \t 5 \t 6 \t\n",
      "\t\tNORD (prises: 0)\n",
      "< - - - - - - - - - - - - - - -\n",
      "\t[4]\t[4]\t[4]\t[4]\t[4]\t[4]\n",
      "\t[4]\t[4]\t[4]\t[4]\t[4]\t[4]\n",
      "- - - - - - - - - - - - - - - >\n",
      "\t\tSUD (prises: 0)\n",
      "-> camp au trait: SUD\n",
      "Joueur SUD, Entrer le coup à jouer : 2\n",
      "* * * * * * * * * * * * * * * * * * * *\n",
      "col: 1 \t 2 \t 3 \t 4 \t 5 \t 6 \t\n",
      "\t\tNORD (prises: 0)\n",
      "< - - - - - - - - - - - - - - -\n",
      "\t[4]\t[4]\t[4]\t[4]\t[4]\t[4]\n",
      "\t[4]\t[0]\t[5]\t[5]\t[5]\t[5]\n",
      "- - - - - - - - - - - - - - - >\n",
      "\t\tSUD (prises: 0)\n",
      "-> camp au trait: NORD\n",
      "Joueur NORD, Entrer le coup à jouer :  1\n",
      "* * * * * * * * * * * * * * * * * * * *\n",
      "col: 1 \t 2 \t 3 \t 4 \t 5 \t 6 \t\n",
      "\t\tNORD (prises: 0)\n",
      "< - - - - - - - - - - - - - - -\n",
      "\t[0]\t[4]\t[4]\t[4]\t[4]\t[4]\n",
      "\t[5]\t[1]\t[6]\t[6]\t[5]\t[5]\n",
      "- - - - - - - - - - - - - - - >\n",
      "\t\tSUD (prises: 0)\n",
      "-> camp au trait: SUD\n",
      "Joueur SUD, Entrer le coup à jouer : exit\n"
     ]
    },
    {
     "ename": "SystemExit",
     "evalue": "0",
     "output_type": "error",
     "traceback": [
      "An exception has occurred, use %tb to see the full traceback.\n",
      "\u001b[0;31mSystemExit\u001b[0m\u001b[0;31m:\u001b[0m 0\n"
     ]
    },
    {
     "name": "stderr",
     "output_type": "stream",
     "text": [
      "/Users/ahmedtidianebalde/anaconda3/lib/python3.6/site-packages/IPython/core/interactiveshell.py:2870: UserWarning: To exit: use 'exit', 'quit', or Ctrl-D.\n",
      "  warn(\"To exit: use 'exit', 'quit', or Ctrl-D.\", stacklevel=1)\n"
     ]
    }
   ],
   "source": [
    "# ------------------------- TEST\n",
    "maPosition = initialise(6)\n",
    "affichePosition(maPosition)\n",
    "maPosition2 = joueCoup(maPosition,1) # SUD joue\n",
    "maPosition2 = joueCoup(maPosition2,1) # NORD joue\n",
    "maPosition2 = joueCoup(maPosition2,2) # SUD joue\n",
    "maPosition2 = joueCoup(maPosition2,4) # NORD joue\n",
    "maPosition2 = joueCoup(maPosition2,3) # SUD joue\n",
    "maPosition2 = joueCoup(maPosition2,2) # NORD joue\n",
    "maPosition2 = joueCoup(maPosition2,5) # SUD joue\n",
    "affichePosition(maPosition2)\n",
    "\n",
    "maPosition = initialise(3)\n",
    "affichePosition(maPosition)\n",
    "maPosition2 = joueCoup(maPosition,1) # SUD joue\n",
    "maPosition2 = joueCoup(maPosition2,1) # NORD joue\n",
    "maPosition2 = joueCoup(maPosition2,3) # SUD joue\n",
    "maPosition2 = joueCoup(maPosition2,3) # NORD joue\n",
    "maPosition2 = joueCoup(maPosition2,1) # SUD joue\n",
    "affichePosition(maPosition2)\n",
    "maPosition2 = joueCoup(maPosition2,1) # NORD joue\n",
    "affichePosition(maPosition2)\n",
    "\n",
    "# --------\n",
    "#moteurHumains()\n",
    "#moteurAleatoire(\"SUD\")\n",
    "print(\"*************************\\n********* Partie minimax: \")\n",
    "# decommenter la ligne suivante:\n",
    "moteurMinimax(\"NORD\",7)\n"
   ]
  },
  {
   "cell_type": "markdown",
   "metadata": {},
   "source": [
    "## Joueur artificiel élaboré"
   ]
  },
  {
   "cell_type": "markdown",
   "metadata": {},
   "source": [
    "<font color=\"RED\" size=\"+1\">**[Q]**</font> Ecrire la fonction <code>evalueAlphaBeta(position,prof,alpha,beta)</code> qui, pour la\n",
    "  position donnée, retourne à la fois le meilleur coup à jouer trouvé par l'application de\n",
    "  l'algorithme du alpha-bêta à une profondeur <code>prof</code>, avec les valeurs <code>alpha</code> et <code>beta</code> comme valeurs initiales, ainsi que l'évaluation de la position obtenue pour\n",
    "  ce coup."
   ]
  },
  {
   "cell_type": "code",
   "execution_count": 80,
   "metadata": {
    "collapsed": true
   },
   "outputs": [],
   "source": [
    "def evalueAlphaBeta(position, prof, alpha, beta):\n",
    "    \"\"\" Retourne un dictionnaire avec deux champs : 'coup' et 'valeur', avec : \n",
    "        coup : le meilleur coup à jouer par l'application de l'algorithme \n",
    "                AlphaBeta à une profondeur 'prof' à la position 'position' avec\n",
    "        alpha, beta : valeurs initiales\n",
    "        valeur : l'évaluation de la position obtenue pour ce coup.\n",
    "    \"\"\"\n",
    "    \n",
    "    if prof == 0 or positionTerminale(position):\n",
    "        return evaluation(position)\n",
    "    else:\n",
    "        evalAlphaBeta = dict()\n",
    "        j = len(tousCoupsAutorises(position))\n",
    "        for coup in tousCoupsAutorises(position):\n",
    "            clonePos = clonePosition(position)\n",
    "            clonePos = joueCoup(position, coup)\n",
    "            bestCoup = coup\n",
    "            if position['trait'] == NORD:\n",
    "                i = 1\n",
    "                while i <= j and alpha < beta:\n",
    "                    val = evalueAlphaBeta(clonePos, prof-1, alpha, beta)\n",
    "                    if type(val) is int: alpha = max(alpha, val)\n",
    "                    else: bestCoup, alpha = coup, max(alpha, val['valeur'])\n",
    "                    i += 1\n",
    "                evalAlphaBeta['coup'], evalAlphaBeta['valeur'] = bestCoup, alpha\n",
    "            else:\n",
    "                i = 1\n",
    "                while i <= j and alpha < beta:\n",
    "                    val = evalueAlphaBeta(clonePos, prof-1, alpha, beta)\n",
    "                    if type(val) is int: beta = min(beta, val)\n",
    "                    else: bestCoup, beta = coup, min(beta, val['valeur'])\n",
    "                    i += 1\n",
    "                \n",
    "                evalAlphaBeta['coup'], evalAlphaBeta['valeur'] = bestCoup, beta\n",
    "            return evalAlphaBeta             "
   ]
  },
  {
   "cell_type": "markdown",
   "metadata": {},
   "source": [
    "<font color=\"RED\" size=\"+1\">**[Q]**</font> Ecrire la fonction <code>choixAlphaBeta(position,prof)</code> qui retourne un coup autorisé\n",
    "  pour la position donnée. Le coup est choisi en appliquant l'algorithme alpha-bêta à une\n",
    "  profondeur <code>p</code>. Cette fonction rend la valeur 0 si aucun coup autorisé n'est possible.\n"
   ]
  },
  {
   "cell_type": "code",
   "execution_count": 81,
   "metadata": {
    "collapsed": true
   },
   "outputs": [],
   "source": [
    "def choixAlphaBeta(position, prof):\n",
    "    \"\"\"Retourne un coup autorisé choisit en appliquant AlphaBeta pour la position donnée\"\"\"\n",
    "    \n",
    "    coup = evalueAlphaBeta(position, prof, -1000000, 1000000)['coup']\n",
    "    return coup if coup in tousCoupsAutorises(position) else 0"
   ]
  },
  {
   "cell_type": "markdown",
   "metadata": {},
   "source": [
    "<font color=\"RED\" size=\"+1\">**[Q]**</font> Ecrire la fonction <code>moteurAlphaBeta(camCPU,prof)</code> permettant à un joueur\n",
    "  humain de jouer contre l'ordinateur, celui-ci trouvant ses coups à l'aide de\n",
    "  l'algorithme alpha-bêta, utilisé à une profondeur <code>prof</code>. L'argument <code>campCPU</code>\n",
    "  donne le camp que doit gérer l'ordinateur (<code>'SUD'</code> ou <code>'NORD'</code>).\n"
   ]
  },
  {
   "cell_type": "code",
   "execution_count": 83,
   "metadata": {
    "collapsed": true
   },
   "outputs": [],
   "source": [
    "def moteurAlphaBeta(campCPU, prof, prise=True):\n",
    "    \"\"\" Affrontement entre un joueur humain et un ordinateur qui choisi \n",
    "        ses coups par l'application de l'algorithme AlphaBeta, avec:\n",
    "        campCPU = camp que doit gérer l'ordinateur (SUD ou NORD),\n",
    "        prof: profondeur à appliquer à l'algorithme.\n",
    "    \"\"\"\n",
    "    \n",
    "    # Initialisation\n",
    "    maPosition = initialise(6)\n",
    "    \n",
    "    print(\"Bienvenue dans cette partie: \\n\")\n",
    "    affichePosition(maPosition)\n",
    "    \n",
    "    while not(positionTerminale(maPosition)):\n",
    "        algo = playCoupOrdinateur(maPosition, SUD, prise)\n",
    "        maPosition = algo('alphabeta', prof) if campCPU == SUD else playCoupHumain(maPosition, SUD, prise)\n",
    "        affichePosition(maPosition)\n",
    "        \n",
    "        if positionTerminale(maPosition): break\n",
    "        \n",
    "        algo = playCoupOrdinateur(maPosition, NORD, prise)\n",
    "        maPosition = playCoupHumain(maPosition, NORD, prise) if campCPU == SUD else algo('alphabeta', prof)\n",
    "        affichePosition(maPosition)\n",
    "        \n",
    "    # Si un des joueurs ne peut plus joueur\n",
    "    if posTerminaleByAffamation(maPosition):\n",
    "        captureGrainesRestantes(maPosition)          \n",
    "        \n",
    "    # Affichage du résultat\n",
    "    printRes(maPosition)"
   ]
  },
  {
   "cell_type": "code",
   "execution_count": 84,
   "metadata": {},
   "outputs": [
    {
     "name": "stdout",
     "output_type": "stream",
     "text": [
      "Bienvenue dans cette partie: \n",
      "\n",
      "* * * * * * * * * * * * * * * * * * * *\n",
      "col: 1 \t 2 \t 3 \t 4 \t 5 \t 6 \t\n",
      "\t\tNORD (prises: 0)\n",
      "< - - - - - - - - - - - - - - -\n",
      "\t[4]\t[4]\t[4]\t[4]\t[4]\t[4]\n",
      "\t[4]\t[4]\t[4]\t[4]\t[4]\t[4]\n",
      "- - - - - - - - - - - - - - - >\n",
      "\t\tSUD (prises: 0)\n",
      "-> camp au trait: SUD\n",
      "Joueur SUD, Entrer le coup à jouer : 1\n",
      "* * * * * * * * * * * * * * * * * * * *\n",
      "col: 1 \t 2 \t 3 \t 4 \t 5 \t 6 \t\n",
      "\t\tNORD (prises: 0)\n",
      "< - - - - - - - - - - - - - - -\n",
      "\t[4]\t[4]\t[4]\t[4]\t[4]\t[4]\n",
      "\t[0]\t[5]\t[5]\t[5]\t[5]\t[4]\n",
      "- - - - - - - - - - - - - - - >\n",
      "\t\tSUD (prises: 0)\n",
      "-> camp au trait: NORD\n",
      "Joueur NORD, Entrer le coup à jouer :  1\n",
      "* * * * * * * * * * * * * * * * * * * *\n",
      "col: 1 \t 2 \t 3 \t 4 \t 5 \t 6 \t\n",
      "\t\tNORD (prises: 0)\n",
      "< - - - - - - - - - - - - - - -\n",
      "\t[0]\t[4]\t[4]\t[4]\t[4]\t[4]\n",
      "\t[1]\t[6]\t[6]\t[6]\t[5]\t[4]\n",
      "- - - - - - - - - - - - - - - >\n",
      "\t\tSUD (prises: 0)\n",
      "-> camp au trait: SUD\n",
      "Joueur SUD, Entrer le coup à jouer : 5\n",
      "* * * * * * * * * * * * * * * * * * * *\n",
      "col: 1 \t 2 \t 3 \t 4 \t 5 \t 6 \t\n",
      "\t\tNORD (prises: 0)\n",
      "< - - - - - - - - - - - - - - -\n",
      "\t[0]\t[4]\t[5]\t[5]\t[5]\t[5]\n",
      "\t[1]\t[6]\t[6]\t[6]\t[0]\t[5]\n",
      "- - - - - - - - - - - - - - - >\n",
      "\t\tSUD (prises: 0)\n",
      "-> camp au trait: NORD\n",
      "Joueur NORD, Entrer le coup à jouer :  2\n",
      "* * * * * * * * * * * * * * * * * * * *\n",
      "col: 1 \t 2 \t 3 \t 4 \t 5 \t 6 \t\n",
      "\t\tNORD (prises: 0)\n",
      "< - - - - - - - - - - - - - - -\n",
      "\t[1]\t[0]\t[5]\t[5]\t[5]\t[5]\n",
      "\t[2]\t[7]\t[7]\t[6]\t[0]\t[5]\n",
      "- - - - - - - - - - - - - - - >\n",
      "\t\tSUD (prises: 0)\n",
      "-> camp au trait: SUD\n",
      "Joueur SUD, Entrer le coup à jouer : exit\n"
     ]
    },
    {
     "ename": "SystemExit",
     "evalue": "0",
     "output_type": "error",
     "traceback": [
      "An exception has occurred, use %tb to see the full traceback.\n",
      "\u001b[0;31mSystemExit\u001b[0m\u001b[0;31m:\u001b[0m 0\n"
     ]
    },
    {
     "name": "stderr",
     "output_type": "stream",
     "text": [
      "/Users/ahmedtidianebalde/anaconda3/lib/python3.6/site-packages/IPython/core/interactiveshell.py:2870: UserWarning: To exit: use 'exit', 'quit', or Ctrl-D.\n",
      "  warn(\"To exit: use 'exit', 'quit', or Ctrl-D.\", stacklevel=1)\n"
     ]
    }
   ],
   "source": [
    "moteurAlphaBeta(\"NORD\",3)"
   ]
  },
  {
   "cell_type": "markdown",
   "metadata": {},
   "source": [
    "## Pour aller plus loin..."
   ]
  },
  {
   "cell_type": "markdown",
   "metadata": {},
   "source": [
    "Ne pas hésiter à ajouter des fonctionnalités ou des améliorations à votre programme.\n",
    "Par exemple :\n",
    "- une interface graphique pour afficher le tablier, saisir les coups,...\n",
    "- proposer une nouvelle fonction d'évaluation plus efficace que celle donnée dans\n",
    "  l'exercice 2. Tester le programme en le faisant jouer contre lui même un grand nombre de\n",
    "  fois (automatiquement).\n",
    "- ajouter la règle suivante: un coup qui retire toutes les graines du camp de\n",
    "  l'adversaire peut être quand même joué mais dans ce cas, aucune prise n'est effectuée.\n",
    "- toute autre amélioration que vous pouvez envisager.\n",
    "\n"
   ]
  },
  {
   "cell_type": "markdown",
   "metadata": {},
   "source": [
    "### Ajout de règle"
   ]
  },
  {
   "cell_type": "code",
   "execution_count": 88,
   "metadata": {
    "collapsed": true
   },
   "outputs": [],
   "source": [
    "# - - - - - - - - - - - - - - - JOUE UN COUP sans prise éventuelle\n",
    "def joueCoupSansPrise(position,coup):\n",
    "    \"\"\" POSITION * COUP -> POSITION\n",
    "        Hypothèse: coup est jouable.\n",
    "\n",
    "        Cette fonction retourne la position obtenue une fois le coup joué.\n",
    "    \"\"\"\n",
    "    nouvelle_pos = clonePosition(position)   # on duplique pour ne pas modifier l'original\n",
    "    n = nouvelle_pos['taille']\n",
    "    trait = nouvelle_pos['trait']\n",
    "    # on transforme coup en indice\n",
    "    if trait == 'SUD':\n",
    "        indice_depart = coup-1\n",
    "    else:\n",
    "        indice_depart = 2*n-coup\n",
    "    # retrait des graines de la case de départ\n",
    "    nbGraines = nouvelle_pos['tablier'][indice_depart]\n",
    "    nouvelle_pos['tablier'][indice_depart] = 0\n",
    "    # on sème les graines dans les cases à partir de celle de départ\n",
    "    indice_courant = indice_depart\n",
    "    while nbGraines > 0:\n",
    "        indice_courant = (indice_courant + 1) % (2*n)\n",
    "        if (indice_courant != indice_depart):              # si ce n'est pas la case de départ\n",
    "            nouvelle_pos['tablier'][indice_courant] += 1   # on sème une graine\n",
    "            nbGraines -= 1\n",
    "    \n",
    "    if not(posTerminaleByAffamation(position)):\n",
    "        # la case d'arrivée est dans le camp ennemi ?\n",
    "        if (trait == 'NORD'):\n",
    "            estChezEnnemi = (indice_courant < n)\n",
    "        else:\n",
    "            estChezEnnemi = (indice_courant >= n)\n",
    "        # réalisation des prises éventuelles\n",
    "        while estChezEnnemi and (nouvelle_pos['tablier'][indice_courant] in range(2,4)):\n",
    "            nouvelle_pos['graines'][trait] += nouvelle_pos['tablier'][indice_courant]\n",
    "            nouvelle_pos['tablier'][indice_courant] = 0\n",
    "            indice_courant = (indice_courant - 1) % (2*n)\n",
    "            if (trait == 'NORD'):\n",
    "                estChezEnnemi = (indice_courant < n)\n",
    "            else:\n",
    "                estChezEnnemi = (indice_courant >= n)\n",
    "        \n",
    "    # mise à jour du camp au trait\n",
    "    if trait == 'SUD':\n",
    "        nouvelle_pos['trait'] = 'NORD'\n",
    "    else:\n",
    "        nouvelle_pos['trait'] = 'SUD'\n",
    "    return nouvelle_pos\n",
    "# - - - - - - - - - -"
   ]
  },
  {
   "cell_type": "code",
   "execution_count": 89,
   "metadata": {},
   "outputs": [
    {
     "name": "stdout",
     "output_type": "stream",
     "text": [
      "Bienvenue dans cette partie: \n",
      "\n",
      "* * * * * * * * * * * * * * * * * * * *\n",
      "col: 1 \t 2 \t 3 \t 4 \t 5 \t 6 \t\n",
      "\t\tNORD (prises: 0)\n",
      "< - - - - - - - - - - - - - - -\n",
      "\t[4]\t[4]\t[4]\t[4]\t[4]\t[4]\n",
      "\t[4]\t[4]\t[4]\t[4]\t[4]\t[4]\n",
      "- - - - - - - - - - - - - - - >\n",
      "\t\tSUD (prises: 0)\n",
      "-> camp au trait: SUD\n",
      "Joueur SUD, Entrer le coup à jouer : 2\n",
      "* * * * * * * * * * * * * * * * * * * *\n",
      "col: 1 \t 2 \t 3 \t 4 \t 5 \t 6 \t\n",
      "\t\tNORD (prises: 0)\n",
      "< - - - - - - - - - - - - - - -\n",
      "\t[4]\t[4]\t[4]\t[4]\t[4]\t[4]\n",
      "\t[4]\t[0]\t[5]\t[5]\t[5]\t[5]\n",
      "- - - - - - - - - - - - - - - >\n",
      "\t\tSUD (prises: 0)\n",
      "-> camp au trait: NORD\n",
      "Joueur NORD, Entrer le coup à jouer : 3\n",
      "* * * * * * * * * * * * * * * * * * * *\n",
      "col: 1 \t 2 \t 3 \t 4 \t 5 \t 6 \t\n",
      "\t\tNORD (prises: 0)\n",
      "< - - - - - - - - - - - - - - -\n",
      "\t[5]\t[5]\t[0]\t[4]\t[4]\t[4]\n",
      "\t[5]\t[1]\t[5]\t[5]\t[5]\t[5]\n",
      "- - - - - - - - - - - - - - - >\n",
      "\t\tSUD (prises: 0)\n",
      "-> camp au trait: SUD\n",
      "Joueur SUD, Entrer le coup à jouer : 6\n",
      "* * * * * * * * * * * * * * * * * * * *\n",
      "col: 1 \t 2 \t 3 \t 4 \t 5 \t 6 \t\n",
      "\t\tNORD (prises: 0)\n",
      "< - - - - - - - - - - - - - - -\n",
      "\t[5]\t[6]\t[1]\t[5]\t[5]\t[5]\n",
      "\t[5]\t[1]\t[5]\t[5]\t[5]\t[0]\n",
      "- - - - - - - - - - - - - - - >\n",
      "\t\tSUD (prises: 0)\n",
      "-> camp au trait: NORD\n",
      "Joueur NORD, Entrer le coup à jouer : 4\n",
      "* * * * * * * * * * * * * * * * * * * *\n",
      "col: 1 \t 2 \t 3 \t 4 \t 5 \t 6 \t\n",
      "\t\tNORD (prises: 2)\n",
      "< - - - - - - - - - - - - - - -\n",
      "\t[6]\t[7]\t[2]\t[0]\t[5]\t[5]\n",
      "\t[6]\t[0]\t[5]\t[5]\t[5]\t[0]\n",
      "- - - - - - - - - - - - - - - >\n",
      "\t\tSUD (prises: 0)\n",
      "-> camp au trait: SUD\n",
      "Joueur SUD, Entrer le coup à jouer : exit\n"
     ]
    },
    {
     "ename": "SystemExit",
     "evalue": "0",
     "output_type": "error",
     "traceback": [
      "An exception has occurred, use %tb to see the full traceback.\n",
      "\u001b[0;31mSystemExit\u001b[0m\u001b[0;31m:\u001b[0m 0\n"
     ]
    },
    {
     "name": "stderr",
     "output_type": "stream",
     "text": [
      "/Users/ahmedtidianebalde/anaconda3/lib/python3.6/site-packages/IPython/core/interactiveshell.py:2870: UserWarning: To exit: use 'exit', 'quit', or Ctrl-D.\n",
      "  warn(\"To exit: use 'exit', 'quit', or Ctrl-D.\", stacklevel=1)\n"
     ]
    }
   ],
   "source": [
    "moteurHumains(prise=False)"
   ]
  },
  {
   "cell_type": "markdown",
   "metadata": {},
   "source": [
    "### Interface graphique fonctionelle pour <font color=\"RED\">le moteur humain (voir menu 2 players).</font> "
   ]
  },
  {
   "cell_type": "code",
   "execution_count": 35,
   "metadata": {
    "collapsed": true
   },
   "outputs": [],
   "source": [
    "import tkinter\n",
    "from tkinter import *\n",
    "from tkinter.messagebox import *"
   ]
  },
  {
   "cell_type": "code",
   "execution_count": 67,
   "metadata": {},
   "outputs": [
    {
     "name": "stdout",
     "output_type": "stream",
     "text": [
      "Coup Sud 6\n",
      "[4, 4, 4, 4, 4, 0, 5, 5, 5, 5, 4, 4]\n",
      "Coup Nord 1\n",
      "[5, 5, 5, 5, 4, 0, 5, 5, 5, 5, 4, 0]\n",
      "Coup Sud 2\n",
      "[5, 0, 6, 6, 5, 1, 6, 5, 5, 5, 4, 0]\n",
      "Coup Nord 2\n",
      "[6, 1, 7, 6, 5, 1, 6, 5, 5, 5, 0, 1]\n",
      "Coup Sud 3\n",
      "[6, 1, 0, 7, 6, 2, 7, 6, 6, 6, 0, 1]\n",
      "Coup Nord 5\n",
      "[7, 0, 0, 7, 6, 2, 7, 0, 7, 7, 1, 2]\n",
      "Coup Sud 4\n",
      "[7, 0, 0, 0, 7, 3, 8, 1, 8, 8, 0, 2]\n",
      "Coup Nord 4\n",
      "[8, 1, 1, 1, 8, 3, 8, 1, 0, 9, 1, 3]\n",
      "Coup Sud 5\n",
      "[9, 1, 1, 1, 0, 4, 9, 2, 1, 10, 2, 4]\n",
      "Coup Nord 3\n",
      "[10, 2, 2, 2, 1, 5, 10, 3, 1, 0, 3, 5]\n",
      "Coup Sud 6\n",
      "[10, 2, 2, 2, 1, 0, 11, 4, 2, 1, 4, 5]\n",
      "Coup Nord 1\n",
      "[11, 0, 0, 0, 0, 0, 11, 4, 2, 1, 4, 0]\n",
      "Coup Sud 1\n",
      "[0, 1, 1, 1, 1, 1, 12, 5, 3, 2, 5, 1]\n",
      "Coup Nord 6\n",
      "[1, 2, 2, 2, 2, 2, 0, 7, 4, 3, 6, 2]\n",
      "Coup Sud 6\n",
      "[1, 2, 2, 2, 2, 0, 1, 8, 4, 3, 6, 2]\n",
      "Coup non autorisé NORD 2\n",
      "Coup non autorisé NORD 2\n",
      "Coup Nord 5\n",
      "[0, 0, 0, 0, 2, 0, 1, 0, 5, 4, 7, 3]\n",
      "Coup Sud 5\n",
      "[0, 0, 0, 0, 0, 1, 0, 0, 5, 4, 7, 3]\n",
      "Coup Nord 2\n",
      "[1, 1, 1, 1, 1, 0, 0, 0, 5, 4, 0, 4]\n"
     ]
    },
    {
     "name": "stderr",
     "output_type": "stream",
     "text": [
      "Exception in Tkinter callback\n",
      "Traceback (most recent call last):\n",
      "  File \"/Users/ahmedtidianebalde/anaconda3/lib/python3.6/tkinter/__init__.py\", line 1699, in __call__\n",
      "    return self.func(*args)\n",
      "  File \"<ipython-input-67-f610320c1143>\", line 139, in <lambda>\n",
      "    width=7, fg='#FF0080', command=lambda c=(coup+1):self.playNord(c),\n",
      "  File \"<ipython-input-67-f610320c1143>\", line 235, in playNord\n",
      "    self.printResInterface(self.position)\n",
      "  File \"<ipython-input-67-f610320c1143>\", line 169, in printResInterface\n",
      "    self.vainqueur.configure(font=\"-family Times -weight bold -size 18 -slant roman\")\n",
      "  File \"/Users/ahmedtidianebalde/anaconda3/lib/python3.6/tkinter/__init__.py\", line 2095, in __getattr__\n",
      "    return getattr(self.tk, attr)\n",
      "AttributeError: '_tkinter.tkapp' object has no attribute 'vainqueur'\n"
     ]
    },
    {
     "ename": "KeyboardInterrupt",
     "evalue": "",
     "output_type": "error",
     "traceback": [
      "\u001b[0;31m---------------------------------------------------------------------------\u001b[0m",
      "\u001b[0;31mKeyboardInterrupt\u001b[0m                         Traceback (most recent call last)",
      "\u001b[0;32m<ipython-input-67-f610320c1143>\u001b[0m in \u001b[0;36m<module>\u001b[0;34m()\u001b[0m\n\u001b[1;32m    240\u001b[0m \u001b[0;32mif\u001b[0m \u001b[0m__name__\u001b[0m \u001b[0;34m==\u001b[0m \u001b[0;34m\"__main__\"\u001b[0m\u001b[0;34m:\u001b[0m\u001b[0;34m\u001b[0m\u001b[0m\n\u001b[1;32m    241\u001b[0m     \u001b[0mapp\u001b[0m \u001b[0;34m=\u001b[0m \u001b[0mAwele\u001b[0m\u001b[0;34m(\u001b[0m\u001b[0;32mNone\u001b[0m\u001b[0;34m)\u001b[0m\u001b[0;34m\u001b[0m\u001b[0m\n\u001b[0;32m--> 242\u001b[0;31m     \u001b[0mapp\u001b[0m\u001b[0;34m.\u001b[0m\u001b[0mmainloop\u001b[0m\u001b[0;34m(\u001b[0m\u001b[0;34m)\u001b[0m\u001b[0;34m\u001b[0m\u001b[0m\n\u001b[0m",
      "\u001b[0;32m~/anaconda3/lib/python3.6/tkinter/__init__.py\u001b[0m in \u001b[0;36mmainloop\u001b[0;34m(self, n)\u001b[0m\n\u001b[1;32m   1275\u001b[0m     \u001b[0;32mdef\u001b[0m \u001b[0mmainloop\u001b[0m\u001b[0;34m(\u001b[0m\u001b[0mself\u001b[0m\u001b[0;34m,\u001b[0m \u001b[0mn\u001b[0m\u001b[0;34m=\u001b[0m\u001b[0;36m0\u001b[0m\u001b[0;34m)\u001b[0m\u001b[0;34m:\u001b[0m\u001b[0;34m\u001b[0m\u001b[0m\n\u001b[1;32m   1276\u001b[0m         \u001b[0;34m\"\"\"Call the mainloop of Tk.\"\"\"\u001b[0m\u001b[0;34m\u001b[0m\u001b[0m\n\u001b[0;32m-> 1277\u001b[0;31m         \u001b[0mself\u001b[0m\u001b[0;34m.\u001b[0m\u001b[0mtk\u001b[0m\u001b[0;34m.\u001b[0m\u001b[0mmainloop\u001b[0m\u001b[0;34m(\u001b[0m\u001b[0mn\u001b[0m\u001b[0;34m)\u001b[0m\u001b[0;34m\u001b[0m\u001b[0m\n\u001b[0m\u001b[1;32m   1278\u001b[0m     \u001b[0;32mdef\u001b[0m \u001b[0mquit\u001b[0m\u001b[0;34m(\u001b[0m\u001b[0mself\u001b[0m\u001b[0;34m)\u001b[0m\u001b[0;34m:\u001b[0m\u001b[0;34m\u001b[0m\u001b[0m\n\u001b[1;32m   1279\u001b[0m         \u001b[0;34m\"\"\"Quit the Tcl interpreter. All widgets will be destroyed.\"\"\"\u001b[0m\u001b[0;34m\u001b[0m\u001b[0m\n",
      "\u001b[0;31mKeyboardInterrupt\u001b[0m: "
     ]
    }
   ],
   "source": [
    "class Awele(tkinter.Tk):\n",
    "    \n",
    "    def __init__(self, parent):\n",
    "        tkinter.Tk.__init__(self, parent)                           # Création de la fenêtre principale (main window)\n",
    "        self.parent = parent                                        # Bonne habitude de référencer le parent\n",
    "        self.title('Awélé')                                         # Titre de la fenêtre\n",
    "        self.geometry(\"600x230\")                                    # Taille de la fenêtre\n",
    "        self['bg']=bg=\"#34ADAF\"                                     # couleur de fond, b22222\n",
    "        self.fontTitle = \"-family {Times} -size 25 -weight normal -slant roman -underline 0 -overstrike 0\"\n",
    "        self.fontButton = \"-family Times -size 18 -weight normal -slant italic\"\n",
    "        self.position = initialise(6)                               # Initialisation du tablier du jeu\n",
    "        self.askNbPlayers()\n",
    "        \n",
    "        #self.quit_button = tkinter.Button(self, text=\"Quit\", command=self.quit, width=5)\n",
    "        #self.quit_button.pack(side=RIGHT, padx=5, pady=5)\n",
    "        \n",
    "        #self.initialize()\n",
    "\n",
    "    \n",
    "    def addEntry(self, defaultvalue, cote=TOP, w=15, px=10, py=10):\n",
    "        x = StringVar() \n",
    "        x.set(defaultvalue)\n",
    "        xEntry = Entry(self, textvariable=x, w=15)\n",
    "        xEntry.pack(side=cote, padx=px, pady=py)\n",
    "        return xEntry\n",
    "        \n",
    "    \n",
    "    def addButton(self, s, value, cmd, cote=TOP, w=12, px=10, py=10):\n",
    "        x = Button(s,text=value,fg='navy', width=w, command=cmd)\n",
    "        x.configure(font=self.fontButton)\n",
    "        x.pack(side=cote, padx=px, pady=10)\n",
    "        return x\n",
    "        \n",
    "    \n",
    "    def addLabel(self, s, value, size=28, r='flat', cote=TOP, b=\"#34ADAF\", f=\"#000000\", px=10, py=10):\n",
    "        fontTitle = \"-family {Times} -size \"+str(size)+\" -weight normal -slant roman -underline 0 -overstrike 0\"\n",
    "        x = Label(s, text=value, relief=r, bg=b, fg=f)\n",
    "        x.configure(font=fontTitle)\n",
    "        x.pack(side=cote, padx=px, pady=py)\n",
    "        return x\n",
    "    \n",
    "    \n",
    "    def destroyFrame(self):\n",
    "        for widget in self.winfo_children():                        # CHOIX 1:Si vous utilisez .pack()\n",
    "            widget.pack_forget()                                    # CHOIX 2: widget.destroy()\n",
    "                                                                    \n",
    "                    \n",
    "    def quit(self):\n",
    "        self.destroy()\n",
    "          \n",
    "        \n",
    "    def askNbPlayers(self):\n",
    "        \"\"\" création d'un widget Label et de deux widgets Button pour \n",
    "            que l'utilisateur sélectionne le nombre de joueurs \"\"\"\n",
    "        \n",
    "        self.addLabel(self, \"Choose the number of players\")\n",
    "        self.addButton(self, \"1 Player\", self.nameOnePlayer)              #s = Spinbox(nbPlayersFrame, from_=1, to=2, width=5)\n",
    "        self.addButton(self, \"2 Players\", self.nameTwoPlayers)\n",
    "        \n",
    "        \n",
    "    def nameOnePlayer(self):\n",
    "        self.destroyFrame()\n",
    "        self.addLabel(self, \"Please enter your name below :\")\n",
    "        self.player1Entry = self.addEntry(\"Player 1\", TOP)\n",
    "        self.addButton(self, \"Valider\", self.initOnePlayer, BOTTOM)\n",
    "        \n",
    "        \n",
    "    def nameTwoPlayers(self): \n",
    "        self.destroyFrame()\n",
    "        self.addLabel(self, \"Please enter your names below :\")\n",
    "        self.player1Entry = self.addEntry(\"Player 1\")\n",
    "        self.player2Entry = self.addEntry(\"Player 2\")\n",
    "        self.addButton(self, \"Valider\", self.initTwoPlayers, BOTTOM)\n",
    "    \n",
    "    \n",
    "    def initOnePlayer(self):\n",
    "        self.player1Name = self.player1Entry.get()\n",
    "        self.destroyFrame()\n",
    "        #askyesnocancel(self, \"Do you want to begin (South Side) ? \")\n",
    "        self.addLabel(self, \"Do you want to begin \"+self.player1Name+\" (South Side) ?\", 20)\n",
    "        self.addButton(self, \"Yes\", command=lambda:self.computerAlgorithme(\"Yes\"))\n",
    "        self.addButton(self, \"No\", command=lambda:self.computerAlgorithme(\"No\"))\n",
    "        \n",
    "    \n",
    "    def computerAlgorithme(self, rep):\n",
    "        self.begin = rep\n",
    "        self.destroyFrame()\n",
    "        self.addLabel(self, \"Choose the algorithm to use for the computer\", 20)\n",
    "        self.addButton(self, \"Ramdom\", command=lambda:self.computerAlgorithme(\"Yes\"))\n",
    "        self.addButton(self, \"Minimax\", command=lambda:self.computerAlgorithme(\"Minimax\"))\n",
    "        self.addButton(self, \"AlphaBeta\", command=lambda:self.computerAlgorithme(\"AlphaBeta\"))\n",
    "            \n",
    "\n",
    "            \n",
    "    def begin(self):\n",
    "        self.destroyFrame()\n",
    "        tablier = Frame(self,borderwidth=2,relief=GROOVE, bg=\"#b22222\")\n",
    "        tablier.pack(side=LEFT,padx=10,pady=10)\n",
    "        for camp in range(2):\n",
    "            for coup in range(self.position['taille']):\n",
    "                if camp == 1:\n",
    "                    case = Button(tablier, text=(self.position['tablier'][coup]), width=5, fg='#FF0080')\n",
    "                else:\n",
    "                    case = Button(tablier, text=(self.position['tablier'][-(coup+1)]), width=5)\n",
    "                case.grid(row=camp, column=coup)\n",
    "        players = Frame(self, borderwidth=2, relief='groove', bg=\"#b22222\")\n",
    "        players.pack(side=RIGHT, padx=10, pady=10)\n",
    "        self.addLabel(self, \"Computer\", 18, 'groove', TOP, \"#EDF7F2\", \"navy\")\n",
    "        self.addLabel(self, self.player1Name, 18, 'groove', BOTTOM, \"#EDF7F2\", \"navy\")\n",
    "    \n",
    "    \n",
    "    def initTwoPlayers(self):\n",
    "        self.player1Name = self.player1Entry.get()\n",
    "        self.player2Name = self.player2Entry.get()\n",
    "        self.destroyFrame()\n",
    "        \n",
    "        self.leftContainer = Frame(self, borderwidth=2, relief='groove')\n",
    "        self.leftContainer.pack(side=LEFT, padx=10, pady=10)\n",
    "        \n",
    "        self.topSettings = Frame(self.leftContainer, borderwidth=2, relief='groove')\n",
    "        self.topSettings.pack(side=TOP, padx=5, pady=5)\n",
    "        \n",
    "        self.tablier = Frame(self.leftContainer, relief='groove')\n",
    "        self.tablier.pack(side=TOP,padx=10,pady=10)\n",
    "        \n",
    "        self.bottomSettings = Frame(self.leftContainer, borderwidth=2, relief='groove')\n",
    "        self.bottomSettings.pack(side=TOP, padx=5, pady=5)\n",
    "        \n",
    "        self.players = Frame(self, borderwidth=2, relief='groove')\n",
    "        self.players.pack(side=LEFT, padx=10, pady=10)\n",
    "        \n",
    "        \n",
    "        self.case = [[0 for j in range(2*self.position['taille'])] for i in range(2)]\n",
    "        for camp in range(2):\n",
    "            for coup in range(self.position['taille']):\n",
    "                # NORD\n",
    "                if camp == 0:\n",
    "                    self.case[camp][coup] = Button(self.tablier, text=(self.position['tablier'][-(coup+1)]),\n",
    "                                                width=7, fg='#FF0080', command=lambda c=(coup+1):self.playNord(c),\n",
    "                                                  highlightbackground='#F9E79F')\n",
    "                    self.case[camp][coup].config(font=\"-family Times -size 14 -weight bold -slant roman\")\n",
    "                    self.case[camp][coup].grid(row=camp, column=coup)\n",
    "                else:\n",
    "                    # SUD\n",
    "                    self.case[camp][coup] = Button(self.tablier, text=(self.position['tablier'][coup+1]),\n",
    "                                                  width=7, fg=\"#5B6908\", command=lambda c=(coup+1):self.playSud(c), \n",
    "                                                   highlightbackground='#F9E79F')\n",
    "                    self.case[camp][coup].configure(font=\"-family Times -size 14 -weight bold -slant roman\")\n",
    "                    self.case[camp][coup].grid(row=camp, column=coup)         \n",
    "\n",
    "        #\"#EDF7F2\"\n",
    "        self.addLabel(self.players, self.player1Name, 18, 'groove', TOP, \"#F9E79F\", \"navy\")\n",
    "        self.southScore = self.addLabel(self.bottomSettings, self.position['graines'][SUD], 20, cote=BOTTOM, b=\"#F9E79F\")\n",
    "        self.southScore.configure(font=\"-family Times -weight bold -size 18 -slant roman\")\n",
    "        self.addLabel(self.players, self.player2Name, 18, 'groove', BOTTOM, \"#F9E79F\", \"navy\")\n",
    "        self.northScore = self.addLabel(self.topSettings, self.position['graines'][NORD], 20, cote=TOP, b=\"#F9E79F\")\n",
    "        self.northScore.configure(font=\"-family Times -weight bold -size 18 -slant roman\")\n",
    "    \n",
    "    \n",
    "    def printResInterface(self, position):\n",
    "        \"\"\"Afficher le résulat du jeu\"\"\"\n",
    "\n",
    "        if getEarnedSeeds(self.position, SUD) > getEarnedSeeds(self.position, NORD):\n",
    "            self.vainqueur = self.addLabel(self.bottomSettings, \"Vainqueur\", 20, cote=TOP, b=\"#00FF40\")\n",
    "            self.vainqueur.configure(font=\"-family Times -weight bold -size 18 -slant roman\")\n",
    "            print(\"\\nLe vainqueur est le joueur **SUD**, bravoooo !\")\n",
    "        elif getEarnedSeeds(self.position, SUD) < getEarnedSeeds(self.position, NORD):\n",
    "            self.vainqeuur= self.addLabel(self.topSettings, \"Vainqueur\", 20, cote=TOP, b=\"#00FF40\")\n",
    "            self.vainqueur.configure(font=\"-family Times -weight bold -size 18 -slant roman\")\n",
    "            print(\"\\nLe vainqueur est le joueur **NORD**, bravoooo !\")\n",
    "        else:\n",
    "            self.addLabel(self.players, self.player1Name, 18, 'groove', TOP, \"#00FF40F9E79F\", \"navy\")\n",
    "            print(\"**Aucun** vainqueur, égalité !\")\n",
    "\n",
    "        print(\"\\nNombre de Graines capturees par chacun:\", position['graines'])\n",
    "\n",
    "    \n",
    "    def playSud(self, coup):\n",
    "        self.coupSud = coup\n",
    "        if self.position['trait'] != \"SUD\":\n",
    "            self.turn = Label(self.tablier, text=\"<==\", bg=\"#FF0080\", fg=\"white\", height=1).grid(row=0, column=6)\n",
    "            print(\"It's \"+self.player1Name+\"'s turn, not yours\"+self.player2Name)\n",
    "            #self.turn['text'] = None\n",
    "        elif not(coupAutorise(self.position, self.coupSud)):\n",
    "            print(\"Coup non autorisé SUD\", self.coupSud)\n",
    "            self.position['trait'] = SUD\n",
    "        else:\n",
    "            print(\"Coup Sud\", coup)\n",
    "            self.position = joueCoup(self.position, coup)\n",
    "            \n",
    "            if posTerminaleByAffamation(self.position):\n",
    "                captureGrainesRestantes(self.position) \n",
    "                self.printResInterface(self.position)\n",
    "                \n",
    "            # Mise à jour du tablier\n",
    "            for camp in range(2):\n",
    "                for coup in range(self.position['taille']):\n",
    "                    # NORD\n",
    "                    if camp == 0:\n",
    "                        self.case[camp][coup][\"text\"] = self.position['tablier'][-(coup+1)]\n",
    "                    else:\n",
    "                        self.case[camp][coup][\"text\"] = self.position['tablier'][coup]\n",
    "            # Mise à jour des socres\n",
    "            self.northScore['text'] = self.position['graines'][NORD]\n",
    "            self.southScore['text'] = self.position['graines'][SUD]\n",
    "            print(self.position['tablier'])\n",
    "            \n",
    "            if posTerminaleByGain(self.position):\n",
    "                self.printResInterface(self.position)\n",
    "    \n",
    "    \n",
    "    def playNord(self, coup):\n",
    "        self.coupNord = coup\n",
    "        if self.position['trait'] != \"NORD\":\n",
    "            self.turn = Label(self.tablier, text=\"<==\", bg=\"#5B6908\", fg=\"white\", height=1).grid(row=1, column=6)\n",
    "            print(\"It's \"+self.player2Name+\"'s turn, not yours\"+self.player1Name)\n",
    "            #self.turn['text'] = None\n",
    "        elif not(coupAutorise(self.position, self.coupNord)):\n",
    "            print(\"Coup non autorisé NORD\", self.coupNord)\n",
    "            self.position['trait'] = NORD\n",
    "        else:\n",
    "            print(\"Coup Nord\", coup)\n",
    "            self.position = joueCoup(self.position, coup)\n",
    "            \n",
    "            if posTerminaleByAffamation(self.position):\n",
    "                captureGrainesRestantes(self.position) \n",
    "                self.printResInterface(self.position)\n",
    "                \n",
    "            # Mise à jour du tablier\n",
    "            for camp in range(2):\n",
    "                for coup in range(self.position['taille']):\n",
    "                    # NORD\n",
    "                    if camp == 0:\n",
    "                        self.case[camp][coup][\"text\"] = self.position['tablier'][-(coup+1)]\n",
    "                    else:\n",
    "                        self.case[camp][coup][\"text\"] = self.position['tablier'][coup]\n",
    "            # Mise à jour des scores\n",
    "            self.northScore['text'] = self.position['graines'][NORD]\n",
    "            self.southScore['text'] = self.position['graines'][SUD]\n",
    "            print(self.position['tablier'])\n",
    "            \n",
    "            if posTerminaleByGain(self.position):\n",
    "                self.printResInterface(self.position)\n",
    "            \n",
    "            \n",
    "\n",
    "        \n",
    "if __name__ == \"__main__\":\n",
    "    app = Awele(None)\n",
    "    app.mainloop()"
   ]
  },
  {
   "cell_type": "markdown",
   "metadata": {},
   "source": [
    "## Annexe : présentation du jeu d'Awélé\n",
    "\n",
    "L'Awélé est un jeu d'origine africaine qui se joue sur un plateau (ou tablier) où chacun des 2 joueurs (Sud et Nord) possède 6 cases.  Les règles de ce jeu  sont simples et facilement implémentables.\n",
    "\n",
    "Voir la page wikipédia (http://fr.wikipedia.org/wiki/Awalé) qui détaille les règles que nous utilisons ici, ainsi que le site http://s.helan.free.fr/awale/lejeu/jouer/ qui permet de s'initier en jouant\n",
    "  contre un joueur artificiel.\n",
    "\n",
    "### Règles du jeu\n",
    "Dans la position de départ, toutes les cases sont remplies avec 4 graines.  Le joueur dont\n",
    "c'est le tour de jeu (on considère que le camp Sud débute toujours la partie.) choisit une de ses cases contenant des graines, et en retire toutes les graines qu'elle contient.  Il sème alors ces graines une par une dans les cases suivantes dans le sens inverse des aiguilles d'une montre.  Au cours de cette pose, s'il repasse sur la case qui contenait les graines au départ, il n'y dépose pas de graine.\n",
    "\n",
    "Si la dernière graine est semée dans une case de l'adversaire contenant 2 ou 3 graines après la pose, les graines dans cette case sont capturées par le joueur et elles sont alors retirées du jeu (elles sont mises dans le butin du joueur).  Dans ce cas, si l'avant-dernière case est aussi une case ennemie contenant 2 ou 3 graines, les graines en sont aussi capturées, et ainsi de suite tant que des prises sont possibles (toujours dans le camp ennemi).\n",
    "\n",
    "Il est à noter qu'un coup n'effectue pas forcément une prise, mais si une prise existe à l'issue d'un coup, elle doit obligatoirement être réalisée totalement.\n",
    "\n",
    "A l'issue du coup ainsi exécuté, il doit rester au moins une graine dans l'une des cases de l'adversaire (il ne faut pas ''affamer'' l'adversaire) sinon la position est considérée comme illégale et le coup ne peut pas être joué.\n",
    "\n",
    "Dès qu'un joueur a capturé 25 graines ou plus, il est déclaré vainqueur de la partie et le jeu s'arrête.\n",
    "\n",
    "Dans le cas où un joueur ne peut pas jouer, la partie s'arrête et toutes les graines restant sur le tablier sont capturées par son adversaire.  Dans ce cas, le joueur qui a capturé le plus de graines a gagné.\n",
    "\n",
    "### Représentation du tablier\n",
    "\n",
    "Le tablier est toujours représenté avec les cases de Sud en bas.  \n",
    "Les cases sont ordonnées et repérées par des chiffres, de 1 à 6, de la gauche vers la droite. Dans chaque case, on indique le nombre de graines qu'elle contient. Ainsi, le tablier de départ classique est donné ci-dessous:\n",
    "\n",
    "<p />\n",
    "<table>\n",
    "<tr>\n",
    "<td>\n",
    "**NORD**\n",
    "\\begin{array}{|c|c|c|c|c|c|} \\hline\n",
    "      4 & 4 & 4 & 4 &\t4 & 4\\\\\n",
    "      \\hline\n",
    "      4 & 4 & 4 & 4 & 4 & 4\\\\\n",
    "      \\hline\n",
    "\\end{array}\n",
    "**SUD**\n",
    "\n",
    "\\begin{array}{cccccc} \n",
    "      1 & 2 & 3 & 4 & 5 & 6\\\\\n",
    "\\end{array}\n",
    "</td>\n",
    "</tr>\n",
    "</table>\n",
    "\n",
    "Un coup est noté en donnant le camp qui joue ainsi que le numéro de la case qui est vidée.  Par exemple, $($SUD$, 2)$ si le camp Sud joue en prenant les graines de la deuxième case en partant de la gauche qui se trouve dans son camp. Ou alors, $($NORD$, 6)$ si le camp Nord joue en prenant les graines de la case numéro 6 qui se trouve dans son camp, c'est à dire la sixième case en partant de la gauche qui se trouve dans son camp, soit celle la plus en haut et à droite du tablier.\n",
    "\n",
    "\n",
    "### Exemple de coup avec prise de graines\n",
    "\n",
    "A partir de la position située à gauche dans la figure ci-dessous, Sud décide de jouer le coup $4$.  La position au centre de la figure montre la situation intermédiaire, suite au dépôt des $6$ graines dans les $6$ cases qui suivent la case $4$ dans l'ordre inverse des aiguilles d'une montre.\n",
    "\n",
    "<p />\n",
    "<table>\n",
    "<tr>\n",
    "<td>Départ</td>\n",
    "<td>SUD a réparti les graines de $4$</td>\n",
    "<td>SUD retire les graines dans le camp NORD</td>\n",
    "</tr>\n",
    "<tr>\n",
    "<td>\n",
    "**NORD**\n",
    "\\begin{array}{|c|c|c|c|c|c|} \\hline\n",
    " & 2 & 1 & 2 & 1 & 1\\\\\n",
    "\\hline\n",
    "1 & & & {\\bf 6} & & 1\\\\\n",
    "     \\hline\n",
    "\\end{array}\n",
    "**SUD**\n",
    "\\begin{array}{cccccc} \n",
    "      1 & 2 & 3 & 4 & 5 & 6\\\\\n",
    "\\end{array}\n",
    "\n",
    "</td>\n",
    "<td>\n",
    "**NORD**\n",
    "\\begin{array}{|c|c|c|c|c|c|} \\hline\n",
    "& 2 & {\\bf 2} & {\\bf 3} & {\\bf 2} & {\\bf 2}\\\\\n",
    "\\hline\n",
    "1 & & & & {\\bf 1} & {\\bf 2}\\\\\n",
    "      \\hline\n",
    "\\end{array}\n",
    "**SUD**\n",
    "\n",
    "\\begin{array}{cccccc} \n",
    "      1 & 2 & 3 & 4 & 5 & 6\\\\\n",
    "\\end{array}\n",
    "</td>\n",
    "<td>\n",
    "**NORD**\n",
    "\\begin{array}{|c|c|c|c|c|c|} \\hline\n",
    "& 2 & & & & \\\\\n",
    "\\hline\n",
    "1 & & & & {\\bf 1} & {\\bf 2}\\\\\n",
    "      \\hline\n",
    "\\end{array}\n",
    "**SUD**\n",
    "\n",
    "\\begin{array}{cccccc} \n",
    "      1 & 2 & 3 & 4 & 5 & 6\\\\\n",
    "\\end{array}\n",
    "</td>\n",
    "</tr>\n",
    "\n",
    "</table>\n",
    "\n",
    "\n",
    "Comme la dernière case où une graine a été posée (la case $3$ du camp Nord) contient maintenant $2$ graines, celles-ci sont prises par Sud, ainsi que celles des cases $4$, $5$ et $6$ qui contiennent (en suivant cet ordre) $2$ ou $3$ graines.  Au total, avec ce coup, Sud prend $9$ graines.  A l'issue des prises réalisées, on obtient finalement la nouvelle position présentée à droite de la figure.  Maintenant, Nord n'a qu'une seule possibilité et doit jouer les graines de la case $2$."
   ]
  },
  {
   "cell_type": "markdown",
   "metadata": {},
   "source": [
    "## Annexe : un peu de langage Python...\n",
    "\n",
    "### Documentation\n",
    "\n",
    "Quelques liens utiles pour se documenter sur le langage Python :\n",
    "- site du L1: https://www-licence.ufr-info-p6.jussieu.fr/lmd/licence/2017/ue/1I001-2017oct/ \n",
    "En particulier, il peut être intéressant de consulter la carte de référence de l'UE de L1\n",
    "-  tutorial: http://python.developpez.com/cours/\n",
    "- documentation officielle: https://docs.python.org/\n",
    "\n",
    "### Quelques fonctions utiles\n",
    "\n",
    "- Saisie d'une valeur au clavier (noter que la fonction <code>input</code> retourne une chaîne de caractères) :\n",
    "    <pre>\n",
    "    saisie = input(\"Entrez un nombre :\")\n",
    "    </pre>\n",
    "- Pour utiliser des fonctions de gestion de l'aléatoire :\n",
    "    <pre>\n",
    "import random\n",
    "    </pre>\n",
    "    - génération d'une valeur aléatoire comprise entre 1 et 10 inclus :\n",
    "    <pre>\n",
    "random.randint(1,10)\n",
    "    </pre>\n",
    "    - tirage aléatoire d'un élément dans une liste :\n",
    "    <pre>\n",
    "random.choice(['a','b','c','d','e','f'])\n",
    "    </pre>"
   ]
  }
 ],
 "metadata": {
  "kernelspec": {
   "display_name": "Python 3",
   "language": "python",
   "name": "python3"
  },
  "language_info": {
   "codemirror_mode": {
    "name": "ipython",
    "version": 3
   },
   "file_extension": ".py",
   "mimetype": "text/x-python",
   "name": "python",
   "nbconvert_exporter": "python",
   "pygments_lexer": "ipython3",
   "version": "3.6.3"
  }
 },
 "nbformat": 4,
 "nbformat_minor": 1
}
