{
 "cells": [
  {
   "cell_type": "markdown",
   "metadata": {},
   "source": [
    "IAMSI -- 2017-2018\n",
    "--------\n",
    "*&copy; Equipe pédagogique : Marie-Jeanne Lesot, Christophe Marsala, Gauvain Bourgne, Jean-Gabriel Ganascia, Colette Faucher.*"
   ]
  },
  {
   "cell_type": "markdown",
   "metadata": {},
   "source": [
    "# TME 1 et 2 : Jeu à 2 joueurs -  Programmation d'un joueur d'Awélé"
   ]
  },
  {
   "cell_type": "markdown",
   "metadata": {},
   "source": [
    "<font color=\"RED\" size=\"+1\">**[Q]**</font> **Indiquer dans la boîte ci-dessous vos noms et prénoms**"
   ]
  },
  {
   "cell_type": "markdown",
   "metadata": {},
   "source": [
    "*Ahmed Tidiane BALDE*"
   ]
  },
  {
   "cell_type": "markdown",
   "metadata": {},
   "source": [
    "<font color=\"RED\" size=\"+1\">**[Q]**</font> **Renommer ce fichier ipython**\n",
    "\n",
    "Tout en haut de cette page, cliquer sur <tt>tme01et02</tt> et rajouter à la suite de <tt>tme01et02</tt> les noms des membres du binômes séparés par un tiret.\n",
    "\n",
    "Par exemple, pour le binôme Luke Skywalker et Han Solo, le nom de fichier devient : <pre>tme01et02-Skywalker-Solo</pre>\n",
    "\n",
    "Penser à sauvegarder fréquemment le fichier en cours de travail :\n",
    "- soit en cliquant sur l'icône \"disquette\"\n",
    "- soit par la combinaison de touches [Ctrl]-S"
   ]
  },
  {
   "cell_type": "markdown",
   "metadata": {},
   "source": [
    "## Présentation"
   ]
  },
  {
   "cell_type": "markdown",
   "metadata": {},
   "source": [
    "### Objectifs des TME 1 et 2\n",
    "\n",
    "Le travail à réaliser est le suivant :\n",
    "- apprendre à utiliser ipython notebook\n",
    "- programmer en Python un joueur artificiel d'Awélé. Il peut être utile de commencer par prendre connaissance des règles du jeu\n",
    "  fournies en annexe à la fin de cette page (ne pas hésiter pas à faire quelques parties sur le site dont l'adresse est donnée).\n",
    "  \n",
    "*A noter* :  Il est autorisé d'écrire des fonctions auxiliaires permettant de simplifier l'écriture\n",
    "  de la fonction répondant à une question. Dans ce cas, ces fonctions doivent être dûment commentées et spécifiées.\n",
    "  "
   ]
  },
  {
   "cell_type": "markdown",
   "metadata": {},
   "source": [
    "#### Compte-rendu des séances de TME 1 et 2\n",
    "\n",
    "Le fichier ipython que vous remplissez ici fait office de compte-rendu pour ces 2 séances de TME.\n",
    "\n",
    "Il y a 2 envois à faire, par email, à votre enseignant de TD :\n",
    "- 1er compte-rendu : à l'issue de la première séance, envoyer ce qui a été réalisé lors de la séance.\n",
    "- 2e compte-rendu : à l'issue des deux séances, envoyer la version finale du travail réalisé durant les 2 séances.\n",
    "\n",
    "(optionnel) Un troisième envoi peut être fait, **au plus tard avant le début de la troisième séance de TD**, avec des compléments que vous aurez rajoutés après la deuxième séance de TME.\n",
    "\n"
   ]
  },
  {
   "cell_type": "markdown",
   "metadata": {},
   "source": [
    "### Grille de notation\n",
    "\n",
    "Le barème (indicatif) pour ces 2 séances de TME est le suivant :\n",
    "- implémentation correcte et effective du minimax : 10 sur 20\n",
    "- implémentation correcte et effective de l'alpha-bêta : 15 sur 20\n",
    "- implémentation d'améliorations ou d'extensions (``pour aller plus loin...'') : +0 à +3 points\n",
    "- programme commenté : -1 à +1 points\n",
    "- efficacité des fonctions :  -1 à +2 points\n",
    "\n",
    "La note finale ne dépassera pas 20."
   ]
  },
  {
   "cell_type": "markdown",
   "metadata": {},
   "source": [
    "## Apprendre à utiliser ipython notebook\n",
    "\n",
    "Ce document est dynamique: il est composé de \"boîtes\" qui peuvent être \"compilées\" par la commande \"Run Cells\" du menu \"Cell\" (ou bien en cliquant sur l'icône >| ou par la combinaison des touches [SHIFT][ENTREE]).\n",
    "\n",
    "Il y a **2 types principaux** de boîtes :\n",
    "- les boîtes \"Markdown\": tout ce qui est tapé dans ces boîtes est du texte qui sera rendu \"joliment\" après avoir été compilé. On peut y écrire des commandes en Latex pour définir des équations, et il reconnaît certaines balises HTML. En cliquant 2 fois dans une boîte Markdown compilée, on a accès à son contenu et on peut alors le modifier.\n",
    "- les boîtes \"Code\": dans ces boîtes, on écrit du code Python. La compilation de la boîte produit l'exécution de ce code Python et produit une boîte \"Out\" dans laquelle le résultat de la dernière commande est affiché. On peut y écrire tout code Python valide. Ce type de boîtes se reconnaît par \"In [n]\" inscrit à côté de leur coin haut gauche (\"n\" est un entier).\n",
    "\n",
    "Le type d'une boîte peut être modifié à l'aide du menu en haut de la page (juste au dessus du texte).\n",
    "\n",
    "L'icône \"+\" permet de créer une nouvelle boîte juste en dessous de la boîte active.\n",
    "\n",
    "L'icône avec les ciseaux permet d'effacer la boîte active (attention ! c'est **irréversible !**).\n",
    "\n",
    "Pour en savoir plus :\n",
    "- http://ipython.org/\n",
    "\n",
    "Vous pouvez aussi vous référer à la documentation Python:\n",
    "- https://www.python.org/\n",
    "\n",
    "\n",
    "Dans ce qui suit, les boîtes Markdown commençant par <font color=\"RED\" size=\"+1\">**[Q]**</font> posent des questions auxquelles il faut répondre dans la boîte qui suit directement (éventuellement, en créant des plusieurs nouvelles boîtes).\n",
    "Certaines des boîtes \"Code\" à remplir sont suivies d'une sortie \"Out[.]:\" qui montre un exemple de résultat attendu."
   ]
  },
  {
   "cell_type": "code",
   "execution_count": 1,
   "metadata": {},
   "outputs": [
    {
     "name": "stdout",
     "output_type": "stream",
     "text": [
      "Un essai quelconque :\n"
     ]
    },
    {
     "data": {
      "text/plain": [
       "5"
      ]
     },
     "execution_count": 1,
     "metadata": {},
     "output_type": "execute_result"
    }
   ],
   "source": [
    "# exemple de boîte de code :\n",
    "#    --> sélectionner cette boîte (en cliquant à l'intérieur)\n",
    "#    --> effectuer \"Run Cells\" du Menu \"Cell\" (ou bien cliquer sur l'icône >|)\n",
    "# \n",
    "\n",
    "print(\"Un essai quelconque :\")\n",
    "2+3\n"
   ]
  },
  {
   "cell_type": "markdown",
   "metadata": {},
   "source": [
    "#### Imports utilisés"
   ]
  },
  {
   "cell_type": "code",
   "execution_count": 2,
   "metadata": {},
   "outputs": [],
   "source": [
    "import numpy as np\n",
    "import random "
   ]
  },
  {
   "cell_type": "markdown",
   "metadata": {},
   "source": [
    "<font color=\"RED\" size=\"+1\">**[Q]**</font> Dans la boîte \"Code\" suivante, donner les instructions Python pour effectuer le calcul : \n",
    "$$-\\frac{1}{3}\\log_2(\\frac{1}{3})-\\frac{2}{3}\\log_2(\\frac{2}{3})$$\n",
    "\n",
    "Dont la valeur à trouver est :\n",
    "    0.9182958340544896"
   ]
  },
  {
   "cell_type": "code",
   "execution_count": 3,
   "metadata": {},
   "outputs": [
    {
     "name": "stderr",
     "output_type": "stream",
     "text": [
      "/usr/local/lib/python2.7/dist-packages/ipykernel_launcher.py:1: RuntimeWarning: divide by zero encountered in log2\n",
      "  \"\"\"Entry point for launching an IPython kernel.\n",
      "/usr/local/lib/python2.7/dist-packages/ipykernel_launcher.py:1: RuntimeWarning: invalid value encountered in double_scalars\n",
      "  \"\"\"Entry point for launching an IPython kernel.\n"
     ]
    },
    {
     "data": {
      "text/plain": [
       "nan"
      ]
     },
     "execution_count": 3,
     "metadata": {},
     "output_type": "execute_result"
    }
   ],
   "source": [
    "-1/3*np.log2(1/3)-2/3*np.log2(2/3)"
   ]
  },
  {
   "cell_type": "markdown",
   "metadata": {},
   "source": [
    "**<font style=\"BACKGROUND-COLOR: lightgray\" color='red'> Important</font>** :\n",
    "en lisant ce texte sur votre ordinateur, pensez bien à exécuter les boîtes \"Code\" dans l'ordre de leur apparition. Toute la page se comporte comme une session Python unique et il pour exécuter certaines boîtes il est nécessaire que les précédentes aient été exécutées au préalable."
   ]
  },
  {
   "cell_type": "markdown",
   "metadata": {},
   "source": [
    "## Programmer un joueur d'Awélé"
   ]
  },
  {
   "cell_type": "markdown",
   "metadata": {},
   "source": [
    "### Structure de données"
   ]
  },
  {
   "cell_type": "markdown",
   "metadata": {},
   "source": [
    "Pour représenter une position d'Awélé en Python. Une *position* est définie par les éléments suivants :\n",
    "- une *taille*, en nombre de colonnes (dans l'Awélé original, il y a 6 colonnes). On note $n$ ce nombre de colonnes dans la suite de ce texte ;\n",
    "- un *tablier* qui correspond au plateau de jeu et donne le nombre de graines dans chaque case ;\n",
    "- le *trait* qui correspond au camp devant jouer dans la position donnée. Il y a\n",
    "  deux camps: \"NORD et \"SUD\" ;\n",
    "- les nombres de *graines* déjà ramassées par chacun des joueurs.\n",
    "\n",
    "\n",
    "En Python, une telle position est représentée en tant que dictionnaire qui associe à chaque nom de champ sa valeur.\n",
    "\n",
    "Dans ce qui suit, on distingue :\n",
    "- un coup *jouable* qui est un numéro de colonne correct (valeur comprise entre 1\n",
    "  et $n$), et pour lequel la case correspondante contient au moins une graine ;\n",
    "- un coup *autorisé* qui est un coup à la fois jouable et permettant d'atteindre\n",
    "  une position légale du jeu, c'est-à-dire une position qui respecte la règle obligeant à\n",
    "  laisser au moins une graine dans le camp de son adversaire."
   ]
  },
  {
   "cell_type": "markdown",
   "metadata": {},
   "source": [
    "** Représentation du tablier en Python**\n",
    "\n",
    "Pour représenter le tablier en Python, on utilise une liste d'entiers, chaque entier correspondant au nombre de graines dans une case. \n",
    "\n",
    "Soit un tablier de $n$ colonnes.\n",
    "\n",
    "Pour le camp SUD :\n",
    "- le nombre de graines de la case de la colonne 1 est stocké en position $0$ dans la liste Python ;\n",
    "- le nombre de graines de la case de la colonne  2 est stocké en position $1$ dans la liste Python ;\n",
    "- ...\n",
    "- le nombre de graines de la case de la colonne  $n$ est stocké en position $n-1$ dans la liste Python.\n",
    "\n",
    "Pour le camp NORD :\n",
    "- le nombre de graines de la case de la colonne  1 est stocké en position $2n-1$ dans la liste Python ;\n",
    "- le nombre de graines de la case de la colonne  2 est stocké en position $2n-2$ dans la liste Python ;\n",
    "- ...\n",
    "- le nombre de graines de la case de la colonne  $n$ est stocké en position $n$ dans la liste Python.\n",
    "\n",
    "(il est conseillé de faire un schéma pour bien comprendre).\n",
    "\n",
    "Cette représentation à l'avantage de favoriser le parcours des cases du tablier : en parcourant la liste par positions croissantes, on retrouve le parcours en sens inverse des aiguilles d'une montre. Ce parcours peut alors se faire en Python en incrémentant de 1 la position pour passer à la case suivante, et en réalisant un calcul modulo $2n$."
   ]
  },
  {
   "cell_type": "markdown",
   "metadata": {},
   "source": [
    "### Fonctions fournies"
   ]
  },
  {
   "cell_type": "markdown",
   "metadata": {},
   "source": [
    "Plusieurs fonctions sont fournies dans ce qui suit :\n",
    "- <tt>initialise(n)</tt> : pour définir la position initiale de l'Awélé. L'argument est un entier <tt>n</tt> qui donne le nombre de colonnes du tablier du jeu ;\n",
    "- <tt>affichePosition(position)</tt> : affichage de façon textuelle d'une position d'Awélé ;\n",
    "- <tt>clonePosition(position)</tt> : recopie d'une position (clonage) pour pouvoir y\n",
    "  apporter des modifications sans altérer la position originale ;\n",
    "- <tt>joueCoup(position,coup)</tt> : renvoie la position obtenue une fois le coup joué\n",
    "  dans la position donné. Cette fonction fait l'hypothèse que le coup donné est un coup\n",
    "  jouable et elle ne vérifie pas que la position résultante est bien une position légale\n",
    "  du jeu.\n"
   ]
  },
  {
   "cell_type": "code",
   "execution_count": 4,
   "metadata": {},
   "outputs": [],
   "source": [
    "# - - - - - - - - - - - - - - - TYPES UTILISES\n",
    "# POSITION : dictionnaire non vide qui contient différentes informations sur\n",
    "#            une position d'Awélé, associées au nom de leur champ.\n",
    "# COUP : valeur entière comprise entre 1 et le nombre de colonnes du tablier\n",
    "#\n",
    "#\n",
    "# - - - - - - - - - - - - - - - INITIALISATION\n",
    "def initialise(n):\n",
    "    \"\"\" int -> POSITION\n",
    "        Hypothèse : n > 0\n",
    "        initialise la position de départ de l'awélé avec n colonnes avec 4 graines dans chaque case.\n",
    "    \"\"\"\n",
    "    position = dict()                                 # initialisation\n",
    "    position['tablier'] = [4 for k in range(0, 2*n)]  # on met 4 graines dans chaque case\n",
    "    position['taille'] = n                            # le nombre de colonnes du tablier\n",
    "    position['trait'] = 'SUD'                         # le joueur qui doit jouer: 'SUD' ou 'NORD'\n",
    "    position['graines'] = {'SUD':0, 'NORD':0}         # graines prises par chaque joueur\n",
    "    return position\n",
    "\n",
    "# - - - - - - - - - - - - - - - AFFICHAGE (TEXTE)\n",
    "def affichePosition(position):\n",
    "    \"\"\" POSITION ->\n",
    "        affiche la position de façon textuelle\n",
    "    \"\"\"\n",
    "    print('* * * * * * * * * * * * * * * * * * * *')\n",
    "    n = position['taille']\n",
    "    buffer = 'col:'\n",
    "    for i in range(0,n):\n",
    "        buffer += ' ' + str(i+1) + ' \\t'\n",
    "    print(buffer)\n",
    "    print('\\t\\tNORD (prises: '+str(position['graines']['NORD'])+')')\n",
    "    print('< - - - - - - - - - - - - - - -')\n",
    "    buffer = ''\n",
    "    for i in range(2*n-1,n-1,-1):   # indices n..(2n-1) pour les cases NORD\n",
    "        buffer += '\\t[' + str(position['tablier'][i]) + ']'\n",
    "    print(buffer)\n",
    "    buffer = ''\n",
    "    for i in range(0,n):            # indices 0..(n-1) pour les cases SUD\n",
    "        buffer += '\\t[' + str(position['tablier'][i]) + ']'\n",
    "    print(buffer)\n",
    "    print('- - - - - - - - - - - - - - - >')\n",
    "    print('\\t\\tSUD (prises: '+str(position['graines']['SUD'])+')')\n",
    "    print('-> camp au trait: '+position['trait']);\n",
    "\n",
    "# - - - - - - - - - - - - - - - CLONAGE\n",
    "import copy\n",
    "def clonePosition(position):\n",
    "    \"\"\" POSITION -> POSITION\n",
    "        retourne un clone de la position\n",
    "        (qui peut être alors modifié sans altérer l'original donc).\n",
    "    \"\"\"\n",
    "    leclone = dict()\n",
    "    leclone['tablier'] = copy.deepcopy(position['tablier'])\n",
    "    leclone['taille']  = position['taille']\n",
    "    leclone['trait']   = position['trait']\n",
    "    leclone['graines'] =  copy.deepcopy(position['graines'])\n",
    "    return leclone\n",
    "\n",
    "# - - - - - - - - - - - - - - - JOUE UN COUP\n",
    "def joueCoup(position,coup):\n",
    "    \"\"\" POSITION * COUP -> POSITION\n",
    "        Hypothèse: coup est jouable.\n",
    "\n",
    "        Cette fonction retourne la position obtenue une fois le coup joué.\n",
    "    \"\"\"\n",
    "    nouvelle_pos = clonePosition(position)   # on duplique pour ne pas modifier l'original\n",
    "    n = nouvelle_pos['taille']\n",
    "    trait = nouvelle_pos['trait']\n",
    "    # on transforme coup en indice\n",
    "    if trait == 'SUD':\n",
    "        indice_depart = coup-1\n",
    "    else:\n",
    "        indice_depart = 2*n-coup\n",
    "    # retrait des graines de la case de départ\n",
    "    nbGraines = nouvelle_pos['tablier'][indice_depart]\n",
    "    nouvelle_pos['tablier'][indice_depart] = 0\n",
    "    # on sème les graines dans les cases à partir de celle de départ\n",
    "    indice_courant = indice_depart\n",
    "    while nbGraines > 0:\n",
    "        indice_courant = (indice_courant + 1) % (2*n)\n",
    "        if (indice_courant != indice_depart):              # si ce n'est pas la case de départ\n",
    "            nouvelle_pos['tablier'][indice_courant] += 1   # on sème une graine\n",
    "            nbGraines -= 1\n",
    "    # la case d'arrivée est dans le camp ennemi ?\n",
    "    if (trait == 'NORD'):\n",
    "        estChezEnnemi = (indice_courant < n)\n",
    "    else:\n",
    "        estChezEnnemi = (indice_courant >= n)\n",
    "    # réalisation des prises éventuelles\n",
    "    while estChezEnnemi and (nouvelle_pos['tablier'][indice_courant] in range(2,4)):\n",
    "        nouvelle_pos['graines'][trait] += nouvelle_pos['tablier'][indice_courant]\n",
    "        nouvelle_pos['tablier'][indice_courant] = 0\n",
    "        indice_courant = (indice_courant - 1) % (2*n)\n",
    "        if (trait == 'NORD'):\n",
    "            estChezEnnemi = (indice_courant < n)\n",
    "        else:\n",
    "            estChezEnnemi = (indice_courant >= n)\n",
    "    # mise à jour du camp au trait\n",
    "    if trait == 'SUD':\n",
    "        nouvelle_pos['trait'] = 'NORD'\n",
    "    else:\n",
    "        nouvelle_pos['trait'] = 'SUD'\n",
    "    return nouvelle_pos\n",
    "# - - - - - - - - - -"
   ]
  },
  {
   "cell_type": "markdown",
   "metadata": {},
   "source": [
    "Les instructions qui suivent permettent de voir comment utiliser les fonctions précédentes."
   ]
  },
  {
   "cell_type": "code",
   "execution_count": 5,
   "metadata": {},
   "outputs": [
    {
     "name": "stdout",
     "output_type": "stream",
     "text": [
      "* * * * * * * * * * * * * * * * * * * *\n",
      "col: 1 \t 2 \t 3 \t 4 \t 5 \t 6 \t\n",
      "\t\tNORD (prises: 0)\n",
      "< - - - - - - - - - - - - - - -\n",
      "\t[4]\t[4]\t[4]\t[4]\t[4]\t[4]\n",
      "\t[4]\t[4]\t[4]\t[4]\t[4]\t[4]\n",
      "- - - - - - - - - - - - - - - >\n",
      "\t\tSUD (prises: 0)\n",
      "-> camp au trait: SUD\n",
      "* * * * * * * * * * * * * * * * * * * *\n",
      "col: 1 \t 2 \t 3 \t 4 \t 5 \t 6 \t\n",
      "\t\tNORD (prises: 2)\n",
      "< - - - - - - - - - - - - - - -\n",
      "\t[0]\t[1]\t[7]\t[2]\t[7]\t[7]\n",
      "\t[1]\t[1]\t[1]\t[9]\t[0]\t[7]\n",
      "- - - - - - - - - - - - - - - >\n",
      "\t\tSUD (prises: 3)\n",
      "-> camp au trait: NORD\n",
      "#######################################\n",
      "Partie sur un tablier réduit pour tester:\n",
      "* * * * * * * * * * * * * * * * * * * *\n",
      "col: 1 \t 2 \t 3 \t 4 \t 5 \t 6 \t\n",
      "\t\tNORD (prises: 0)\n",
      "< - - - - - - - - - - - - - - -\n",
      "\t[4]\t[4]\t[4]\t[4]\t[4]\t[4]\n",
      "\t[4]\t[4]\t[4]\t[4]\t[4]\t[4]\n",
      "- - - - - - - - - - - - - - - >\n",
      "\t\tSUD (prises: 0)\n",
      "-> camp au trait: SUD\n",
      "* * * * * * * * * * * * * * * * * * * *\n",
      "col: 1 \t 2 \t 3 \t 4 \t 5 \t 6 \t\n",
      "\t\tNORD (prises: 0)\n",
      "< - - - - - - - - - - - - - - -\n",
      "\t[0]\t[5]\t[0]\t[5]\t[5]\t[5]\n",
      "\t[1]\t[8]\t[1]\t[7]\t[6]\t[5]\n",
      "- - - - - - - - - - - - - - - >\n",
      "\t\tSUD (prises: 0)\n",
      "-> camp au trait: SUD\n",
      "#######################################\n",
      "Essai de prises:\n",
      "* * * * * * * * * * * * * * * * * * * *\n",
      "col: 1 \t 2 \t 3 \t 4 \t 5 \t 6 \t\n",
      "\t\tNORD (prises: 0)\n",
      "< - - - - - - - - - - - - - - -\n",
      "\t[2]\t[2]\t[2]\t[2]\t[2]\t[2]\n",
      "\t[1]\t[2]\t[3]\t[4]\t[5]\t[1]\n",
      "- - - - - - - - - - - - - - - >\n",
      "\t\tSUD (prises: 0)\n",
      "-> camp au trait: SUD\n",
      "* * * * * * * * * * * * * * * * * * * *\n",
      "col: 1 \t 2 \t 3 \t 4 \t 5 \t 6 \t\n",
      "\t\tNORD (prises: 0)\n",
      "< - - - - - - - - - - - - - - -\n",
      "\t[2]\t[2]\t[0]\t[0]\t[0]\t[0]\n",
      "\t[1]\t[2]\t[3]\t[4]\t[0]\t[2]\n",
      "- - - - - - - - - - - - - - - >\n",
      "\t\tSUD (prises: 12)\n",
      "-> camp au trait: NORD\n"
     ]
    }
   ],
   "source": [
    "# ------------------------- POUR VOIR COMMENT CA MARCHE:\n",
    "maPosition = initialise(6)\n",
    "affichePosition(maPosition)\n",
    "maPosition2 = joueCoup(maPosition,1) # SUD joue\n",
    "maPosition2 = joueCoup(maPosition2,1) # NORD joue\n",
    "maPosition2 = joueCoup(maPosition2,2) # SUD joue\n",
    "maPosition2 = joueCoup(maPosition2,4) # NORD joue\n",
    "maPosition2 = joueCoup(maPosition2,3) # SUD joue\n",
    "maPosition2 = joueCoup(maPosition2,2) # NORD joue\n",
    "maPosition2 = joueCoup(maPosition2,5) # SUD joue\n",
    "affichePosition(maPosition2)\n",
    "print(\"#######################################\\nPartie sur un tablier réduit pour tester:\")\n",
    "#maPosition = initialise(3)\n",
    "affichePosition(maPosition)\n",
    "maPosition2 = joueCoup(maPosition,1) # SUD joue\n",
    "maPosition2 = joueCoup(maPosition2,1) # NORD joue\n",
    "maPosition2 = joueCoup(maPosition2,3) # SUD joue\n",
    "maPosition2 = joueCoup(maPosition2,3) # NORD joue\n",
    "maPosition2 = joueCoup(maPosition2,1) # SUD joue\n",
    "maPosition2 = joueCoup(maPosition2,1) # NORD joue\n",
    "affichePosition(maPosition2)\n",
    "print(\"#######################################\\nEssai de prises:\")\n",
    "maPosition = initialise(6)\n",
    "maPosition['tablier'] = [1, 2, 3, 4, 5, 1, 2, 2, 2, 2, 2, 2]\n",
    "affichePosition(maPosition)\n",
    "maPosition2 = joueCoup(maPosition,5) # SUD joue\n",
    "affichePosition(maPosition2)\n",
    "# ------------------------- FIN TEST\n"
   ]
  },
  {
   "cell_type": "markdown",
   "metadata": {},
   "source": [
    "### Fonctions simples"
   ]
  },
  {
   "cell_type": "markdown",
   "metadata": {},
   "source": [
    "<font color=\"RED\" size=\"+1\">**[Q]**</font> Ecrire les fonctions suivantes :\n",
    "- <tt>coupJouable(position,nombre)</tt>: rend le booléen <tt>True</tt> si le nombre donné est\n",
    "  jouable dans la position donnée, c'est-à-dire si ce nombre est un entier compris entre 1\n",
    "  et <tt>n</tt> et si de plus la case correspondante du tablier (pour le camp qui doit donc jouer\n",
    "  dans la position) contient au moins une graine.\n",
    "- <tt>coupAutorise(position,coup)</tt>: rend la position obtenue en jouant <tt>coup</tt>\n",
    "  dans la position donnée. Cette fonction retourne le booléen <tt>False</tt> si le coup\n",
    "  n'est pas jouable ou si la position résultante n'est pas une position légale du jeu.\n",
    "- <tt>positionTerminale(position)</tt>: rend le booléen <tt>True</tt> si la position est\n",
    "  terminale, c'est-à-dire si aucun coup n'est jouable, ou si tout coup jouable ne permet\n",
    "  pas d'atteindre une position légale ou bien si l'un des deux joueurs a gagné au moins 25\n",
    "  graines."
   ]
  },
  {
   "cell_type": "code",
   "execution_count": 37,
   "metadata": {},
   "outputs": [],
   "source": [
    "def coupJouable(position, nombre):\n",
    "    \"\"\"Si le nombre est compris entre 1 et n=6 et que la position \n",
    "    correspondante dans le tablier contient au moins une graine\"\"\"\n",
    "    if position['trait'] == 'SUD':\n",
    "        return (nombre in range(1,7) and position['tablier'][nombre-1] > 0)\n",
    "    else:\n",
    "        return (nombre in range(1,7) and position['tablier'][-nombre] > 0)\n",
    "\n",
    "def coupAutorise(position, coup):\n",
    "    maPosition, n = joueCoup(position,coup), 6\n",
    "    if position['trait'] == 'SUD':\n",
    "        res = sum(maPosition['tablier'][n:2*n]) # Nombre de graines restantes dans le camp adverse\n",
    "    else:\n",
    "        res = sum(maPosition['tablier'][0:n])\n",
    "    \n",
    "    return coupJouable(position, coup) and res >= 1\n",
    "    \n",
    "    \n",
    "def positionTerminale(position):\n",
    "    \n",
    "    for graines_prise in position['graines'].values():\n",
    "        if graines_prise < 25:\n",
    "            return False\n",
    "    \n",
    "    for coup in range(1,7):\n",
    "        if coupAutorise(position, coup):\n",
    "            return False\n",
    "    \n",
    "    return True;\n",
    "    "
   ]
  },
  {
   "cell_type": "markdown",
   "metadata": {},
   "source": [
    "### Moteur de jeu simple"
   ]
  },
  {
   "cell_type": "markdown",
   "metadata": {},
   "source": [
    "<font color=\"RED\" size=\"+1\">**[Q]**</font> Ecrire la fonction <tt>moteurHumains()</tt> permettant à deux joueurs humains de\n",
    "  s'affronter dans une partie d'Awélé.  Les coups pourront être entrés en utilisant la\n",
    "  fonction <tt>input()</tt> de Python.\n"
   ]
  },
  {
   "cell_type": "code",
   "execution_count": 7,
   "metadata": {},
   "outputs": [
    {
     "name": "stdout",
     "output_type": "stream",
     "text": [
      "Entrer l'année de naissance : 4\n",
      "('Cela fait donc', 2013, ' ans')\n"
     ]
    }
   ],
   "source": [
    "# Exemple d'utilisation de input():\n",
    "annee_naiss = input(\"Entrer l\\'année de naissance : \")\n",
    "print(\"Cela fait donc\",2017-int(annee_naiss),\" ans\")"
   ]
  },
  {
   "cell_type": "code",
   "execution_count": 40,
   "metadata": {},
   "outputs": [],
   "source": [
    "def moteurHumains():\n",
    "    \"\"\"Affrontement entre deux joueurs humains\"\"\"\n",
    "    maPosition = initialise(6)\n",
    "    \n",
    "    print(\"Bienvenue dans cette partie: \\n\")\n",
    "    affichePosition(maPosition)\n",
    "    \n",
    "    while not(positionTerminale(maPosition)):\n",
    "        coupSud = input (\"Joueur SUD : Entrer le coup à jouer : \")\n",
    "        print(coupAutorise(maPosition, coupSud))\n",
    "        # Si le coup n'est pas autorisé, demander à en rentrer un autre\n",
    "        while not(coupAutorise(maPosition, int(coupSud))):\n",
    "            coupSud = input (\"Joueur SUD : Entrer le coup à jouer : \")\n",
    "            \n",
    "        maPosition = joueCoup(maPosition, int(coupSud))\n",
    "        affichePosition(maPosition)\n",
    "        print(maPosition['tablier'])\n",
    "        \n",
    "        coupNord = input(\"Joueur NORD : Entrer le coup à jouer : \")\n",
    "        while not(coupAutorise(maPosition, int(coupNord))):\n",
    "            coupNord = input (\"Joueur NORD : Entrer le coup à jouer : \")\n",
    "            \n",
    "        maPosition = joueCoup(maPosition, int(coupNord))\n",
    "        affichePosition(maPosition)\n",
    "        print(maPosition['tablier'])\n",
    "        \n",
    "    # Capturer les graines de l'adversaire\n",
    "    if maPosition['trait'] == 'SUD':\n",
    "        maPosition['graines']['NORD'] += maPosition['graines']['SUD']\n",
    "    else:\n",
    "        maPositiion['graines']['SUD'] += maPosition['graines']['NORD']\n",
    "        \n",
    "    # Affichage du résultat\n",
    "    if maPosition['graines']['SUD'] > maPosition['graines']['NORD']:\n",
    "        print(\"Le vainqueur est le joueur SUD, bravoooo !\")\n",
    "    elif maPosition['graines']['SUD'] < maPosition['graines']['NORD']:\n",
    "        print(\"Le vainqueur est le joueur NORD bravoooo !\")\n",
    "    else:\n",
    "        print(\"Aucun vainqueur, égalité !\")\n",
    "    \n",
    "    print(\"Nombre de Graines capturées chacun :\", maPosition['graines'])\n",
    "        "
   ]
  },
  {
   "cell_type": "code",
   "execution_count": 41,
   "metadata": {},
   "outputs": [
    {
     "name": "stdout",
     "output_type": "stream",
     "text": [
      "Bienvenue dans cette partie: \n",
      "\n",
      "* * * * * * * * * * * * * * * * * * * *\n",
      "col: 1 \t 2 \t 3 \t 4 \t 5 \t 6 \t\n",
      "\t\tNORD (prises: 0)\n",
      "< - - - - - - - - - - - - - - -\n",
      "\t[4]\t[4]\t[4]\t[4]\t[4]\t[4]\n",
      "\t[4]\t[4]\t[4]\t[4]\t[4]\t[4]\n",
      "- - - - - - - - - - - - - - - >\n",
      "\t\tSUD (prises: 0)\n",
      "-> camp au trait: SUD\n",
      "Joueur SUD : Entrer le coup à jouer : 2\n",
      "True\n",
      "* * * * * * * * * * * * * * * * * * * *\n",
      "col: 1 \t 2 \t 3 \t 4 \t 5 \t 6 \t\n",
      "\t\tNORD (prises: 0)\n",
      "< - - - - - - - - - - - - - - -\n",
      "\t[4]\t[4]\t[4]\t[4]\t[4]\t[4]\n",
      "\t[4]\t[0]\t[5]\t[5]\t[5]\t[5]\n",
      "- - - - - - - - - - - - - - - >\n",
      "\t\tSUD (prises: 0)\n",
      "-> camp au trait: NORD\n",
      "[4, 0, 5, 5, 5, 5, 4, 4, 4, 4, 4, 4]\n",
      "Joueur NORD : Entrer le coup à jouer : 2\n",
      "* * * * * * * * * * * * * * * * * * * *\n",
      "col: 1 \t 2 \t 3 \t 4 \t 5 \t 6 \t\n",
      "\t\tNORD (prises: 0)\n",
      "< - - - - - - - - - - - - - - -\n",
      "\t[5]\t[0]\t[4]\t[4]\t[4]\t[4]\n",
      "\t[5]\t[1]\t[6]\t[5]\t[5]\t[5]\n",
      "- - - - - - - - - - - - - - - >\n",
      "\t\tSUD (prises: 0)\n",
      "-> camp au trait: SUD\n",
      "[5, 1, 6, 5, 5, 5, 4, 4, 4, 4, 0, 5]\n",
      "Joueur SUD : Entrer le coup à jouer : 3\n",
      "True\n",
      "* * * * * * * * * * * * * * * * * * * *\n",
      "col: 1 \t 2 \t 3 \t 4 \t 5 \t 6 \t\n",
      "\t\tNORD (prises: 0)\n",
      "< - - - - - - - - - - - - - - -\n",
      "\t[5]\t[0]\t[4]\t[5]\t[5]\t[5]\n",
      "\t[5]\t[1]\t[0]\t[6]\t[6]\t[6]\n",
      "- - - - - - - - - - - - - - - >\n",
      "\t\tSUD (prises: 0)\n",
      "-> camp au trait: NORD\n",
      "[5, 1, 0, 6, 6, 6, 5, 5, 5, 4, 0, 5]\n",
      "Joueur NORD : Entrer le coup à jouer : 1\n",
      "* * * * * * * * * * * * * * * * * * * *\n",
      "col: 1 \t 2 \t 3 \t 4 \t 5 \t 6 \t\n",
      "\t\tNORD (prises: 0)\n",
      "< - - - - - - - - - - - - - - -\n",
      "\t[0]\t[0]\t[4]\t[5]\t[5]\t[5]\n",
      "\t[6]\t[2]\t[1]\t[7]\t[7]\t[6]\n",
      "- - - - - - - - - - - - - - - >\n",
      "\t\tSUD (prises: 0)\n",
      "-> camp au trait: SUD\n",
      "[6, 2, 1, 7, 7, 6, 5, 5, 5, 4, 0, 0]\n",
      "Joueur SUD : Entrer le coup à jouer : 5\n",
      "True\n",
      "* * * * * * * * * * * * * * * * * * * *\n",
      "col: 1 \t 2 \t 3 \t 4 \t 5 \t 6 \t\n",
      "\t\tNORD (prises: 0)\n",
      "< - - - - - - - - - - - - - - -\n",
      "\t[1]\t[1]\t[5]\t[6]\t[6]\t[6]\n",
      "\t[6]\t[2]\t[1]\t[7]\t[0]\t[7]\n",
      "- - - - - - - - - - - - - - - >\n",
      "\t\tSUD (prises: 0)\n",
      "-> camp au trait: NORD\n",
      "[6, 2, 1, 7, 0, 7, 6, 6, 6, 5, 1, 1]\n",
      "Joueur NORD : Entrer le coup à jouer : 3\n",
      "* * * * * * * * * * * * * * * * * * * *\n",
      "col: 1 \t 2 \t 3 \t 4 \t 5 \t 6 \t\n",
      "\t\tNORD (prises: 5)\n",
      "< - - - - - - - - - - - - - - -\n",
      "\t[2]\t[2]\t[0]\t[6]\t[6]\t[6]\n",
      "\t[7]\t[0]\t[0]\t[7]\t[0]\t[7]\n",
      "- - - - - - - - - - - - - - - >\n",
      "\t\tSUD (prises: 0)\n",
      "-> camp au trait: SUD\n",
      "[7, 0, 0, 7, 0, 7, 6, 6, 6, 0, 2, 2]\n",
      "Joueur SUD : Entrer le coup à jouer : 4\n",
      "True\n",
      "* * * * * * * * * * * * * * * * * * * *\n",
      "col: 1 \t 2 \t 3 \t 4 \t 5 \t 6 \t\n",
      "\t\tNORD (prises: 5)\n",
      "< - - - - - - - - - - - - - - -\n",
      "\t[2]\t[0]\t[1]\t[7]\t[7]\t[7]\n",
      "\t[7]\t[0]\t[0]\t[0]\t[1]\t[8]\n",
      "- - - - - - - - - - - - - - - >\n",
      "\t\tSUD (prises: 3)\n",
      "-> camp au trait: NORD\n",
      "[7, 0, 0, 0, 1, 8, 7, 7, 7, 1, 0, 2]\n",
      "Joueur NORD : Entrer le coup à jouer : 4\n",
      "* * * * * * * * * * * * * * * * * * * *\n",
      "col: 1 \t 2 \t 3 \t 4 \t 5 \t 6 \t\n",
      "\t\tNORD (prises: 5)\n",
      "< - - - - - - - - - - - - - - -\n",
      "\t[3]\t[1]\t[2]\t[0]\t[7]\t[7]\n",
      "\t[8]\t[1]\t[1]\t[1]\t[1]\t[8]\n",
      "- - - - - - - - - - - - - - - >\n",
      "\t\tSUD (prises: 3)\n",
      "-> camp au trait: SUD\n",
      "[8, 1, 1, 1, 1, 8, 7, 7, 0, 2, 1, 3]\n",
      "Joueur SUD : Entrer le coup à jouer : 1\n",
      "True\n",
      "* * * * * * * * * * * * * * * * * * * *\n",
      "col: 1 \t 2 \t 3 \t 4 \t 5 \t 6 \t\n",
      "\t\tNORD (prises: 5)\n",
      "< - - - - - - - - - - - - - - -\n",
      "\t[3]\t[1]\t[2]\t[1]\t[8]\t[8]\n",
      "\t[0]\t[2]\t[2]\t[2]\t[2]\t[9]\n",
      "- - - - - - - - - - - - - - - >\n",
      "\t\tSUD (prises: 3)\n",
      "-> camp au trait: NORD\n",
      "[0, 2, 2, 2, 2, 9, 8, 8, 1, 2, 1, 3]\n",
      "Joueur NORD : Entrer le coup à jouer : 5\n",
      "* * * * * * * * * * * * * * * * * * * *\n",
      "col: 1 \t 2 \t 3 \t 4 \t 5 \t 6 \t\n",
      "\t\tNORD (prises: 14)\n",
      "< - - - - - - - - - - - - - - -\n",
      "\t[4]\t[2]\t[3]\t[2]\t[0]\t[8]\n",
      "\t[1]\t[0]\t[0]\t[0]\t[2]\t[9]\n",
      "- - - - - - - - - - - - - - - >\n",
      "\t\tSUD (prises: 3)\n",
      "-> camp au trait: SUD\n",
      "[1, 0, 0, 0, 2, 9, 8, 0, 2, 3, 2, 4]\n",
      "Joueur SUD : Entrer le coup à jouer : 6\n",
      "False\n",
      "Joueur SUD : Entrer le coup à jouer : 6\n",
      "Joueur SUD : Entrer le coup à jouer : 6\n",
      "Joueur SUD : Entrer le coup à jouer : 5\n",
      "* * * * * * * * * * * * * * * * * * * *\n",
      "col: 1 \t 2 \t 3 \t 4 \t 5 \t 6 \t\n",
      "\t\tNORD (prises: 14)\n",
      "< - - - - - - - - - - - - - - -\n",
      "\t[4]\t[2]\t[3]\t[2]\t[0]\t[9]\n",
      "\t[1]\t[0]\t[0]\t[0]\t[0]\t[10]\n",
      "- - - - - - - - - - - - - - - >\n",
      "\t\tSUD (prises: 3)\n",
      "-> camp au trait: NORD\n",
      "[1, 0, 0, 0, 0, 10, 9, 0, 2, 3, 2, 4]\n",
      "Joueur NORD : Entrer le coup à jouer : 6\n",
      "Joueur NORD : Entrer le coup à jouer : 7\n",
      "Joueur NORD : Entrer le coup à jouer : 6\n",
      "Joueur NORD : Entrer le coup à jouer : 5\n",
      "Joueur NORD : Entrer le coup à jouer : 4\n",
      "* * * * * * * * * * * * * * * * * * * *\n",
      "col: 1 \t 2 \t 3 \t 4 \t 5 \t 6 \t\n",
      "\t\tNORD (prises: 14)\n",
      "< - - - - - - - - - - - - - - -\n",
      "\t[4]\t[3]\t[4]\t[0]\t[0]\t[9]\n",
      "\t[1]\t[0]\t[0]\t[0]\t[0]\t[10]\n",
      "- - - - - - - - - - - - - - - >\n",
      "\t\tSUD (prises: 3)\n",
      "-> camp au trait: SUD\n",
      "[1, 0, 0, 0, 0, 10, 9, 0, 0, 4, 3, 4]\n",
      "Joueur SUD : Entrer le coup à jouer : 6\n",
      "False\n",
      "Joueur SUD : Entrer le coup à jouer : 6\n",
      "Joueur SUD : Entrer le coup à jouer : 1\n",
      "* * * * * * * * * * * * * * * * * * * *\n",
      "col: 1 \t 2 \t 3 \t 4 \t 5 \t 6 \t\n",
      "\t\tNORD (prises: 14)\n",
      "< - - - - - - - - - - - - - - -\n",
      "\t[4]\t[3]\t[4]\t[0]\t[0]\t[9]\n",
      "\t[0]\t[1]\t[0]\t[0]\t[0]\t[10]\n",
      "- - - - - - - - - - - - - - - >\n",
      "\t\tSUD (prises: 3)\n",
      "-> camp au trait: NORD\n",
      "[0, 1, 0, 0, 0, 10, 9, 0, 0, 4, 3, 4]\n",
      "Joueur NORD : Entrer le coup à jouer : 6\n"
     ]
    },
    {
     "ename": "KeyboardInterrupt",
     "evalue": "",
     "output_type": "error",
     "traceback": [
      "\u001b[0;31m---------------------------------------------------------------------------\u001b[0m",
      "\u001b[0;31mKeyboardInterrupt\u001b[0m                         Traceback (most recent call last)",
      "\u001b[0;32m<ipython-input-41-ce6140bd7248>\u001b[0m in \u001b[0;36m<module>\u001b[0;34m()\u001b[0m\n\u001b[0;32m----> 1\u001b[0;31m \u001b[0mmoteurHumains\u001b[0m\u001b[0;34m(\u001b[0m\u001b[0;34m)\u001b[0m\u001b[0;34m\u001b[0m\u001b[0m\n\u001b[0m",
      "\u001b[0;32m<ipython-input-40-13ec03e08139>\u001b[0m in \u001b[0;36mmoteurHumains\u001b[0;34m()\u001b[0m\n\u001b[1;32m     19\u001b[0m         \u001b[0mcoupNord\u001b[0m \u001b[0;34m=\u001b[0m \u001b[0minput\u001b[0m\u001b[0;34m(\u001b[0m\u001b[0;34m\"Joueur NORD : Entrer le coup à jouer : \"\u001b[0m\u001b[0;34m)\u001b[0m\u001b[0;34m\u001b[0m\u001b[0m\n\u001b[1;32m     20\u001b[0m         \u001b[0;32mwhile\u001b[0m \u001b[0;32mnot\u001b[0m\u001b[0;34m(\u001b[0m\u001b[0mcoupAutorise\u001b[0m\u001b[0;34m(\u001b[0m\u001b[0mmaPosition\u001b[0m\u001b[0;34m,\u001b[0m \u001b[0mint\u001b[0m\u001b[0;34m(\u001b[0m\u001b[0mcoupNord\u001b[0m\u001b[0;34m)\u001b[0m\u001b[0;34m)\u001b[0m\u001b[0;34m)\u001b[0m\u001b[0;34m:\u001b[0m\u001b[0;34m\u001b[0m\u001b[0m\n\u001b[0;32m---> 21\u001b[0;31m             \u001b[0mcoupNord\u001b[0m \u001b[0;34m=\u001b[0m \u001b[0minput\u001b[0m \u001b[0;34m(\u001b[0m\u001b[0;34m\"Joueur NORD : Entrer le coup à jouer : \"\u001b[0m\u001b[0;34m)\u001b[0m\u001b[0;34m\u001b[0m\u001b[0m\n\u001b[0m\u001b[1;32m     22\u001b[0m \u001b[0;34m\u001b[0m\u001b[0m\n\u001b[1;32m     23\u001b[0m         \u001b[0mmaPosition\u001b[0m \u001b[0;34m=\u001b[0m \u001b[0mjoueCoup\u001b[0m\u001b[0;34m(\u001b[0m\u001b[0mmaPosition\u001b[0m\u001b[0;34m,\u001b[0m \u001b[0mint\u001b[0m\u001b[0;34m(\u001b[0m\u001b[0mcoupNord\u001b[0m\u001b[0;34m)\u001b[0m\u001b[0;34m)\u001b[0m\u001b[0;34m\u001b[0m\u001b[0m\n",
      "\u001b[0;32m/usr/local/lib/python2.7/dist-packages/ipykernel/ipkernel.pyc\u001b[0m in \u001b[0;36m<lambda>\u001b[0;34m(prompt)\u001b[0m\n\u001b[1;32m    162\u001b[0m             \u001b[0mself\u001b[0m\u001b[0;34m.\u001b[0m\u001b[0m_sys_eval_input\u001b[0m \u001b[0;34m=\u001b[0m \u001b[0mbuiltin_mod\u001b[0m\u001b[0;34m.\u001b[0m\u001b[0minput\u001b[0m\u001b[0;34m\u001b[0m\u001b[0m\n\u001b[1;32m    163\u001b[0m             \u001b[0mbuiltin_mod\u001b[0m\u001b[0;34m.\u001b[0m\u001b[0mraw_input\u001b[0m \u001b[0;34m=\u001b[0m \u001b[0mself\u001b[0m\u001b[0;34m.\u001b[0m\u001b[0mraw_input\u001b[0m\u001b[0;34m\u001b[0m\u001b[0m\n\u001b[0;32m--> 164\u001b[0;31m             \u001b[0mbuiltin_mod\u001b[0m\u001b[0;34m.\u001b[0m\u001b[0minput\u001b[0m \u001b[0;34m=\u001b[0m \u001b[0;32mlambda\u001b[0m \u001b[0mprompt\u001b[0m\u001b[0;34m=\u001b[0m\u001b[0;34m''\u001b[0m\u001b[0;34m:\u001b[0m \u001b[0meval\u001b[0m\u001b[0;34m(\u001b[0m\u001b[0mself\u001b[0m\u001b[0;34m.\u001b[0m\u001b[0mraw_input\u001b[0m\u001b[0;34m(\u001b[0m\u001b[0mprompt\u001b[0m\u001b[0;34m)\u001b[0m\u001b[0;34m)\u001b[0m\u001b[0;34m\u001b[0m\u001b[0m\n\u001b[0m\u001b[1;32m    165\u001b[0m         \u001b[0mself\u001b[0m\u001b[0;34m.\u001b[0m\u001b[0m_save_getpass\u001b[0m \u001b[0;34m=\u001b[0m \u001b[0mgetpass\u001b[0m\u001b[0;34m.\u001b[0m\u001b[0mgetpass\u001b[0m\u001b[0;34m\u001b[0m\u001b[0m\n\u001b[1;32m    166\u001b[0m         \u001b[0mgetpass\u001b[0m\u001b[0;34m.\u001b[0m\u001b[0mgetpass\u001b[0m \u001b[0;34m=\u001b[0m \u001b[0mself\u001b[0m\u001b[0;34m.\u001b[0m\u001b[0mgetpass\u001b[0m\u001b[0;34m\u001b[0m\u001b[0m\n",
      "\u001b[0;32m/usr/local/lib/python2.7/dist-packages/ipykernel/kernelbase.pyc\u001b[0m in \u001b[0;36mraw_input\u001b[0;34m(self, prompt)\u001b[0m\n\u001b[1;32m    703\u001b[0m             \u001b[0mself\u001b[0m\u001b[0;34m.\u001b[0m\u001b[0m_parent_ident\u001b[0m\u001b[0;34m,\u001b[0m\u001b[0;34m\u001b[0m\u001b[0m\n\u001b[1;32m    704\u001b[0m             \u001b[0mself\u001b[0m\u001b[0;34m.\u001b[0m\u001b[0m_parent_header\u001b[0m\u001b[0;34m,\u001b[0m\u001b[0;34m\u001b[0m\u001b[0m\n\u001b[0;32m--> 705\u001b[0;31m             \u001b[0mpassword\u001b[0m\u001b[0;34m=\u001b[0m\u001b[0mFalse\u001b[0m\u001b[0;34m,\u001b[0m\u001b[0;34m\u001b[0m\u001b[0m\n\u001b[0m\u001b[1;32m    706\u001b[0m         )\n\u001b[1;32m    707\u001b[0m \u001b[0;34m\u001b[0m\u001b[0m\n",
      "\u001b[0;32m/usr/local/lib/python2.7/dist-packages/ipykernel/kernelbase.pyc\u001b[0m in \u001b[0;36m_input_request\u001b[0;34m(self, prompt, ident, parent, password)\u001b[0m\n\u001b[1;32m    733\u001b[0m             \u001b[0;32mexcept\u001b[0m \u001b[0mKeyboardInterrupt\u001b[0m\u001b[0;34m:\u001b[0m\u001b[0;34m\u001b[0m\u001b[0m\n\u001b[1;32m    734\u001b[0m                 \u001b[0;31m# re-raise KeyboardInterrupt, to truncate traceback\u001b[0m\u001b[0;34m\u001b[0m\u001b[0;34m\u001b[0m\u001b[0m\n\u001b[0;32m--> 735\u001b[0;31m                 \u001b[0;32mraise\u001b[0m \u001b[0mKeyboardInterrupt\u001b[0m\u001b[0;34m\u001b[0m\u001b[0m\n\u001b[0m\u001b[1;32m    736\u001b[0m             \u001b[0;32melse\u001b[0m\u001b[0;34m:\u001b[0m\u001b[0;34m\u001b[0m\u001b[0m\n\u001b[1;32m    737\u001b[0m                 \u001b[0;32mbreak\u001b[0m\u001b[0;34m\u001b[0m\u001b[0m\n",
      "\u001b[0;31mKeyboardInterrupt\u001b[0m: "
     ]
    }
   ],
   "source": [
    "moteurHumains()"
   ]
  },
  {
   "cell_type": "markdown",
   "metadata": {},
   "source": [
    "<font color=\"RED\" size=\"+1\">**[Q]**</font> Ecrire la fonction <tt>choixAleatoire(position)</tt> qui retourne un coup autorisé\n",
    "  pour la position donnée. Le coup est choisi de façon aléatoire parmi les coups autorisés\n",
    "  possibles dans la position donnée. Cette fonction rend la valeur 0 si aucun coup\n",
    "  autorisé n'est possible."
   ]
  },
  {
   "cell_type": "code",
   "execution_count": null,
   "metadata": {},
   "outputs": [],
   "source": [
    "def tousCoupsAutorises(position):\n",
    "    \"\"\"Retourne une liste de tous les coups autorisés pour la position donnée\"\"\"\n",
    "    \n",
    "    coupsAutorises = []\n",
    "    for coup in range(1,7):\n",
    "        if coupAutorise(position, coup):\n",
    "            coupsAutorises.append(coup)\n",
    "            \n",
    "    return coupsAutorises\n",
    "        \n",
    "def choixAleatoire(position):\n",
    "    \"\"\"Retourne un coup autorisé pour la position donnée\"\"\"\n",
    "    coupsAutorises = tousCoupsAutorises(position)\n",
    "    if len(coupsAutorises) == 0:\n",
    "        return 0\n",
    "    else:\n",
    "        return random.choice(coupsAutorises)"
   ]
  },
  {
   "cell_type": "markdown",
   "metadata": {},
   "source": [
    "<font color=\"RED\" size=\"+1\">**[Q]**</font> Ecrire la fonction <tt>moteurAleatoire(campCPU)</tt> permettant à un joueur humain\n",
    "  de jouer contre un ordinateur choisissant aléatoirement ses coups. L'argument\n",
    "  \\code{campCPU} donne le camp que doit gérer l'ordinateur (<tt>'SUD'</tt> ou <tt>'NORD'</tt>). "
   ]
  },
  {
   "cell_type": "code",
   "execution_count": null,
   "metadata": {},
   "outputs": [],
   "source": [
    "def moteurAleatoire(campCPU):\n",
    "    \"\"\"Affrontement entre un joueur humain et un ordi qui \n",
    "    choisi aléatoirement ses coups\n",
    "    campCPU = camp que doit gérer l'ordinateur ('SUD' ou 'NORD')\n",
    "    \"\"\"\n",
    "    pass"
   ]
  },
  {
   "cell_type": "markdown",
   "metadata": {},
   "source": [
    "## Joueur artificiel simple"
   ]
  },
  {
   "cell_type": "markdown",
   "metadata": {},
   "source": [
    "On considère la fonction d'évaluation suivante de la position $P$ :\n",
    "$$f(P) = \\left.\n",
    "  \\begin{array}{ll}\n",
    "        +1000      & \\mbox{si } P \\mbox{ est gagnée par sud} \\\\\n",
    "        -1000      & \\mbox{si } P \\mbox{ est gagnée par nord} \\\\\n",
    "        (2f_g(P,sud) + f_{12}(P,nord)) - (2f_g(P,nord) + f_{12}(P,sud))& \\mbox{sinon }\n",
    "   \\end{array} \\right.$$\n",
    "\n",
    "avec\n",
    "- $f_g(P,c)$ : nombre de graines déjà gagnées par le camp $c$ dans la position $P$\n",
    "- $f_{12}(P,c)$ : nombre de cases du camp $c$ contenant 1 ou 2 graines, dans la position $P$.\n",
    "\n"
   ]
  },
  {
   "cell_type": "markdown",
   "metadata": {},
   "source": [
    "<font color=\"RED\" size=\"+1\">**[Q]**</font> Ecrire la fonction <tt>evaluation(position)</tt> qui rend la valeur de l'évaluation de la position obtenue en utilisant la fonction $f$."
   ]
  },
  {
   "cell_type": "code",
   "execution_count": null,
   "metadata": {},
   "outputs": [],
   "source": []
  },
  {
   "cell_type": "markdown",
   "metadata": {},
   "source": [
    "<font color=\"RED\" size=\"+1\">**[Q]**</font> Ecrire la fonction <tt>evalueMinimax(position,prof)</tt> qui, pour la position donnée, retourne à la fois le meilleur coup à jouer trouvé par l'application de l'algorithme du minimax à une profondeur <tt>prof</tt>, ainsi que l'évaluation de la position obtenue pour ce coup.\n",
    "\n",
    "*Remarque* : cette fonction peut retourner un dictionnaire Python contenant deux champs: le\n",
    "champ <tt>\"coup\"</tt> et le champ <tt>\"valeur\"</tt>.\n"
   ]
  },
  {
   "cell_type": "code",
   "execution_count": null,
   "metadata": {},
   "outputs": [],
   "source": []
  },
  {
   "cell_type": "markdown",
   "metadata": {},
   "source": [
    "<font color=\"RED\" size=\"+1\">**[Q]**</font> Ecrire la fonction <tt>choixMinimax(position,prof)</tt> qui retourne un coup autorisé pour la position donnée. Le coup est choisi en appliquant l'algorithme minimax à une profondeur <tt>prof</tt>. Cette fonction rend la valeur 0 si aucun coup autorisé n'est possible.\n"
   ]
  },
  {
   "cell_type": "code",
   "execution_count": null,
   "metadata": {},
   "outputs": [],
   "source": []
  },
  {
   "cell_type": "markdown",
   "metadata": {},
   "source": [
    "<font color=\"RED\" size=\"+1\">**[Q]**</font> Ecrire la fonction <tt>moteurMinimax(camCPU,prof)</tt> permettant à un joueur humain de jouer contre l'ordinateur, celui-ci trouvant ses coups à l'aide de l'algorithme minimax, utilisé à une profondeur <tt>prof</tt>. L'argument <tt>campCPU</tt> donne le camp que doit gérer l'ordinateur (<tt>'SUD'</tt> ou <tt>'NORD'</tt>).\n"
   ]
  },
  {
   "cell_type": "code",
   "execution_count": null,
   "metadata": {},
   "outputs": [],
   "source": []
  },
  {
   "cell_type": "code",
   "execution_count": null,
   "metadata": {},
   "outputs": [],
   "source": [
    "# ------------------------- TEST\n",
    "maPosition = initialise(6)\n",
    "affichePosition(maPosition)\n",
    "maPosition2 = joueCoup(maPosition,1) # SUD joue\n",
    "maPosition2 = joueCoup(maPosition2,1) # NORD joue\n",
    "maPosition2 = joueCoup(maPosition2,2) # SUD joue\n",
    "maPosition2 = joueCoup(maPosition2,4) # NORD joue\n",
    "maPosition2 = joueCoup(maPosition2,3) # SUD joue\n",
    "maPosition2 = joueCoup(maPosition2,2) # NORD joue\n",
    "maPosition2 = joueCoup(maPosition2,5) # SUD joue\n",
    "affichePosition(maPosition2)\n",
    "\n",
    "maPosition = initialise(3)\n",
    "affichePosition(maPosition)\n",
    "maPosition2 = joueCoup(maPosition,1) # SUD joue\n",
    "maPosition2 = joueCoup(maPosition2,1) # NORD joue\n",
    "maPosition2 = joueCoup(maPosition2,3) # SUD joue\n",
    "maPosition2 = joueCoup(maPosition2,3) # NORD joue\n",
    "maPosition2 = joueCoup(maPosition2,1) # SUD joue\n",
    "affichePosition(maPosition2)\n",
    "maPosition2 = joueCoup(maPosition2,1) # NORD joue\n",
    "affichePosition(maPosition2)\n",
    "\n",
    "# --------\n",
    "#moteurHumains()\n",
    "#moteurAleatoire(\"SUD\")\n",
    "print(\"*************************\\n********* Partie minimax: \");\n",
    "# decommenter la ligne suivante:\n",
    "#moteurMinimax(\"SUD\",7)\n"
   ]
  },
  {
   "cell_type": "markdown",
   "metadata": {},
   "source": [
    "## Joueur artificiel élaboré"
   ]
  },
  {
   "cell_type": "markdown",
   "metadata": {},
   "source": [
    "<font color=\"RED\" size=\"+1\">**[Q]**</font> Ecrire la fonction <code>evalueAlphaBeta(position,prof,alpha,beta)</code> qui, pour la\n",
    "  position donnée, retourne à la fois le meilleur coup à jouer trouvé par l'application de\n",
    "  l'algorithme du alpha-bêta à une profondeur <code>prof</code>, avec les valeurs <code>alpha</code> et <code>beta</code> comme valeurs initiales, ainsi que l'évaluation de la position obtenue pour\n",
    "  ce coup."
   ]
  },
  {
   "cell_type": "code",
   "execution_count": null,
   "metadata": {},
   "outputs": [],
   "source": []
  },
  {
   "cell_type": "markdown",
   "metadata": {},
   "source": [
    "<font color=\"RED\" size=\"+1\">**[Q]**</font> Ecrire la fonction <code>choixAlphaBeta(position,prof)</code> qui retourne un coup autorisé\n",
    "  pour la position donnée. Le coup est choisi en appliquant l'algorithme alpha-bêta à une\n",
    "  profondeur <code>p</code>. Cette fonction rend la valeur 0 si aucun coup autorisé n'est possible.\n"
   ]
  },
  {
   "cell_type": "code",
   "execution_count": null,
   "metadata": {},
   "outputs": [],
   "source": []
  },
  {
   "cell_type": "markdown",
   "metadata": {},
   "source": [
    "<font color=\"RED\" size=\"+1\">**[Q]**</font> Ecrire la fonction <code>moteurAlphaBeta(camCPU,prof)</code> permettant à un joueur\n",
    "  humain de jouer contre l'ordinateur, celui-ci trouvant ses coups à l'aide de\n",
    "  l'algorithme alpha-bêta, utilisé à une profondeur <code>prof</code>. L'argument <code>campCPU</code>\n",
    "  donne le camp que doit gérer l'ordinateur (<code>'SUD'</code> ou <code>'NORD'</code>).\n"
   ]
  },
  {
   "cell_type": "code",
   "execution_count": null,
   "metadata": {},
   "outputs": [],
   "source": []
  },
  {
   "cell_type": "markdown",
   "metadata": {},
   "source": [
    "## Pour aller plus loin..."
   ]
  },
  {
   "cell_type": "markdown",
   "metadata": {},
   "source": [
    "Ne pas hésiter à ajouter des fonctionnalités ou des améliorations à votre programme.\n",
    "Par exemple :\n",
    "- une interface graphique pour afficher le tablier, saisir les coups,...\n",
    "- proposer une nouvelle fonction d'évaluation plus efficace que celle donnée dans\n",
    "  l'exercice 2. Tester le programme en le faisant jouer contre lui même un grand nombre de\n",
    "  fois (automatiquement).\n",
    "- ajouter la règle suivante: un coup qui retire toutes les graines du camp de\n",
    "  l'adversaire peut être quand même joué mais dans ce cas, aucune prise n'est effectuée.\n",
    "- toute autre amélioration que vous pouvez envisager.\n",
    "\n"
   ]
  },
  {
   "cell_type": "markdown",
   "metadata": {},
   "source": [
    "## Annexe : présentation du jeu d'Awélé\n",
    "\n",
    "L'Awélé est un jeu d'origine africaine qui se joue sur un plateau (ou tablier) où chacun des 2 joueurs (Sud et Nord) possède 6 cases.  Les règles de ce jeu  sont simples et facilement implémentables.\n",
    "\n",
    "Voir la page wikipédia (http://fr.wikipedia.org/wiki/Awalé) qui détaille les règles que nous utilisons ici, ainsi que le site http://s.helan.free.fr/awale/lejeu/jouer/ qui permet de s'initier en jouant\n",
    "  contre un joueur artificiel.\n",
    "\n",
    "### Règles du jeu\n",
    "Dans la position de départ, toutes les cases sont remplies avec 4 graines.  Le joueur dont\n",
    "c'est le tour de jeu (on considère que le camp Sud débute toujours la partie.) choisit une de ses cases contenant des graines, et en retire toutes les graines qu'elle contient.  Il sème alors ces graines une par une dans les cases suivantes dans le sens inverse des aiguilles d'une montre.  Au cours de cette pose, s'il repasse sur la case qui contenait les graines au départ, il n'y dépose pas de graine.\n",
    "\n",
    "Si la dernière graine est semée dans une case de l'adversaire contenant 2 ou 3 graines après la pose, les graines dans cette case sont capturées par le joueur et elles sont alors retirées du jeu (elles sont mises dans le butin du joueur).  Dans ce cas, si l'avant-dernière case est aussi une case ennemie contenant 2 ou 3 graines, les graines en sont aussi capturées, et ainsi de suite tant que des prises sont possibles (toujours dans le camp ennemi).\n",
    "\n",
    "Il est à noter qu'un coup n'effectue pas forcément une prise, mais si une prise existe à l'issue d'un coup, elle doit obligatoirement être réalisée totalement.\n",
    "\n",
    "A l'issue du coup ainsi exécuté, il doit rester au moins une graine dans l'une des cases de l'adversaire (il ne faut pas ''affamer'' l'adversaire) sinon la position est considérée comme illégale et le coup ne peut pas être joué.\n",
    "\n",
    "Dès qu'un joueur a capturé 25 graines ou plus, il est déclaré vainqueur de la partie et le jeu s'arrête.\n",
    "\n",
    "Dans le cas où un joueur ne peut pas jouer, la partie s'arrête et toutes les graines restant sur le tablier sont capturées par son adversaire.  Dans ce cas, le joueur qui a capturé le plus de graines a gagné.\n",
    "\n",
    "### Représentation du tablier\n",
    "\n",
    "Le tablier est toujours représenté avec les cases de Sud en bas.  \n",
    "Les cases sont ordonnées et repérées par des chiffres, de 1 à 6, de la gauche vers la droite. Dans chaque case, on indique le nombre de graines qu'elle contient. Ainsi, le tablier de départ classique est donné ci-dessous:\n",
    "\n",
    "<p />\n",
    "<table>\n",
    "<tr>\n",
    "<td>\n",
    "**NORD**\n",
    "\\begin{array}{|c|c|c|c|c|c|} \\hline\n",
    "      4 & 4 & 4 & 4 &\t4 & 4\\\\\n",
    "      \\hline\n",
    "      4 & 4 & 4 & 4 & 4 & 4\\\\\n",
    "      \\hline\n",
    "\\end{array}\n",
    "**SUD**\n",
    "\n",
    "\\begin{array}{cccccc} \n",
    "      1 & 2 & 3 & 4 & 5 & 6\\\\\n",
    "\\end{array}\n",
    "</td>\n",
    "</tr>\n",
    "</table>\n",
    "\n",
    "Un coup est noté en donnant le camp qui joue ainsi que le numéro de la case qui est vidée.  Par exemple, $($SUD$, 2)$ si le camp Sud joue en prenant les graines de la deuxième case en partant de la gauche qui se trouve dans son camp. Ou alors, $($NORD$, 6)$ si le camp Nord joue en prenant les graines de la case numéro 6 qui se trouve dans son camp, c'est à dire la sixième case en partant de la gauche qui se trouve dans son camp, soit celle la plus en haut et à droite du tablier.\n",
    "\n",
    "\n",
    "### Exemple de coup avec prise de graines\n",
    "\n",
    "A partir de la position située à gauche dans la figure ci-dessous, Sud décide de jouer le coup $4$.  La position au centre de la figure montre la situation intermédiaire, suite au dépôt des $6$ graines dans les $6$ cases qui suivent la case $4$ dans l'ordre inverse des aiguilles d'une montre.\n",
    "\n",
    "<p />\n",
    "<table>\n",
    "<tr>\n",
    "<td>Départ</td>\n",
    "<td>SUD a réparti les graines de $4$</td>\n",
    "<td>SUD retire les graines dans le camp NORD</td>\n",
    "</tr>\n",
    "<tr>\n",
    "<td>\n",
    "**NORD**\n",
    "\\begin{array}{|c|c|c|c|c|c|} \\hline\n",
    " & 2 & 1 & 2 & 1 & 1\\\\\n",
    "\\hline\n",
    "1 & & & {\\bf 6} & & 1\\\\\n",
    "     \\hline\n",
    "\\end{array}\n",
    "**SUD**\n",
    "\\begin{array}{cccccc} \n",
    "      1 & 2 & 3 & 4 & 5 & 6\\\\\n",
    "\\end{array}\n",
    "\n",
    "</td>\n",
    "<td>\n",
    "**NORD**\n",
    "\\begin{array}{|c|c|c|c|c|c|} \\hline\n",
    "& 2 & {\\bf 2} & {\\bf 3} & {\\bf 2} & {\\bf 2}\\\\\n",
    "\\hline\n",
    "1 & & & & {\\bf 1} & {\\bf 2}\\\\\n",
    "      \\hline\n",
    "\\end{array}\n",
    "**SUD**\n",
    "\n",
    "\\begin{array}{cccccc} \n",
    "      1 & 2 & 3 & 4 & 5 & 6\\\\\n",
    "\\end{array}\n",
    "</td>\n",
    "<td>\n",
    "**NORD**\n",
    "\\begin{array}{|c|c|c|c|c|c|} \\hline\n",
    "& 2 & & & & \\\\\n",
    "\\hline\n",
    "1 & & & & {\\bf 1} & {\\bf 2}\\\\\n",
    "      \\hline\n",
    "\\end{array}\n",
    "**SUD**\n",
    "\n",
    "\\begin{array}{cccccc} \n",
    "      1 & 2 & 3 & 4 & 5 & 6\\\\\n",
    "\\end{array}\n",
    "</td>\n",
    "</tr>\n",
    "\n",
    "</table>\n",
    "\n",
    "\n",
    "Comme la dernière case où une graine a été posée (la case $3$ du camp Nord) contient maintenant $2$ graines, celles-ci sont prises par Sud, ainsi que celles des cases $4$, $5$ et $6$ qui contiennent (en suivant cet ordre) $2$ ou $3$ graines.  Au total, avec ce coup, Sud prend $9$ graines.  A l'issue des prises réalisées, on obtient finalement la nouvelle position présentée à droite de la figure.  Maintenant, Nord n'a qu'une seule possibilité et doit jouer les graines de la case $2$."
   ]
  },
  {
   "cell_type": "markdown",
   "metadata": {},
   "source": [
    "## Annexe : un peu de langage Python...\n",
    "\n",
    "### Documentation\n",
    "\n",
    "Quelques liens utiles pour se documenter sur le langage Python :\n",
    "- site du L1: https://www-licence.ufr-info-p6.jussieu.fr/lmd/licence/2017/ue/1I001-2017oct/ \n",
    "En particulier, il peut être intéressant de consulter la carte de référence de l'UE de L1\n",
    "-  tutorial: http://python.developpez.com/cours/\n",
    "- documentation officielle: https://docs.python.org/\n",
    "\n",
    "### Quelques fonctions utiles\n",
    "\n",
    "- Saisie d'une valeur au clavier (noter que la fonction <code>input</code> retourne une chaîne de caractères) :\n",
    "    <pre>\n",
    "    saisie = input(\"Entrez un nombre :\")\n",
    "    </pre>\n",
    "- Pour utiliser des fonctions de gestion de l'aléatoire :\n",
    "    <pre>\n",
    "import random\n",
    "    </pre>\n",
    "    - génération d'une valeur aléatoire comprise entre 1 et 10 inclus :\n",
    "    <pre>\n",
    "random.randint(1,10)\n",
    "    </pre>\n",
    "    - tirage aléatoire d'un élément dans une liste :\n",
    "    <pre>\n",
    "random.choice(['a','b','c','d','e','f'])\n",
    "    </pre>"
   ]
  }
 ],
 "metadata": {
  "kernelspec": {
   "display_name": "Python 2",
   "language": "python",
   "name": "python2"
  },
  "language_info": {
   "codemirror_mode": {
    "name": "ipython",
    "version": 2
   },
   "file_extension": ".py",
   "mimetype": "text/x-python",
   "name": "python",
   "nbconvert_exporter": "python",
   "pygments_lexer": "ipython2",
   "version": "2.7.9"
  }
 },
 "nbformat": 4,
 "nbformat_minor": 1
}
